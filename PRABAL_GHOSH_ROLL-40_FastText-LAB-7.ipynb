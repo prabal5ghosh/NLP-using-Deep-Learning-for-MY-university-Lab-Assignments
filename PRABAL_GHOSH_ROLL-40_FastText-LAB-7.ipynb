{
 "cells": [
  {
   "cell_type": "code",
   "execution_count": 1,
   "metadata": {},
   "outputs": [],
   "source": [
    "#  FASTTEXT    LAB-7\n",
    "\n",
    "def normalize(text):\n",
    "    return(text.lower())"
   ]
  },
  {
   "cell_type": "code",
   "execution_count": 2,
   "metadata": {},
   "outputs": [],
   "source": [
    "import re\n",
    "def removenumbers(text):\n",
    "    text = re.sub(\"\\d+\", \"\", text)\n",
    "    return text"
   ]
  },
  {
   "cell_type": "code",
   "execution_count": 3,
   "metadata": {},
   "outputs": [],
   "source": [
    "import nltk\n",
    "# nltk.download('punkt')\n",
    "from nltk import sent_tokenize\n",
    "\n",
    "def makesentences(text):\n",
    "    s = re.sub(\"\\n\", \" \", text)\n",
    "    s = sent_tokenize(s)\n",
    "    temp=[]\n",
    "    for sen in s:\n",
    "        temp.append(re.sub(\"\\W\", \" \", sen))\n",
    "    return temp"
   ]
  },
  {
   "cell_type": "code",
   "execution_count": 4,
   "metadata": {},
   "outputs": [],
   "source": [
    "def preprocess(text):\n",
    "    text = normalize(text)\n",
    "    text = removenumbers(text)\n",
    "    text = makesentences(text)\n",
    "    return(text)"
   ]
  },
  {
   "cell_type": "code",
   "execution_count": 5,
   "metadata": {},
   "outputs": [],
   "source": [
    "#The corona text for lab 5:\n",
    "\n",
    "data=[]\n",
    "n=19 #18 Texts of corona text\n",
    "for i in range(1,n):\n",
    "   # path=\"mb/maha\"+str(i) + '.txt'\n",
    "    #print(path)\n",
    "    file =open('C:/Users/Prabal Ghosh/Desktop/text_lab5.txt',encoding=\"utf8\",errors='ignore')\n",
    "    lines = file.read()\n",
    "    doc = preprocess(lines)\n",
    "    data.append(doc)"
   ]
  },
  {
   "cell_type": "code",
   "execution_count": 6,
   "metadata": {},
   "outputs": [
    {
     "name": "stdout",
     "output_type": "stream",
     "text": [
      "65394\n",
      "['by', 'marking', 'them', 'offensive']\n"
     ]
    }
   ],
   "source": [
    "sent= []\n",
    "for doc in data:\n",
    "    for s in doc:\n",
    "        sent.append(s.split()) \n",
    "        \n",
    "print(len(sent))\n",
    "print(sent[10000])"
   ]
  },
  {
   "cell_type": "code",
   "execution_count": 7,
   "metadata": {},
   "outputs": [
    {
     "name": "stderr",
     "output_type": "stream",
     "text": [
      "C:\\Users\\Prabal Ghosh\\anaconda3\\lib\\site-packages\\gensim\\similarities\\__init__.py:15: UserWarning: The gensim.similarities.levenshtein submodule is disabled, because the optional Levenshtein package <https://pypi.org/project/python-Levenshtein/> is unavailable. Install Levenhstein (e.g. `pip install python-Levenshtein`) to suppress this warning.\n",
      "  warnings.warn(msg)\n"
     ]
    }
   ],
   "source": [
    "from gensim.models import FastText"
   ]
  },
  {
   "cell_type": "code",
   "execution_count": 8,
   "metadata": {},
   "outputs": [],
   "source": [
    "model = FastText(sent,vector_size=100,window=1)"
   ]
  },
  {
   "cell_type": "code",
   "execution_count": 9,
   "metadata": {},
   "outputs": [
    {
     "name": "stdout",
     "output_type": "stream",
     "text": [
      "government\t==>  governments, governs, governorship, alignment, governor, deployment, ailment, employment, judgement, amendment, \n",
      "\n",
      "covid\t==>  cov, co, coca, cozy, cola, contains, cox, code, copy, contract, \n",
      "\n",
      "virus\t==>  adenovirus, viruse, coronavirus, coronaviruse, coronaviruses, viruses, corona, coronary, virulent, yunus, \n",
      "\n",
      "market\t==>  markets, openmarket, markit, supermarket, markle, mark, markedly, marc, marks, marwat, \n",
      "\n",
      "distress\t==>  actress, stress, dress, xpress, express, impress, suppress, progress, address, dispute, \n",
      "\n",
      "country\t==>  count, county, counterpart, countries, counselors, counterparts, counties, counselor, council, counter, \n",
      "\n",
      "project\t==>  projects, prompt, pro, proud, pros, promote, profit, prophecy, protect, proven, \n",
      "\n"
     ]
    }
   ],
   "source": [
    "words = ['government','covid','virus','market','distress','country','project']\n",
    "for i in range(len(words)):\n",
    "    print(words[i], end=\"\\t==>  \")\n",
    "    similar = model.wv.most_similar(words[i], topn = 10)\n",
    "    for j in range(len(similar)):\n",
    "        print(similar[j][0],end =\", \")\n",
    "    print(\"\\n\")\n",
    "\n",
    "    "
   ]
  },
  {
   "cell_type": "code",
   "execution_count": null,
   "metadata": {},
   "outputs": [],
   "source": []
  },
  {
   "cell_type": "code",
   "execution_count": null,
   "metadata": {},
   "outputs": [],
   "source": []
  },
  {
   "cell_type": "code",
   "execution_count": null,
   "metadata": {},
   "outputs": [],
   "source": []
  }
 ],
 "metadata": {
  "kernelspec": {
   "display_name": "Python 3",
   "language": "python",
   "name": "python3"
  },
  "language_info": {
   "codemirror_mode": {
    "name": "ipython",
    "version": 3
   },
   "file_extension": ".py",
   "mimetype": "text/x-python",
   "name": "python",
   "nbconvert_exporter": "python",
   "pygments_lexer": "ipython3",
   "version": "3.8.3"
  }
 },
 "nbformat": 4,
 "nbformat_minor": 4
}
