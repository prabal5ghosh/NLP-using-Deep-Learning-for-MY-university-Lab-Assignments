{
 "cells": [
  {
   "cell_type": "code",
   "execution_count": 39,
   "metadata": {},
   "outputs": [],
   "source": [
    "# pip install glove-python-binary"
   ]
  },
  {
   "cell_type": "code",
   "execution_count": 40,
   "metadata": {},
   "outputs": [],
   "source": [
    "from glove import Corpus, Glove"
   ]
  },
  {
   "cell_type": "code",
   "execution_count": 41,
   "metadata": {},
   "outputs": [],
   "source": [
    "def normalize(text):\n",
    "    return(text.lower())"
   ]
  },
  {
   "cell_type": "code",
   "execution_count": 42,
   "metadata": {},
   "outputs": [],
   "source": [
    "import re\n",
    "def removenumbers(text):\n",
    "    text = re.sub(\"\\d+\", \"\", text)\n",
    "    return text"
   ]
  },
  {
   "cell_type": "code",
   "execution_count": 43,
   "metadata": {},
   "outputs": [],
   "source": [
    "import nltk\n",
    "# nltk.download('punkt')\n",
    "from nltk import sent_tokenize\n",
    "\n",
    "def makesentences(text):\n",
    "    s = re.sub(\"\\n\", \" \", text)\n",
    "    s = sent_tokenize(s)\n",
    "    temp=[]\n",
    "    for sen in s:\n",
    "        temp.append(re.sub(\"\\W\", \" \", sen))\n",
    "    return temp"
   ]
  },
  {
   "cell_type": "code",
   "execution_count": 44,
   "metadata": {},
   "outputs": [],
   "source": [
    "def preprocess(text):\n",
    "    text = normalize(text)\n",
    "    text = removenumbers(text)\n",
    "    text = makesentences(text)\n",
    "    return(text)"
   ]
  },
  {
   "cell_type": "code",
   "execution_count": 45,
   "metadata": {},
   "outputs": [],
   "source": [
    "#The Mahabharata corpus is taken form the following website:\n",
    "#https://www.sacred-texts.com/hin/maha/ \n",
    "data=[]\n",
    "n=19 #18 Texts of Mahabharatha\n",
    "for i in range(1,n):\n",
    "   # path=\"mb/maha\"+str(i) + '.txt'\n",
    "    #print(path)\n",
    "    file =open('C:/Users/Prabal Ghosh/Desktop/text_lab5.txt',encoding=\"utf8\",errors='ignore')\n",
    "    lines = file.read()\n",
    "    doc = preprocess(lines)\n",
    "    data.append(doc)"
   ]
  },
  {
   "cell_type": "code",
   "execution_count": 46,
   "metadata": {},
   "outputs": [
    {
     "name": "stdout",
     "output_type": "stream",
     "text": [
      "65394\n",
      "['by', 'marking', 'them', 'offensive']\n"
     ]
    }
   ],
   "source": [
    "sent= []\n",
    "for doc in data:\n",
    "    for s in doc:\n",
    "        sent.append(s.split()) \n",
    "        \n",
    "print(len(sent))\n",
    "print(sent[10000])"
   ]
  },
  {
   "cell_type": "code",
   "execution_count": 47,
   "metadata": {},
   "outputs": [],
   "source": [
    "corpus = Corpus() #Corpus Object\n",
    "\n",
    "#create the co-occurrence matrix for text data with respect to a context window\n",
    "corpus.fit(sent, window=10)\n",
    "\n",
    "##corpus --> co-occ Mat\n"
   ]
  },
  {
   "cell_type": "code",
   "execution_count": 48,
   "metadata": {},
   "outputs": [],
   "source": [
    "#Golve object\n",
    "glove = Glove(no_components=25) #size of vectors"
   ]
  },
  {
   "cell_type": "code",
   "execution_count": 49,
   "metadata": {},
   "outputs": [
    {
     "data": {
      "text/plain": [
       "28.73714303970337"
      ]
     },
     "execution_count": 49,
     "metadata": {},
     "output_type": "execute_result"
    }
   ],
   "source": [
    "#only once\n",
    "import time\n",
    "start = time.time()\n",
    "glove.fit(corpus.matrix, epochs=50, no_threads=4)## co-occ --> word embeddings\n",
    "glove.add_dictionary(corpus.dictionary)\n",
    "glove.save('glove.model')\n",
    "end = time.time()\n",
    "end-start"
   ]
  },
  {
   "cell_type": "code",
   "execution_count": 50,
   "metadata": {},
   "outputs": [
    {
     "data": {
      "text/plain": [
       "<glove.glove.Glove at 0x168224e4fd0>"
      ]
     },
     "execution_count": 50,
     "metadata": {},
     "output_type": "execute_result"
    }
   ],
   "source": [
    "glove.load('glove.model')"
   ]
  },
  {
   "cell_type": "code",
   "execution_count": 51,
   "metadata": {},
   "outputs": [
    {
     "data": {
      "text/plain": [
       "9804"
      ]
     },
     "execution_count": 51,
     "metadata": {},
     "output_type": "execute_result"
    }
   ],
   "source": [
    "len(corpus.dictionary)"
   ]
  },
  {
   "cell_type": "code",
   "execution_count": 52,
   "metadata": {},
   "outputs": [
    {
     "data": {
      "text/plain": [
       "array([-0.136424  ,  0.04581786, -0.12322638,  0.21661493, -0.27172236,\n",
       "        0.24132478,  0.07825552, -0.48377258,  0.00503806,  0.03565356,\n",
       "        0.50739617,  0.06962791,  0.0987462 ,  0.56256953,  0.45183599,\n",
       "        0.09224275, -0.61575378,  0.24054331,  0.24571108, -0.23212441,\n",
       "       -0.06336005,  0.36630975,  0.32359689, -0.05435675,  0.16597041])"
      ]
     },
     "execution_count": 52,
     "metadata": {},
     "output_type": "execute_result"
    }
   ],
   "source": [
    "glove.word_vectors[glove.dictionary['covid']]"
   ]
  },
  {
   "cell_type": "code",
   "execution_count": 53,
   "metadata": {},
   "outputs": [
    {
     "data": {
      "text/plain": [
       "[('novel', 0.8557255911010934),\n",
       " ('zealanders', 0.8369990020263043),\n",
       " ('concepts', 0.7819073853081205),\n",
       " ('project', 0.7713524490760891)]"
      ]
     },
     "execution_count": 53,
     "metadata": {},
     "output_type": "execute_result"
    }
   ],
   "source": [
    "glove.most_similar('covid')"
   ]
  },
  {
   "cell_type": "code",
   "execution_count": 54,
   "metadata": {},
   "outputs": [],
   "source": [
    "D = {word: glove.word_vectors[glove.dictionary[word]] for word in glove.dictionary.keys()}"
   ]
  },
  {
   "cell_type": "code",
   "execution_count": 55,
   "metadata": {},
   "outputs": [
    {
     "data": {
      "text/plain": [
       "array([-0.136424  ,  0.04581786, -0.12322638,  0.21661493, -0.27172236,\n",
       "        0.24132478,  0.07825552, -0.48377258,  0.00503806,  0.03565356,\n",
       "        0.50739617,  0.06962791,  0.0987462 ,  0.56256953,  0.45183599,\n",
       "        0.09224275, -0.61575378,  0.24054331,  0.24571108, -0.23212441,\n",
       "       -0.06336005,  0.36630975,  0.32359689, -0.05435675,  0.16597041])"
      ]
     },
     "execution_count": 55,
     "metadata": {},
     "output_type": "execute_result"
    }
   ],
   "source": [
    "D['covid']"
   ]
  },
  {
   "cell_type": "code",
   "execution_count": null,
   "metadata": {},
   "outputs": [],
   "source": []
  },
  {
   "cell_type": "code",
   "execution_count": null,
   "metadata": {},
   "outputs": [],
   "source": []
  },
  {
   "cell_type": "code",
   "execution_count": null,
   "metadata": {},
   "outputs": [],
   "source": []
  }
 ],
 "metadata": {
  "kernelspec": {
   "display_name": "Python 3",
   "language": "python",
   "name": "python3"
  },
  "language_info": {
   "codemirror_mode": {
    "name": "ipython",
    "version": 3
   },
   "file_extension": ".py",
   "mimetype": "text/x-python",
   "name": "python",
   "nbconvert_exporter": "python",
   "pygments_lexer": "ipython3",
   "version": "3.8.3"
  }
 },
 "nbformat": 4,
 "nbformat_minor": 4
}
