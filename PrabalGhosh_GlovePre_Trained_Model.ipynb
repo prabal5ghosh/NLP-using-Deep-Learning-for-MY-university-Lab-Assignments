{
 "cells": [
  {
   "cell_type": "code",
   "execution_count": null,
   "metadata": {
    "colab": {
     "base_uri": "https://localhost:8080/"
    },
    "id": "kDndEoo2YGKJ",
    "outputId": "c2d74a0c-2345-4ab0-80ab-1572757e8c5a"
   },
   "outputs": [
    {
     "name": "stdout",
     "output_type": "stream",
     "text": [
      "Mounted at /content/gdrive/\n"
     ]
    }
   ],
   "source": [
    "from google.colab import drive\n",
    "drive.mount('/content/gdrive/')"
   ]
  },
  {
   "cell_type": "code",
   "execution_count": null,
   "metadata": {
    "colab": {
     "base_uri": "https://localhost:8080/"
    },
    "id": "pPzqtPErYJ_4",
    "outputId": "e3d0eb5c-ed7b-41f8-fdb3-d3f5256c91c4"
   },
   "outputs": [
    {
     "name": "stdout",
     "output_type": "stream",
     "text": [
      "/content/gdrive/MyDrive/New\n"
     ]
    }
   ],
   "source": [
    "%cd /content/gdrive/MyDrive/New"
   ]
  },
  {
   "cell_type": "code",
   "execution_count": null,
   "metadata": {
    "colab": {
     "base_uri": "https://localhost:8080/"
    },
    "id": "ep5272jPYDJT",
    "outputId": "9e686aee-9d04-4368-ae9d-0480404ff275"
   },
   "outputs": [
    {
     "name": "stdout",
     "output_type": "stream",
     "text": [
      "--2021-05-11 13:38:49--  http://nlp.stanford.edu/data/glove.6B.zip\n",
      "Resolving nlp.stanford.edu (nlp.stanford.edu)... 171.64.67.140\n",
      "Connecting to nlp.stanford.edu (nlp.stanford.edu)|171.64.67.140|:80... connected.\n",
      "HTTP request sent, awaiting response... 302 Found\n",
      "Location: https://nlp.stanford.edu/data/glove.6B.zip [following]\n",
      "--2021-05-11 13:38:49--  https://nlp.stanford.edu/data/glove.6B.zip\n",
      "Connecting to nlp.stanford.edu (nlp.stanford.edu)|171.64.67.140|:443... connected.\n",
      "HTTP request sent, awaiting response... 301 Moved Permanently\n",
      "Location: http://downloads.cs.stanford.edu/nlp/data/glove.6B.zip [following]\n",
      "--2021-05-11 13:38:49--  http://downloads.cs.stanford.edu/nlp/data/glove.6B.zip\n",
      "Resolving downloads.cs.stanford.edu (downloads.cs.stanford.edu)... 171.64.64.22\n",
      "Connecting to downloads.cs.stanford.edu (downloads.cs.stanford.edu)|171.64.64.22|:80... connected.\n",
      "HTTP request sent, awaiting response... 200 OK\n",
      "Length: 862182613 (822M) [application/zip]\n",
      "Saving to: ‘glove.6B.zip’\n",
      "\n",
      "glove.6B.zip        100%[===================>] 822.24M  4.38MB/s    in 3m 39s  \n",
      "\n",
      "2021-05-11 13:42:28 (3.76 MB/s) - ‘glove.6B.zip’ saved [862182613/862182613]\n",
      "\n"
     ]
    }
   ],
   "source": [
    "!wget http://nlp.stanford.edu/data/glove.6B.zip\n",
    "!unzip -q glove.6B.zip"
   ]
  },
  {
   "cell_type": "code",
   "execution_count": null,
   "metadata": {
    "colab": {
     "base_uri": "https://localhost:8080/"
    },
    "id": "FakG6zVcZAHy",
    "outputId": "8bb34596-d2a5-4e84-e6e6-82cf396c504c"
   },
   "outputs": [
    {
     "name": "stdout",
     "output_type": "stream",
     "text": [
      " cbow.model\t\t\t  glove.6B.200d.txt   glove.model\n",
      " fastText.mal.model\t\t  glove.6B.300d.txt  'text (1).txt'\n",
      " fastText.mal.model.vectors.npy   glove.6B.50d.txt    wiki.ml.vec\n",
      " glove.6B.100d.txt\t\t  glove.6B.zip\n"
     ]
    }
   ],
   "source": [
    "!ls"
   ]
  },
  {
   "cell_type": "code",
   "execution_count": null,
   "metadata": {
    "id": "HZVkhEekZedh"
   },
   "outputs": [],
   "source": [
    "import numpy as np\n",
    "\n",
    "fn = \"glove.6B.100d.txt\"\n",
    "g_file = open(fn)"
   ]
  },
  {
   "cell_type": "code",
   "execution_count": null,
   "metadata": {
    "id": "2yI5pvgAZjBd"
   },
   "outputs": [],
   "source": [
    "model={}\n",
    "for line in g_file:\n",
    "    parts = line.split()\n",
    "    word = parts[0]\n",
    "    embedding = np.array([float(val) for val in parts[1:]])\n",
    "    model[word] = embedding\n",
    "#key-value\n",
    "#the -0.44556 9.889898 ...."
   ]
  },
  {
   "cell_type": "code",
   "execution_count": 28,
   "metadata": {
    "colab": {
     "base_uri": "https://localhost:8080/"
    },
    "id": "LQagMFLmZz1g",
    "outputId": "e8160e10-d59f-44be-8545-9112afc007ef"
   },
   "outputs": [
    {
     "data": {
      "text/plain": [
       "array([-0.90629  ,  1.2485   , -0.79692  , -1.4027   , -0.038458 ,\n",
       "       -0.25177  , -1.2838   , -0.58413  , -0.11179  , -0.56908  ,\n",
       "       -0.34842  , -0.39626  , -0.0090178, -1.0691   , -0.35368  ,\n",
       "       -0.052826 , -0.37056  ,  1.0931   , -0.19205  ,  0.44648  ,\n",
       "        0.45169  ,  0.72104  , -0.61103  ,  0.6315   , -0.49044  ,\n",
       "       -1.7517   ,  0.055979 , -0.52281  , -1.0248   , -0.89142  ,\n",
       "        3.0695   ,  0.14483  , -0.13938  , -1.3907   ,  1.2123   ,\n",
       "        0.40173  ,  0.4171   ,  0.27364  ,  0.98673  ,  0.027599 ,\n",
       "       -0.8724   , -0.51648  , -0.30662  ,  0.37784  ,  0.016734 ,\n",
       "        0.23813  ,  0.49411  , -0.56643  , -0.18744  ,  0.62809  ],\n",
       "      dtype=float32)"
      ]
     },
     "execution_count": 28,
     "metadata": {
      "tags": []
     },
     "output_type": "execute_result"
    }
   ],
   "source": [
    "model['school']"
   ]
  },
  {
   "cell_type": "code",
   "execution_count": null,
   "metadata": {
    "colab": {
     "base_uri": "https://localhost:8080/"
    },
    "id": "lQ2OWCGACFMd",
    "outputId": "81c9eb9d-1f9b-4879-b6ab-841cfbc55290"
   },
   "outputs": [
    {
     "name": "stdout",
     "output_type": "stream",
     "text": [
      "Collecting gensim\n",
      "\u001b[?25l  Downloading https://files.pythonhosted.org/packages/44/52/f1417772965652d4ca6f901515debcd9d6c5430969e8c02ee7737e6de61c/gensim-4.0.1-cp37-cp37m-manylinux1_x86_64.whl (23.9MB)\n",
      "\u001b[K     |████████████████████████████████| 23.9MB 155kB/s \n",
      "\u001b[?25hRequirement already satisfied, skipping upgrade: numpy>=1.11.3 in /usr/local/lib/python3.7/dist-packages (from gensim) (1.19.5)\n",
      "Requirement already satisfied, skipping upgrade: smart-open>=1.8.1 in /usr/local/lib/python3.7/dist-packages (from gensim) (5.0.0)\n",
      "Requirement already satisfied, skipping upgrade: scipy>=0.18.1 in /usr/local/lib/python3.7/dist-packages (from gensim) (1.4.1)\n",
      "Installing collected packages: gensim\n",
      "  Found existing installation: gensim 3.6.0\n",
      "    Uninstalling gensim-3.6.0:\n",
      "      Successfully uninstalled gensim-3.6.0\n",
      "Successfully installed gensim-4.0.1\n"
     ]
    }
   ],
   "source": [
    "!pip install --upgrade gensim"
   ]
  },
  {
   "cell_type": "code",
   "execution_count": null,
   "metadata": {
    "id": "PkgnR9IKEWFk"
   },
   "outputs": [],
   "source": [
    "from gensim.models import KeyedVectors"
   ]
  },
  {
   "cell_type": "code",
   "execution_count": null,
   "metadata": {
    "id": "PvWcNjR3DUnl"
   },
   "outputs": [],
   "source": [
    "from gensim.scripts.glove2word2vec import glove2word2vec"
   ]
  },
  {
   "cell_type": "code",
   "execution_count": null,
   "metadata": {
    "colab": {
     "base_uri": "https://localhost:8080/"
    },
    "id": "s1ZyM2ffOnKH",
    "outputId": "2513fae0-10d8-43e0-e496-2ec7e4c3a1f9"
   },
   "outputs": [
    {
     "name": "stderr",
     "output_type": "stream",
     "text": [
      "/usr/local/lib/python3.7/dist-packages/ipykernel_launcher.py:3: DeprecationWarning: Call to deprecated `glove2word2vec` (KeyedVectors.load_word2vec_format(.., binary=False, no_header=True) loads GLoVE text vectors.).\n",
      "  This is separate from the ipykernel package so we can avoid doing imports until\n"
     ]
    },
    {
     "data": {
      "text/plain": [
       "(400000, 50)"
      ]
     },
     "execution_count": 12,
     "metadata": {
      "tags": []
     },
     "output_type": "execute_result"
    }
   ],
   "source": [
    "glove_file = 'glove.6B.50d.txt'\n",
    "word2vec_glove_file = 'glove.6B.50d.word2vec.txt'\n",
    "glove2word2vec(glove_file, word2vec_glove_file)"
   ]
  },
  {
   "cell_type": "code",
   "execution_count": null,
   "metadata": {
    "id": "LiUXEtLnOmr1"
   },
   "outputs": [],
   "source": [
    "word2vec_glove_file = 'glove.6B.50d.word2vec.txt'\n",
    "model = KeyedVectors.load_word2vec_format(word2vec_glove_file)\n",
    "model.save('glove50.model')"
   ]
  },
  {
   "cell_type": "code",
   "execution_count": null,
   "metadata": {
    "id": "T-OK9AkJHAM_"
   },
   "outputs": [],
   "source": [
    "model = KeyedVectors.load('glove50.model')"
   ]
  },
  {
   "cell_type": "code",
   "execution_count": 29,
   "metadata": {
    "colab": {
     "base_uri": "https://localhost:8080/"
    },
    "id": "doVR4agwGWQn",
    "outputId": "7770359d-2b74-4d27-a52a-bd7334480a30"
   },
   "outputs": [
    {
     "data": {
      "text/plain": [
       "array([ 0.029239,  1.3932  , -0.63257 ,  1.4428  , -0.2371  , -0.16312 ,\n",
       "        0.028908,  0.47163 ,  0.4698  , -0.15165 , -0.22802 , -1.374   ,\n",
       "       -0.56937 ,  0.18    ,  1.6237  , -0.27864 ,  0.47416 ,  0.31183 ,\n",
       "       -1.6133  , -0.64953 ,  0.47584 , -0.24477 , -0.3199  ,  0.17125 ,\n",
       "        0.41976 , -0.98547 , -0.81791 , -0.47376 , -0.40819 ,  0.24948 ,\n",
       "        2.7581  ,  0.79498 , -0.48018 , -0.51766 , -0.57829 , -0.13674 ,\n",
       "        0.79869 ,  0.69494 , -0.92537 , -0.50717 , -0.41065 , -0.58304 ,\n",
       "       -0.26909 ,  0.19583 ,  0.42346 , -0.21672 ,  0.08189 , -0.32385 ,\n",
       "       -0.33378 ,  0.18497 ], dtype=float32)"
      ]
     },
     "execution_count": 29,
     "metadata": {
      "tags": []
     },
     "output_type": "execute_result"
    }
   ],
   "source": [
    "model['event']"
   ]
  },
  {
   "cell_type": "code",
   "execution_count": 30,
   "metadata": {
    "colab": {
     "base_uri": "https://localhost:8080/"
    },
    "id": "jsMUJcjpP3zr",
    "outputId": "57e8804b-2fc6-4d7e-e83e-b93f0b847b85"
   },
   "outputs": [
    {
     "data": {
      "text/plain": [
       "[('services', 0.7463098764419556),\n",
       " ('maintain', 0.7425229549407959),\n",
       " ('provide', 0.7236298322677612),\n",
       " ('assistance', 0.7208468914031982),\n",
       " ('access', 0.7048711776733398),\n",
       " ('providing', 0.698054313659668),\n",
       " ('maintains', 0.6942920684814453),\n",
       " ('private', 0.692406415939331),\n",
       " ('citizens', 0.689971923828125),\n",
       " ('maintaining', 0.6797581315040588)]"
      ]
     },
     "execution_count": 30,
     "metadata": {
      "tags": []
     },
     "output_type": "execute_result"
    }
   ],
   "source": [
    "model.most_similar(positive=['service', 'support'], negative=['series'])"
   ]
  },
  {
   "cell_type": "code",
   "execution_count": null,
   "metadata": {
    "colab": {
     "base_uri": "https://localhost:8080/"
    },
    "id": "puoHPbEpQDuk",
    "outputId": "49df72c8-81ac-44c6-a94f-bfcf3e47d8eb"
   },
   "outputs": [
    {
     "data": {
      "text/plain": [
       "[('traders', 0.8715122938156128),\n",
       " ('markets', 0.8484352827072144),\n",
       " ('analysts', 0.8480893969535828),\n",
       " ('bankers', 0.8326947093009949),\n",
       " ('brokers', 0.8300837874412537),\n",
       " ('buying', 0.8260303139686584),\n",
       " ('banks', 0.8227967619895935),\n",
       " ('stock', 0.8221842646598816),\n",
       " ('investor', 0.8197444081306458),\n",
       " ('market', 0.8141677379608154)]"
      ]
     },
     "execution_count": 18,
     "metadata": {
      "tags": []
     },
     "output_type": "execute_result"
    }
   ],
   "source": [
    "model.most_similar('investors')"
   ]
  },
  {
   "cell_type": "code",
   "execution_count": 31,
   "metadata": {
    "colab": {
     "base_uri": "https://localhost:8080/"
    },
    "id": "Q0O3DhVNQhdB",
    "outputId": "49f85ede-aa78-42c1-db96-3d3ae0209f13"
   },
   "outputs": [
    {
     "data": {
      "text/plain": [
       "1.0"
      ]
     },
     "execution_count": 31,
     "metadata": {
      "tags": []
     },
     "output_type": "execute_result"
    }
   ],
   "source": [
    "model.similarity('texas', 'texas')"
   ]
  },
  {
   "cell_type": "code",
   "execution_count": 32,
   "metadata": {
    "colab": {
     "base_uri": "https://localhost:8080/"
    },
    "id": "91m64aA0QvK5",
    "outputId": "b8e6e2fb-d7e7-4846-c8e2-fb4218c417bf"
   },
   "outputs": [
    {
     "data": {
      "text/plain": [
       "[('barack', 0.9674172401428223),\n",
       " ('bush', 0.9642481207847595),\n",
       " ('clinton', 0.9606045484542847),\n",
       " ('mccain', 0.9122934937477112),\n",
       " ('dole', 0.8878742456436157),\n",
       " ('gore', 0.884803831577301),\n",
       " ('hillary', 0.8776551485061646),\n",
       " ('rodham', 0.8401790261268616),\n",
       " ('kerry', 0.8261427879333496),\n",
       " ('biden', 0.8095825910568237)]"
      ]
     },
     "execution_count": 32,
     "metadata": {
      "tags": []
     },
     "output_type": "execute_result"
    }
   ],
   "source": [
    "model.similar_by_word(\"obama\")"
   ]
  },
  {
   "cell_type": "code",
   "execution_count": 33,
   "metadata": {
    "colab": {
     "base_uri": "https://localhost:8080/"
    },
    "id": "14bYyji9Q2NR",
    "outputId": "aa36c2dc-06da-44e9-ee5a-66a7fc60340d"
   },
   "outputs": [
    {
     "data": {
      "text/plain": [
       "[('college', 0.9344995617866516),\n",
       " ('schools', 0.868353009223938),\n",
       " ('campus', 0.8472232222557068),\n",
       " ('graduate', 0.8460071682929993),\n",
       " ('elementary', 0.8369437456130981),\n",
       " ('students', 0.8265615105628967),\n",
       " ('university', 0.8261534571647644),\n",
       " ('student', 0.8239262104034424),\n",
       " ('attended', 0.8064848184585571),\n",
       " ('graduating', 0.8018305897712708)]"
      ]
     },
     "execution_count": 33,
     "metadata": {
      "tags": []
     },
     "output_type": "execute_result"
    }
   ],
   "source": [
    "model.similar_by_key('school', topn=10)"
   ]
  },
  {
   "cell_type": "code",
   "execution_count": null,
   "metadata": {
    "colab": {
     "base_uri": "https://localhost:8080/",
     "height": 229
    },
    "id": "vYZeX3L3aK-2",
    "outputId": "f3d0f2ba-f5a2-4211-986f-9edb46fc5b60"
   },
   "outputs": [
    {
     "ename": "AttributeError",
     "evalue": "ignored",
     "output_type": "error",
     "traceback": [
      "\u001b[0;31m---------------------------------------------------------------------------\u001b[0m",
      "\u001b[0;31mAttributeError\u001b[0m                            Traceback (most recent call last)",
      "\u001b[0;32m<ipython-input-22-1f7bea58f20d>\u001b[0m in \u001b[0;36m<module>\u001b[0;34m()\u001b[0m\n\u001b[1;32m      7\u001b[0m \u001b[0;31m# extract the words & their vectors, as numpy arrays\u001b[0m\u001b[0;34m\u001b[0m\u001b[0;34m\u001b[0m\u001b[0;34m\u001b[0m\u001b[0m\n\u001b[1;32m      8\u001b[0m \u001b[0;34m\u001b[0m\u001b[0m\n\u001b[0;32m----> 9\u001b[0;31m \u001b[0mvectors\u001b[0m \u001b[0;34m=\u001b[0m \u001b[0mnp\u001b[0m\u001b[0;34m.\u001b[0m\u001b[0masarray\u001b[0m\u001b[0;34m(\u001b[0m\u001b[0mlist\u001b[0m\u001b[0;34m(\u001b[0m\u001b[0mmodel\u001b[0m\u001b[0;34m.\u001b[0m\u001b[0mvalues\u001b[0m\u001b[0;34m(\u001b[0m\u001b[0;34m)\u001b[0m\u001b[0;34m)\u001b[0m\u001b[0;34m)\u001b[0m\u001b[0;34m\u001b[0m\u001b[0;34m\u001b[0m\u001b[0m\n\u001b[0m\u001b[1;32m     10\u001b[0m \u001b[0mlabels\u001b[0m \u001b[0;34m=\u001b[0m \u001b[0mnp\u001b[0m\u001b[0;34m.\u001b[0m\u001b[0masarray\u001b[0m\u001b[0;34m(\u001b[0m\u001b[0mlist\u001b[0m\u001b[0;34m(\u001b[0m\u001b[0mmodel\u001b[0m\u001b[0;34m.\u001b[0m\u001b[0mkeys\u001b[0m\u001b[0;34m(\u001b[0m\u001b[0;34m)\u001b[0m\u001b[0;34m)\u001b[0m\u001b[0;34m)\u001b[0m  \u001b[0;31m# fixed-width numpy strings\u001b[0m\u001b[0;34m\u001b[0m\u001b[0;34m\u001b[0m\u001b[0m\n\u001b[1;32m     11\u001b[0m \u001b[0mstart\u001b[0m \u001b[0;34m=\u001b[0m \u001b[0mtime\u001b[0m\u001b[0;34m.\u001b[0m\u001b[0mtime\u001b[0m\u001b[0;34m(\u001b[0m\u001b[0;34m)\u001b[0m\u001b[0;34m\u001b[0m\u001b[0;34m\u001b[0m\u001b[0m\n",
      "\u001b[0;31mAttributeError\u001b[0m: 'KeyedVectors' object has no attribute 'values'"
     ]
    }
   ],
   "source": [
    "from sklearn.decomposition import IncrementalPCA    # inital reduction\n",
    "from sklearn.manifold import TSNE                   # final reduction\n",
    "import numpy as np                                  # array handling\n",
    "import time\n",
    "num_dimensions = 2  # final num dimensions (2D, 3D, etc)\n",
    "\n",
    "# extract the words & their vectors, as numpy arrays\n",
    "\n",
    "vectors = np.asarray(list(model.values()))\n",
    "labels = np.asarray(list(model.keys()))  # fixed-width numpy strings\n",
    "start = time.time()\n",
    "# reduce using t-SNE\n",
    "tsne = TSNE(n_components=num_dimensions, random_state=0)\n",
    "vectors = tsne.fit_transform(vectors)\n",
    "\n",
    "x_vals = [v[0] for v in vectors]\n",
    "y_vals = [v[1] for v in vectors]"
   ]
  },
  {
   "cell_type": "code",
   "execution_count": 34,
   "metadata": {
    "colab": {
     "base_uri": "https://localhost:8080/"
    },
    "id": "Eeo_qtvHQLaJ",
    "outputId": "ef7a51b9-3822-4b20-df5a-37971d7e7315"
   },
   "outputs": [
    {
     "data": {
      "text/plain": [
       "[('economic', 0.6506902575492859),\n",
       " ('deepening', 0.6033481359481812),\n",
       " ('roiled', 0.5993775129318237),\n",
       " ('turmoil', 0.5813939571380615),\n",
       " ('g-7', 0.5740140676498413),\n",
       " ('crisis', 0.5637960433959961),\n",
       " ('economies', 0.5637537837028503),\n",
       " ('deepened', 0.5530382990837097),\n",
       " ('g7', 0.5504850745201111),\n",
       " ('reviving', 0.5502038598060608)]"
      ]
     },
     "execution_count": 34,
     "metadata": {
      "tags": []
     },
     "output_type": "execute_result"
    }
   ],
   "source": [
    "vector = model['economic']-model['speed']\n",
    "model.similar_by_vector(vector)"
   ]
  },
  {
   "cell_type": "code",
   "execution_count": null,
   "metadata": {
    "colab": {
     "base_uri": "https://localhost:8080/"
    },
    "id": "Hay0sol9RIiY",
    "outputId": "1a0d9680-1d73-4545-d493-9de16b040f12"
   },
   "outputs": [
    {
     "name": "stdout",
     "output_type": "stream",
     "text": [
      "awesome\n"
     ]
    }
   ],
   "source": [
    "print(model.doesnt_match(\"cars are awesome\".split()))"
   ]
  },
  {
   "cell_type": "code",
   "execution_count": null,
   "metadata": {
    "colab": {
     "base_uri": "https://localhost:8080/"
    },
    "id": "wZSvWMODR9XQ",
    "outputId": "6bc201ad-9b85-4ff4-c312-501fe5190b29"
   },
   "outputs": [
    {
     "data": {
      "text/plain": [
       "0.3857320547103882"
      ]
     },
     "execution_count": 25,
     "metadata": {
      "tags": []
     },
     "output_type": "execute_result"
    }
   ],
   "source": [
    "w1='senate'\n",
    "w2='texas'\n",
    "model.distance(w1, w2)"
   ]
  },
  {
   "cell_type": "code",
   "execution_count": null,
   "metadata": {
    "colab": {
     "base_uri": "https://localhost:8080/",
     "height": 229
    },
    "id": "ZraTVPGRSOSk",
    "outputId": "a7af9229-7b77-4154-c1b7-ef92c9665ae2"
   },
   "outputs": [
    {
     "ename": "AttributeError",
     "evalue": "ignored",
     "output_type": "error",
     "traceback": [
      "\u001b[0;31m---------------------------------------------------------------------------\u001b[0m",
      "\u001b[0;31mAttributeError\u001b[0m                            Traceback (most recent call last)",
      "\u001b[0;32m<ipython-input-26-1f7bea58f20d>\u001b[0m in \u001b[0;36m<module>\u001b[0;34m()\u001b[0m\n\u001b[1;32m      7\u001b[0m \u001b[0;31m# extract the words & their vectors, as numpy arrays\u001b[0m\u001b[0;34m\u001b[0m\u001b[0;34m\u001b[0m\u001b[0;34m\u001b[0m\u001b[0m\n\u001b[1;32m      8\u001b[0m \u001b[0;34m\u001b[0m\u001b[0m\n\u001b[0;32m----> 9\u001b[0;31m \u001b[0mvectors\u001b[0m \u001b[0;34m=\u001b[0m \u001b[0mnp\u001b[0m\u001b[0;34m.\u001b[0m\u001b[0masarray\u001b[0m\u001b[0;34m(\u001b[0m\u001b[0mlist\u001b[0m\u001b[0;34m(\u001b[0m\u001b[0mmodel\u001b[0m\u001b[0;34m.\u001b[0m\u001b[0mvalues\u001b[0m\u001b[0;34m(\u001b[0m\u001b[0;34m)\u001b[0m\u001b[0;34m)\u001b[0m\u001b[0;34m)\u001b[0m\u001b[0;34m\u001b[0m\u001b[0;34m\u001b[0m\u001b[0m\n\u001b[0m\u001b[1;32m     10\u001b[0m \u001b[0mlabels\u001b[0m \u001b[0;34m=\u001b[0m \u001b[0mnp\u001b[0m\u001b[0;34m.\u001b[0m\u001b[0masarray\u001b[0m\u001b[0;34m(\u001b[0m\u001b[0mlist\u001b[0m\u001b[0;34m(\u001b[0m\u001b[0mmodel\u001b[0m\u001b[0;34m.\u001b[0m\u001b[0mkeys\u001b[0m\u001b[0;34m(\u001b[0m\u001b[0;34m)\u001b[0m\u001b[0;34m)\u001b[0m\u001b[0;34m)\u001b[0m  \u001b[0;31m# fixed-width numpy strings\u001b[0m\u001b[0;34m\u001b[0m\u001b[0;34m\u001b[0m\u001b[0m\n\u001b[1;32m     11\u001b[0m \u001b[0mstart\u001b[0m \u001b[0;34m=\u001b[0m \u001b[0mtime\u001b[0m\u001b[0;34m.\u001b[0m\u001b[0mtime\u001b[0m\u001b[0;34m(\u001b[0m\u001b[0;34m)\u001b[0m\u001b[0;34m\u001b[0m\u001b[0;34m\u001b[0m\u001b[0m\n",
      "\u001b[0;31mAttributeError\u001b[0m: 'KeyedVectors' object has no attribute 'values'"
     ]
    }
   ],
   "source": [
    "from sklearn.decomposition import IncrementalPCA    # inital reduction\n",
    "from sklearn.manifold import TSNE                   # final reduction\n",
    "import numpy as np                                  # array handling\n",
    "import time\n",
    "num_dimensions = 2  # final num dimensions (2D, 3D, etc)\n",
    "\n",
    "# extract the words & their vectors, as numpy arrays\n",
    "\n",
    "vectors = np.asarray(list(model.values()))\n",
    "labels = np.asarray(list(model.keys()))  # fixed-width numpy strings\n",
    "start = time.time()\n",
    "# reduce using t-SNE\n",
    "tsne = TSNE(n_components=num_dimensions, random_state=0)\n",
    "vectors = tsne.fit_transform(vectors)\n",
    "\n",
    "x_vals = [v[0] for v in vectors]\n",
    "y_vals = [v[1] for v in vectors]"
   ]
  },
  {
   "cell_type": "code",
   "execution_count": null,
   "metadata": {
    "id": "8R6gQyZCbMfQ"
   },
   "outputs": [],
   "source": [
    "def plot_with_matplotlib(x_vals, y_vals, labels,x,y,r):\n",
    "    import matplotlib.pyplot as plt\n",
    "    import random\n",
    "\n",
    "    random.seed()\n",
    "\n",
    "    plt.figure(figsize=(x, y))\n",
    "    plt.scatter(x_vals, y_vals)\n",
    "\n",
    "    #\n",
    "    # Label randomly subsampled 100 data points\n",
    "    #\n",
    "    indices = list(range(len(labels)))\n",
    "    selected_indices = random.sample(indices, r)\n",
    "    for i in selected_indices:\n",
    "        plt.annotate(labels[i], (x_vals[i], y_vals[i]))"
   ]
  },
  {
   "cell_type": "code",
   "execution_count": null,
   "metadata": {
    "id": "yBtMK6kWMJsj"
   },
   "outputs": [],
   "source": []
  }
 ],
 "metadata": {
  "accelerator": "TPU",
  "colab": {
   "name": "GlovePre_Trained_Model.ipynb",
   "provenance": []
  },
  "kernelspec": {
   "display_name": "Python 3",
   "language": "python",
   "name": "python3"
  },
  "language_info": {
   "codemirror_mode": {
    "name": "ipython",
    "version": 3
   },
   "file_extension": ".py",
   "mimetype": "text/x-python",
   "name": "python",
   "nbconvert_exporter": "python",
   "pygments_lexer": "ipython3",
   "version": "3.8.3"
  }
 },
 "nbformat": 4,
 "nbformat_minor": 1
}
