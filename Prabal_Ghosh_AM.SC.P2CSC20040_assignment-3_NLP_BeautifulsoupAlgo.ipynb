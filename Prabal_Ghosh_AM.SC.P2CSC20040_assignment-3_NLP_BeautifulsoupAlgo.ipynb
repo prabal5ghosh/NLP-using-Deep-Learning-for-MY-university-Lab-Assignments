{
 "cells": [
  {
   "cell_type": "markdown",
   "metadata": {},
   "source": [
    "# Prabal Ghosh roll- AM.SC.P2CSC20040 assignment-3  NLP"
   ]
  },
  {
   "cell_type": "markdown",
   "metadata": {},
   "source": [
    "# Apply Beautifulsoup algorithm and extract information about the Coronavirus\n",
    "disease (COVID-19) from any sites available"
   ]
  },
  {
   "cell_type": "code",
   "execution_count": 1,
   "metadata": {},
   "outputs": [
    {
     "name": "stdout",
     "output_type": "stream",
     "text": [
      "Requirement already satisfied: requests in c:\\users\\prabal ghosh\\anaconda3\\lib\\site-packages (2.24.0)\n",
      "Requirement already satisfied: chardet<4,>=3.0.2 in c:\\users\\prabal ghosh\\anaconda3\\lib\\site-packages (from requests) (3.0.4)\n",
      "Requirement already satisfied: certifi>=2017.4.17 in c:\\users\\prabal ghosh\\anaconda3\\lib\\site-packages (from requests) (2020.6.20)\n",
      "Requirement already satisfied: urllib3!=1.25.0,!=1.25.1,<1.26,>=1.21.1 in c:\\users\\prabal ghosh\\anaconda3\\lib\\site-packages (from requests) (1.25.9)\n",
      "Requirement already satisfied: idna<3,>=2.5 in c:\\users\\prabal ghosh\\anaconda3\\lib\\site-packages (from requests) (2.10)\n"
     ]
    }
   ],
   "source": [
    "!pip install requests"
   ]
  },
  {
   "cell_type": "code",
   "execution_count": 2,
   "metadata": {},
   "outputs": [
    {
     "name": "stdout",
     "output_type": "stream",
     "text": [
      "Requirement already satisfied: beautifulsoup4 in c:\\users\\prabal ghosh\\anaconda3\\lib\\site-packages (4.9.1)\n",
      "Requirement already satisfied: soupsieve>1.2 in c:\\users\\prabal ghosh\\anaconda3\\lib\\site-packages (from beautifulsoup4) (2.0.1)\n"
     ]
    }
   ],
   "source": [
    "!pip install beautifulsoup4"
   ]
  },
  {
   "cell_type": "code",
   "execution_count": 92,
   "metadata": {},
   "outputs": [
    {
     "data": {
      "text/plain": [
       "'\\n\\n\\n\\n\\n\\n\\n\\n\\nIndia’s massive COVID surge puzzles scientists\\n\\n\\n\\n\\n\\n\\n\\n\\n\\n\\n\\n\\n\\n\\n\\n\\n\\n\\n\\n\\n\\n\\n\\n\\n\\n\\n\\n\\n\\n\\n\\n\\n\\n\\n\\n\\n\\n\\n\\n\\n\\n\\n\\n\\n\\n\\n\\n\\n\\n\\n\\n\\n\\n\\n\\n\\n\\n\\n\\n\\n\\n\\n\\n\\n\\n\\n\\n\\n\\n\\n\\n\\n\\n\\n\\n\\nSkip to main content\\n\\n\\nThank you for visiting nature.com. You are using a browser version with limited support for CSS. To obtain\\n            the best experience, we recommend you use a more up to date browser (or turn off compatibility mode in\\n            Internet Explorer). In the meantime, to ensure continued support, we are displaying the site without styles\\n            and JavaScript.\\n\\n\\n\\n\\n\\nAdvertisement\\n\\n\\n\\n\\n\\n\\n\\n\\n\\n\\n\\n\\n\\n\\n\\n\\n\\n\\n\\n\\n\\n\\n\\nView all journals\\n\\n\\n\\n\\nSearch\\n\\n\\n\\n\\nMy Account\\n\\n\\nLogin\\n\\n\\n\\n\\n\\n\\n\\n\\n\\n\\n\\n\\n\\nExplore content\\n\\n\\n\\n\\nAbout the journal\\n\\n\\n\\n\\nPublish with us\\n\\n\\n\\n\\n\\n\\nSubscribe\\n\\n\\n\\n\\n\\n\\n\\nSign up for alerts\\n\\n\\n\\n\\nRSS feed\\n\\n\\n\\n\\n\\n\\n\\n\\n\\n\\nnature\\n\\n\\n\\nnews\\n\\n\\n\\n\\narticle\\n\\n\\n\\n\\n\\n\\n\\n\\n\\n\\n\\n\\n\\nNEWS\\n21 April 2021\\n\\nIndia’s massive COVID surge puzzles scientists\\n\\n\\n                    The virus is spreading faster than ever before in India despite previous high infection rates in megacities, which should have conferred some protection.\\n                \\n\\n\\n\\n\\nSmriti Mallapaty\\n\\n\\n\\n\\n\\nSmriti Mallapaty\\n\\n\\nView author publications\\n\\nYou can also search for this author in PubMed\\n\\xa0Google Scholar\\n\\n\\n\\n\\n\\n\\n\\n\\n\\n\\n\\n\\n\\n\\nShare on Twitter\\nShare on Twitter\\n\\n\\n\\n\\n\\n\\n\\n\\n\\n\\n\\n\\n\\n\\nShare on Facebook\\nShare on Facebook\\n\\n\\n\\n\\n\\n\\n\\n\\n\\n\\n\\n\\n\\n\\nShare via E-Mail\\nShare via E-Mail\\n\\n\\n\\n\\n\\n\\n\\n\\n\\n\\n\\n\\n\\n\\n\\n\\n\\n\\nYou have full access to this article via your institution.\\n\\n\\nDownload PDF\\n\\n\\n\\n\\n\\n\\n\\n\\n\\nDownload PDF\\n\\n\\n\\n\\n\\n\\n\\n\\n\\n\\n\\n\\nAhead of a lockdown imposed on 14 April, migrant workers queue at a railway station to depart the city of Mumbai, India.Credit: Getty\\n\\n\\nThe pandemic is sweeping through India at a pace that has staggered scientists. Daily case numbers have exploded since early March: the government reported 273,810 new infections nationally on 18 April. High numbers in India have also helped drive global cases to a daily high of 854,855 in the past week, almost breaking a record set in January.Just months earlier, antibody data had suggested that many people in cities such as Delhi and Chennai had already been infected, leading some researchers to conclude that the worst of the pandemic was over in the country.Researchers in India are now trying to pinpoint what is behind the unprecedented surge, which could be due to an unfortunate confluence of factors, including the emergence of particularly infectious variants, a rise in unrestricted social interactions, and low vaccine coverage. Untangling the causes could be helpful to governments trying to suppress or prevent similar surges around the world.European countries such as France and Germany are also currently experiencing large outbreaks relative to their size, and nations including Brazil and the United States are reporting high infection rates at around 70,000 a day. But India’s daily totals are now some of the highest ever recorded for any country, and are not far off a peak of 300,000 cases seen in the United States on 2 January.‘Ripple in a bathtub’COVID-19 case numbers started to drop in India last September, after a high of around 100,000 daily infections. But they began to rise again in March and the current peak is more than double the previous one (see ‘Surging cases of COVID-19’). “The second wave has made the last one look like a ripple in a bathtub,” says Zarir Udwadia, a clinician-researcher in pulmonary medicine at P D Hinduja Hospital & Medical Research Centre in Mumbai, who spoke to Nature during a break from working in the intensive-care unit. He describes a “nightmarish” situation at hospitals, where beds and treatments are in extremely short supply.Shahid Jameel, a virologist at Ashoka University in Sonipat, agrees that the intensity of the current wave is startling. “I was expecting fresh waves of infection, but I would not have dreamt that it would be this strong,” he says.\\n\\nIndia’s COVID-vaccine woes — by the numbers\\nStudies that tested for SARS-CoV-2 antibodies — an indicator of past infection — in December and January estimated that more than 50% of the population in some areas of India’s large cities had already been exposed to the virus, which should have conferred some immunity, says Manoj Murhekar, an epidemiologist at the National Institute of Epidemiology in Chennai, who led the work. The studies also suggested that, nationally, some 271 million people had been infected1 — about one-fifth of India’s population of 1.4 billion.These figures made some researchers optimistic that the next stage of the pandemic would be less severe, says Ramanan Laxminarayan, an epidemiologist in Princeton University, New Jersey, who is based in New Delhi. But the latest eruption of COVID-19 is forcing them to rethink.One explanation might be that the first wave primarily hit the urban poor. Antibody studies might not have been representative of the entire population and potentially overestimated exposure in other groups, he says.The antibody data did not reflect the uneven spread of the virus, agrees Gagandeep Kang, a virologist at the Christian Medical College in Vellore, India. “The virus may be getting into populations that were previously able to protect themselves,” she says. That could include wealthier urban communities, in which people isolated during the first wave but had started mingling by the second.\\n\\n\\n\\n\\n\\n\\nSource: Our World in Data\\n\\n\\nFast-moving variants?But some researchers say that the speed and scale of the current outbreak suggest a new ingredient: emerging variants of the virus.Udwadia has anecdotally observed that entire households are now getting infected — unlike in the first wave of COVID-19, when single individuals would test positive. He attributes this to the presence of more-infectious variants. “If one person in the family has it, I can guarantee that everyone in the family has it,” he says.Genomic surveillance data show that the variant B.1.1.7, which was first identified in the United Kingdom, has become the dominant form of the virus in the Indian state of Punjab.\\n\\nHas COVID peaked? Maybe, but it’s too soon to be sure\\nAnd a new and potentially concerning variant first identified in India late last year, known as B.1.617, has become dominant in the state of Maharashtra. B.1.617 has drawn attention because it contains two mutations that have been linked to increased transmissibility and an ability to evade immune protection. It has now been detected in 20 other countries. Laboratories in India are trying to culture it to test how fast it replicates, and whether blood from vaccinated individuals can block infection, says Jameel.The situation in India looks similar to that late last year in Brazil, he adds, where a resurgence of COVID-19 in the city of Manaus coincided with the spread of a highly transmissible variant known as P.1, which might have been able to evade immunity conferred by infections with earlier strains.But others say that the existing sequencing data are not sufficient to make such claims. “As the numbers of sequences available are low, relative to the number of cases in India, we do need to be cautious,” says David Robertson, a virologist at the University of Glasgow, UK.Mixing, moving and travellingSome say that emerging variants account for only a small part of India’s surge in infections. In many regions that are experiencing outbreaks, they don’t make up the majority of genomes sequenced, says Anurag Agrawal, director of the CSIR Institute of Genomics and Integrative Biology in New Delhi.Srinath Reddy, an epidemiologist and head of the Public Health Foundation of India in New Delhi, argues that people letting their guards down is a bigger driver. “The pandemic resurfaced in a fully open society where people were mixing and moving and travelling,” he says. \\n\\nIndia will supply coronavirus vaccines to the world — will its people benefit?\\nWith cases declining after last September’s peak, “there was a public narrative that India had conquered COVID-19”, says Laxminarayan. In recent months, large crowds have gathered indoors and outdoors for political rallies, religious celebrations and weddings.The nationwide vaccination campaign, which kicked off in January, might even have contributed to an uptick in cases, if it caused people to ease public-health measures. “The arrival of the vaccine put everyone into a relaxed mood,” says Laxminarayan. More than 120 million doses have been administered, mostly of an Indian-produced version of the Oxford–AstraZeneca vaccine called Covishield. But that’s less than 10% of India’s population, so there is still a long way to go. In particular, India needs to ramp up vaccinations in the hardest-hit regions, says Kang.Some people might have become infected while getting vaccines, says Udwadia, because crowds often share clinic waiting areas with ill people who are waiting to be seen.\\n\\nNature 592, 667-668 (2021)\\ndoi: https://doi.org/10.1038/d41586-021-01059-y\\n\\nReferences1.Murhekar, M. V. et al. Preprint at SSRN https://dx.doi.org/10.2139/ssrn.3797589 (2021).Download references\\n\\nRelated Articles\\n\\n\\n\\n\\n\\n                        \\n                        India’s COVID-vaccine woes — by the numbers\\n                    \\n\\n\\n\\n\\n\\n\\n                        \\n                        Has COVID peaked? Maybe, but it’s too soon to be sure\\n                    \\n\\n\\n\\n\\n\\n\\n                        \\n                        India will supply coronavirus vaccines to the world — will its people benefit?\\n                    \\n\\n\\n\\nSubjects\\n\\n\\nSARS-CoV-2\\n\\n\\nPublic health\\n\\n\\nVaccines\\n\\n\\n\\n\\nLatest on:\\n\\n\\nSARS-CoV-2\\n\\n\\n\\n\\n\\nThe fight to manufacture COVID vaccines in lower-income countries\\nNews 15 SEP 21\\n\\n\\n\\n\\nAfrica: invest in local manufacturing of COVID-19 vaccines\\nCorrespondence 14 SEP 21\\n\\n\\n\\n\\n\\nThe tangled history of mRNA vaccines\\nNews Feature 14 SEP 21\\n\\n\\n\\n\\n\\n\\nPublic health\\n\\n\\n\\n\\n\\nThe fight to manufacture COVID vaccines in lower-income countries\\nNews 15 SEP 21\\n\\n\\n\\n\\nAfghanistan: conflict risks local and global health\\nCorrespondence 14 SEP 21\\n\\n\\n\\n\\n\\nPivotal climate summit dogged by COVID and equity concerns\\nNews 10 SEP 21\\n\\n\\n\\n\\n\\n\\nVaccines\\n\\n\\n\\n\\n\\nThe fight to manufacture COVID vaccines in lower-income countries\\nNews 15 SEP 21\\n\\n\\n\\n\\nAfrica: invest in local manufacturing of COVID-19 vaccines\\nCorrespondence 14 SEP 21\\n\\n\\n\\n\\n\\nThe tangled history of mRNA vaccines\\nNews Feature 14 SEP 21\\n\\n\\n\\n\\n\\n\\n\\n\\n\\n\\n\\n\\n\\n\\n\\n\\n\\n                Jobs\\n                \\n\\n\\n\\n\\n\\n\\n\\n                                European Innovation Council Programme Manager\\n                            \\n\\n\\nEuropean Commission (EC)\\nBrussels, Belgium\\n\\n\\n\\n\\n\\n                                W3 Professorship in Structural Biology\\n                            \\n\\n\\nSaarland University (Saar-Uni)\\nHomburg/Saar, Saarland, Germany\\n\\n\\n\\n\\n\\n                                Tenure track position in Bioinformatics (0.8 -1.0 FTE)\\n                            \\n\\n\\nUtrecht University (UU)\\nUtrecht, Netherlands\\n\\n\\n\\n\\n\\n                                Director of Health Data and Informatics\\n                            \\n\\n\\nWellcome Sanger Institute\\nCambridge, United Kingdom\\n\\n\\n\\n\\n\\n\\n\\n\\n\\n\\nYou have full access to this article via your institution.\\n\\n\\nDownload PDF\\n\\n\\n\\n\\n\\n\\n\\n\\n\\nDownload PDF\\n\\n\\n\\n\\nRelated Articles\\n\\n\\n\\n\\n\\n                        \\n                        India’s COVID-vaccine woes — by the numbers\\n                    \\n\\n\\n\\n\\n\\n\\n                        \\n                        Has COVID peaked? Maybe, but it’s too soon to be sure\\n                    \\n\\n\\n\\n\\n\\n\\n                        \\n                        India will supply coronavirus vaccines to the world — will its people benefit?\\n                    \\n\\n\\n\\nSubjects\\n\\n\\nSARS-CoV-2\\n\\n\\nPublic health\\n\\n\\nVaccines\\n\\n\\n\\n\\n\\n\\n\\n\\n\\n\\n\\n\\nSign up to Nature Briefing\\nAn essential round-up of science news, opinion and analysis, delivered to your inbox every weekday.\\n\\n\\n\\n\\nEmail address\\n\\n\\n\\nYes! Sign me up to receive the daily Nature Briefing email. I agree my information will be processed in accordance with the Nature and Springer Nature Limited Privacy Policy.\\n\\nSign up\\n\\n\\n\\n\\n\\n\\n\\n\\n\\n\\n\\n\\n\\n\\n\\n\\n\\n\\n\\nClose banner\\n\\n\\n\\n\\n\\n\\nClose\\n\\n\\n\\n\\n\\n\\nSign up for the Nature Briefing newsletter — what matters in science, free to your inbox daily.\\n\\n\\n\\n\\n\\nEmail address\\n\\n\\nSign up\\n\\n\\n\\nI agree my information will be processed in accordance with the Nature and Springer Nature Limited Privacy Policy.\\n\\n\\n\\n\\n\\n\\n\\n\\n\\n\\n\\nClose banner\\n\\n\\n\\n\\n\\n\\nClose\\n\\n\\n\\nGet the most important science stories of the day, free in your inbox.\\nSign up for Nature Briefing\\n            \\n\\n\\n\\n\\n\\n\\n\\n\\n\\nExplore content\\n\\n\\n\\n                                    Research articles\\n                                \\n\\n\\n\\n                                    News\\n                                \\n\\n\\n\\n                                    Opinion\\n                                \\n\\n\\n\\n                                    Research Analysis\\n                                \\n\\n\\n\\n                                    Careers\\n                                \\n\\n\\n\\n                                    Books & Culture\\n                                \\n\\n\\n\\n                                    Podcasts\\n                                \\n\\n\\n\\n                                    Videos\\n                                \\n\\n\\n\\n                                    Current issue\\n                                \\n\\n\\n\\n                                    Browse issues\\n                                \\n\\n\\n\\n                                    Collections\\n                                \\n\\n\\n\\n                                    Subjects\\n                                \\n\\n\\nFollow us on Facebook\\n                            \\n\\n\\nFollow us on Twitter\\n                            \\n\\n\\n\\nSubscribe\\n\\n\\n\\nSign up for alerts\\n\\n\\n\\n\\nRSS feed\\n\\n\\n\\n\\n\\n\\n\\nAbout the journal\\n\\n\\n\\n                                Journal Staff\\n                            \\n\\n\\n\\n                                About the Editors\\n                            \\n\\n\\n\\n                                Journal Information\\n                            \\n\\n\\n\\n                                Our publishing models\\n                            \\n\\n\\n\\n                                Editorial Values Statement\\n                            \\n\\n\\n\\n                                Awards\\n                            \\n\\n\\n\\n                                Journal Impact\\n                            \\n\\n\\n\\n                                Contact\\n                            \\n\\n\\n\\n                                Editorial policies\\n                            \\n\\n\\n\\n                                History of Nature\\n                            \\n\\n\\n\\n                                Send a news tip\\n                            \\n\\n\\n\\n\\n\\n\\nPublish with us\\n\\n\\n\\n                                For Authors\\n                            \\n\\n\\n\\n                                For Referees\\n                            \\n\\n\\nSubmit manuscript\\n\\n\\n\\n\\n\\n\\n\\nSearch\\n\\n\\n\\nSearch articles by subject, keyword or author\\n\\n\\n\\n\\n\\nShow results from\\n\\nAll journals\\n\\n\\n\\nSearch\\n\\n\\n\\n\\n\\n\\n\\n\\n                    Advanced search\\n                \\n\\n\\nQuick links\\n\\nExplore articles by subject\\nFind a job\\nGuide to authors\\nEditorial policies\\n\\n\\n\\n\\n\\n\\n\\n\\n\\n                    Nature (Nature)\\n                \\n\\nISSN 1476-4687 (online)\\n    \\n\\nISSN 0028-0836 (print)\\n    \\n\\n\\n\\n\\n\\n\\n\\n\\n\\nnature.com sitemap\\n\\n\\n\\n\\n\\nAbout us\\nPress releases\\nPress office\\nContact us\\n\\n\\n\\n\\n\\n\\n\\n\\n\\n\\n\\n\\n\\n\\n\\n\\n\\n\\n\\n\\n\\nDiscover content\\n\\nJournals A-Z\\nArticles by subject\\nNano\\nProtocol Exchange\\nNature Index\\n\\n\\n\\nPublishing policies\\n\\nNature portfolio policies\\nOpen access\\n\\n\\n\\nAuthor & Researcher services\\n\\nReprints & permissions\\nResearch data\\nLanguage editing\\nScientific editing\\nNature Masterclasses\\nNature Research Academies\\n\\n\\n\\nLibraries & institutions\\n\\nLibrarian service & tools\\nLibrarian portal\\nOpen research\\nRecommend to library\\n\\n\\n\\nAdvertising & partnerships\\n\\nAdvertising\\nPartnerships & Services\\nMedia kits\\nBranded content\\n\\n\\n\\nCareer development\\n\\nNature Careers\\nNature  Conferences\\nNature  events\\n\\n\\n\\nRegional websites\\n\\nNature Africa\\nNature China\\nNature India\\nNature Italy\\nNature Japan\\nNature Korea\\nNature Middle East\\n\\n\\n\\nLegal & Privacy\\n\\nPrivacy Policy\\nUse of cookies\\nManage cookies/Do not sell my data\\nLegal notice\\nAccessibility statement\\nTerms & Conditions\\nCalifornia Privacy Statement\\n\\n\\n\\n\\n\\n\\n\\n\\n\\n\\n© 2021 Springer Nature Limited\\n\\n\\n\\n\\n\\n\\n\\n\\n\\n\\n\\n\\n\\n\\n\\n\\n\\n\\n\\n\\n\\n\\n\\n\\n\\n\\n\\n\\n\\n\\n\\n'"
      ]
     },
     "execution_count": 92,
     "metadata": {},
     "output_type": "execute_result"
    }
   ],
   "source": [
    "from bs4 import BeautifulSoup\n",
    "import requests\n",
    "URL = \"https://www.nature.com/articles/d41586-021-01059-y\"\n",
    "r = requests.get(URL)\n",
    "htmltxt=r.content\n",
    "soup=BeautifulSoup(htmltxt,'html.parser')\n",
    "soup.text"
   ]
  },
  {
   "cell_type": "code",
   "execution_count": 13,
   "metadata": {},
   "outputs": [
    {
     "data": {
      "text/plain": [
       "'India’s massive COVID surge puzzles scientistsSkip to main contentThank you for visiting nature. com.  You are using a browser version with limited support for CSS.  To obtain            the best experience,  we recommend you use a more up to date browser (or turn off compatibility mode in            Internet Explorer).  In the meantime,  to ensure continued support,  we are displaying the site without styles            and JavaScript. AdvertisementView all journalsSearchMy AccountLoginExplore contentAbout the journalPublish with usSubscribeSign up for alertsRSS feednaturenewsarticleNEWS21 April 2021India’s massive COVID surge puzzles scientists                    The virus is spreading faster than ever before in India despite previous high infection rates in megacities,  which should have conferred some protection.                 Smriti MallapatySmriti MallapatyView author publicationsYou can also search for this author in PubMed\\xa0Google ScholarShare on TwitterShare on TwitterShare on FacebookShare on FacebookShare via E-MailShare via E-MailYou have full access to this article via your institution. Download PDFDownload PDFAhead of a lockdown imposed on 14 April,  migrant workers queue at a railway station to depart the city of Mumbai,  India. Credit: GettyThe pandemic is sweeping through India at a pace that has staggered scientists.  Daily case numbers have exploded since early March: the government reported 273, 810 new infections nationally on 18 April.  High numbers in India have also helped drive global cases to a daily high of 854, 855 in the past week,  almost breaking a record set in January. Just months earlier,  antibody data had suggested that many people in cities such as Delhi and Chennai had already been infected,  leading some researchers to conclude that the worst of the pandemic was over in the country. Researchers in India are now trying to pinpoint what is behind the unprecedented surge,  which could be due to an unfortunate confluence of factors,  including the emergence of particularly infectious variants,  a rise in unrestricted social interactions,  and low vaccine coverage.  Untangling the causes could be helpful to governments trying to suppress or prevent similar surges around the world. European countries such as France and Germany are also currently experiencing large outbreaks relative to their size,  and nations including Brazil and the United States are reporting high infection rates at around 70, 000 a day.  But India’s daily totals are now some of the highest ever recorded for any country,  and are not far off a peak of 300, 000 cases seen in the United States on 2 January. ‘Ripple in a bathtub’COVID-19 case numbers started to drop in India last September,  after a high of around 100, 000 daily infections.  But they began to rise again in March and the current peak is more than double the previous one (see ‘Surging cases of COVID-19’).  “The second wave has made the last one look like a ripple in a bathtub, ” says Zarir Udwadia,  a clinician-researcher in pulmonary medicine at P D Hinduja Hospital and Medical Research Centre in Mumbai,  who spoke to Nature during a break from working in the intensive-care unit.  He describes a “nightmarish” situation at hospitals,  where beds and treatments are in extremely short supply. Shahid Jameel,  a virologist at Ashoka University in Sonipat,  agrees that the intensity of the current wave is startling.  “I was expecting fresh waves of infection,  but I would not have dreamt that it would be this strong, ” he says. India’s COVID-vaccine woes — by the numbersStudies that tested for SARS-CoV-2 antibodies — an indicator of past infection — in December and January estimated that more than 50% of the population in some areas of India’s large cities had already been exposed to the virus,  which should have conferred some immunity,  says Manoj Murhekar,  an epidemiologist at the National Institute of Epidemiology in Chennai,  who led the work.  The studies also suggested that,  nationally,  some 271 million people had been infected1 — about one-fifth of India’s population of 1. 4 billion. These figures made some researchers optimistic that the next stage of the pandemic would be less severe,  says Ramanan Laxminarayan,  an epidemiologist in Princeton University,  New Jersey,  who is based in New Delhi.  But the latest eruption of COVID-19 is forcing them to rethink. One explanation might be that the first wave primarily hit the urban poor.  Antibody studies might not have been representative of the entire population and potentially overestimated exposure in other groups,  he says. The antibody data did not reflect the uneven spread of the virus,  agrees Gagandeep Kang,  a virologist at the Christian Medical College in Vellore,  India.  “The virus may be getting into populations that were previously able to protect themselves, ” she says.  That could include wealthier urban communities,  in which people isolated during the first wave but had started mingling by the second. Source: Our World in DataFast-moving variants?But some researchers say that the speed and scale of the current outbreak suggest a new ingredient: emerging variants of the virus. Udwadia has anecdotally observed that entire households are now getting infected — unlike in the first wave of COVID-19,  when single individuals would test positive.  He attributes this to the presence of more-infectious variants.  “If one person in the family has it,  I can guarantee that everyone in the family has it, ” he says. Genomic surveillance data show that the variant B. 1. 1. 7,  which was first identified in the United Kingdom,  has become the dominant form of the virus in the Indian state of Punjab. Has COVID peaked? Maybe,  but it’s too soon to be sureAnd a new and potentially concerning variant first identified in India late last year,  known as B. 1. 617,  has become dominant in the state of Maharashtra.  B. 1. 617 has drawn attention because it contains two mutations that have been linked to increased transmissibility and an ability to evade immune protection.  It has now been detected in 20 other countries.  Laboratories in India are trying to culture it to test how fast it replicates,  and whether blood from vaccinated individuals can block infection,  says Jameel. The situation in India looks similar to that late last year in Brazil,  he adds,  where a resurgence of COVID-19 in the city of Manaus coincided with the spread of a highly transmissible variant known as P. 1,  which might have been able to evade immunity conferred by infections with earlier strains. But others say that the existing sequencing data are not sufficient to make such claims.  “As the numbers of sequences available are low,  relative to the number of cases in India,  we do need to be cautious, ” says David Robertson,  a virologist at the University of Glasgow,  UK. Mixing,  moving and travellingSome say that emerging variants account for only a small part of India’s surge in infections.  In many regions that are experiencing outbreaks,  they don’t make up the majority of genomes sequenced,  says Anurag Agrawal,  director of the CSIR Institute of Genomics and Integrative Biology in New Delhi. Srinath Reddy,  an epidemiologist and head of the Public Health Foundation of India in New Delhi,  argues that people letting their guards down is a bigger driver.  “The pandemic resurfaced in a fully open society where people were mixing and moving and travelling, ” he says.  India will supply coronavirus vaccines to the world — will its people benefit?With cases declining after last September’s peak,  “there was a public narrative that India had conquered COVID-19”,  says Laxminarayan.  In recent months,  large crowds have gathered indoors and outdoors for political rallies,  religious celebrations and weddings. The nationwide vaccination campaign,  which kicked off in January,  might even have contributed to an uptick in cases,  if it caused people to ease public-health measures.  “The arrival of the vaccine put everyone into a relaxed mood, ” says Laxminarayan.  More than 120 million doses have been administered,  mostly of an Indian-produced version of the Oxford–AstraZeneca vaccine called Covishield.  But that’s less than 10% of India’s population,  so there is still a long way to go.  In particular,  India needs to ramp up vaccinations in the hardest-hit regions,  says Kang. Some people might have become infected while getting vaccines,  says Udwadia,  because crowds often share clinic waiting areas with ill people who are waiting to be seen. Nature 592,  667-668 (2021)doi: https://doi. org/10. 1038/d41586-021-01059-yReferences1. Murhekar,  M.  V.  et al.  Preprint at SSRN https://dx. doi. org/10. 2139/ssrn. 3797589 (2021). Download referencesRelated Articles                                                India’s COVID-vaccine woes — by the numbers                                                                    Has COVID peaked? Maybe,  but it’s too soon to be sure                                                                    India will supply coronavirus vaccines to the world — will its people benefit?                    SubjectsSARS-CoV-2Public healthVaccinesLatest on:SARS-CoV-2The fight to manufacture COVID vaccines in lower-income countriesNews 15 SEP 21Africa: invest in local manufacturing of COVID-19 vaccinesCorrespondence 14 SEP 21The tangled history of mRNA vaccinesNews Feature 14 SEP 21Public healthThe fight to manufacture COVID vaccines in lower-income countriesNews 15 SEP 21Afghanistan: conflict risks local and global healthCorrespondence 14 SEP 21Pivotal climate summit dogged by COVID and equity concernsNews 10 SEP 21VaccinesThe fight to manufacture COVID vaccines in lower-income countriesNews 15 SEP 21Africa: invest in local manufacturing of COVID-19 vaccinesCorrespondence 14 SEP 21The tangled history of mRNA vaccinesNews Feature 14 SEP 21                Jobs                                                Director of Health Data and Informatics                            Wellcome Sanger InstituteCambridge,  United Kingdom                                Scientists,  Engineers,  and Technicians - Shandong Institute of Advanced Technology                            Shandong Institute of Advanced TechnologyJinan,  Shandong,  China                                PhD Student (gn)                            University Hospital of Muenster (UKM),  WWUMünster,  Germany                                Bioinformatician (m/f/div)                            Max Planck Institute for Plant Breeding Research (MPIPZ)Cologne,  GermanyYou have full access to this article via your institution. Download PDFDownload PDFRelated Articles                                                India’s COVID-vaccine woes — by the numbers                                                                    Has COVID peaked? Maybe,  but it’s too soon to be sure                                                                    India will supply coronavirus vaccines to the world — will its people benefit?                    SubjectsSARS-CoV-2Public healthVaccinesSign up to Nature BriefingAn essential round-up of science news,  opinion and analysis,  delivered to your inbox every weekday. Email addressYes! Sign me up to receive the daily Nature Briefing email.  I agree my information will be processed in accordance with the Nature and Springer Nature Limited Privacy Policy. Sign upClose bannerCloseSign up for the Nature Briefing newsletter — what matters in science,  free to your inbox daily. Email addressSign upI agree my information will be processed in accordance with the Nature and Springer Nature Limited Privacy Policy. Close bannerCloseGet the most important science stories of the day,  free in your inbox. Sign up for Nature Briefing            Explore content                                    Research articles                                                                    News                                                                    Opinion                                                                    Research Analysis                                                                    Careers                                                                    Books and Culture                                                                    Podcasts                                                                    Videos                                                                    Current issue                                                                    Browse issues                                                                    Collections                                                                    Subjects                                Follow us on Facebook                            Follow us on Twitter                            SubscribeSign up for alertsRSS feedAbout the journal                                Journal Staff                                                            About the Editors                                                            Journal Information                                                            Our publishing models                                                            Editorial Values Statement                                                            Awards                                                            Journal Impact                                                            Contact                                                            Editorial policies                                                            History of Nature                                                            Send a news tip                            Publish with us                                For Authors                                                            For Referees                            Submit manuscriptSearchSearch articles by subject,  keyword or authorShow results fromAll journalsSearch                    Advanced search                Quick linksExplore articles by subjectFind a jobGuide to authorsEditorial policies                    Nature (Nature)                ISSN 1476-4687 (online)    ISSN 0028-0836 (print)    nature. com sitemapAbout usPress releasesPress officeContact usDiscover contentJournals A-ZArticles by subjectNanoProtocol ExchangeNature IndexPublishing policiesNature portfolio policiesOpen accessAuthor and Researcher servicesReprints and permissionsResearch dataLanguage editingScientific editingNature MasterclassesNature Research AcademiesLibraries and institutionsLibrarian service and toolsLibrarian portalOpen researchRecommend to libraryAdvertising and partnershipsAdvertisingPartnerships and ServicesMedia kitsBranded contentCareer developmentNature CareersNature  ConferencesNature  eventsRegional websitesNature AfricaNature ChinaNature IndiaNature ItalyNature JapanNature KoreaNature Middle EastLegal and PrivacyPrivacy PolicyUse of cookiesManage cookies/Do not sell my dataLegal noticeAccessibility statementTerms and ConditionsCalifornia Privacy Statement© 2021 Springer Nature Limited'"
      ]
     },
     "execution_count": 13,
     "metadata": {},
     "output_type": "execute_result"
    }
   ],
   "source": [
    "text = soup.text.strip()\n",
    "import re\n",
    "text = re.sub('\\\\n', '', text)\n",
    "text = re.sub('\\\\t', '', text)\n",
    "text = re.sub('\\\\r', '', text)\n",
    "text = re.sub('\\.', '. ', text)\n",
    "text = re.sub(',', ', ', text)\n",
    "text = re.sub('&', 'and', text)\n",
    "text"
   ]
  },
  {
   "cell_type": "raw",
   "metadata": {},
   "source": []
  },
  {
   "cell_type": "code",
   "execution_count": 59,
   "metadata": {},
   "outputs": [
    {
     "data": {
      "text/plain": [
       "64"
      ]
     },
     "execution_count": 59,
     "metadata": {},
     "output_type": "execute_result"
    }
   ],
   "source": [
    "len(soup.find_all('p'))"
   ]
  },
  {
   "cell_type": "code",
   "execution_count": 60,
   "metadata": {},
   "outputs": [
    {
     "data": {
      "text/plain": [
       "'Thank you for visiting nature.com. You are using a browser version with limited support for CSS. To obtain\\n            the best experience, we recommend you use a more up to date browser (or turn off compatibility mode in\\n            Internet Explorer). In the meantime, to ensure continued support, we are displaying the site without styles\\n            and JavaScript.'"
      ]
     },
     "execution_count": 60,
     "metadata": {},
     "output_type": "execute_result"
    }
   ],
   "source": [
    "soup.find_all('p')[0].text"
   ]
  },
  {
   "cell_type": "code",
   "execution_count": 61,
   "metadata": {},
   "outputs": [
    {
     "name": "stdout",
     "output_type": "stream",
     "text": [
      "<title>India’s massive COVID surge puzzles scientists</title>\n"
     ]
    }
   ],
   "source": [
    "print(soup.title)"
   ]
  },
  {
   "cell_type": "code",
   "execution_count": 62,
   "metadata": {},
   "outputs": [
    {
     "data": {
      "text/plain": [
       "'Thank you for visiting nature.com. You are using a browser version with limited support for CSS. To obtain\\n            the best experience, we recommend you use a more up to date browser (or turn off compatibility mode in\\n            Internet Explorer). In the meantime, to ensure continued support, we are displaying the site without styles\\n            and JavaScript.AdvertisementYou can also search for this author in PubMed\\n\\xa0Google Scholar\\nYou have full access to this article via your institution.Ahead of a lockdown imposed on 14 April, migrant workers queue at a railway station to depart the city of Mumbai, India.Credit: GettyThe pandemic is sweeping through India at a pace that has staggered scientists. Daily case numbers have exploded since early March: the government reported 273,810 new infections nationally on 18 April. High numbers in India have also helped drive global cases to a daily high of 854,855 in the past week, almost breaking a record set in January.Just months earlier, antibody data had suggested that many people in cities such as Delhi and Chennai had already been infected, leading some researchers to conclude that the worst of the pandemic was over in the country.Researchers in India are now trying to pinpoint what is behind the unprecedented surge, which could be due to an unfortunate confluence of factors, including the emergence of particularly infectious variants, a rise in unrestricted social interactions, and low vaccine coverage. Untangling the causes could be helpful to governments trying to suppress or prevent similar surges around the world.European countries such as France and Germany are also currently experiencing large outbreaks relative to their size, and nations including Brazil and the United States are reporting high infection rates at around 70,000 a day. But India’s daily totals are now some of the highest ever recorded for any country, and are not far off a peak of 300,000 cases seen in the United States on 2 January.COVID-19 case numbers started to drop in India last September, after a high of around 100,000 daily infections. But they began to rise again in March and the current peak is more than double the previous one (see ‘Surging cases of COVID-19’). “The second wave has made the last one look like a ripple in a bathtub,” says Zarir Udwadia, a clinician-researcher in pulmonary medicine at P D Hinduja Hospital & Medical Research Centre in Mumbai, who spoke to Nature during a break from working in the intensive-care unit. He describes a “nightmarish” situation at hospitals, where beds and treatments are in extremely short supply.Shahid Jameel, a virologist at Ashoka University in Sonipat, agrees that the intensity of the current wave is startling. “I was expecting fresh waves of infection, but I would not have dreamt that it would be this strong,” he says.\\n\\nIndia’s COVID-vaccine woes — by the numbers\\nIndia’s COVID-vaccine woes — by the numbersStudies that tested for SARS-CoV-2 antibodies — an indicator of past infection — in December and January estimated that more than 50% of the population in some areas of India’s large cities had already been exposed to the virus, which should have conferred some immunity, says Manoj Murhekar, an epidemiologist at the National Institute of Epidemiology in Chennai, who led the work. The studies also suggested that, nationally, some 271 million people had been infected1 — about one-fifth of India’s population of 1.4 billion.These figures made some researchers optimistic that the next stage of the pandemic would be less severe, says Ramanan Laxminarayan, an epidemiologist in Princeton University, New Jersey, who is based in New Delhi. But the latest eruption of COVID-19 is forcing them to rethink.One explanation might be that the first wave primarily hit the urban poor. Antibody studies might not have been representative of the entire population and potentially overestimated exposure in other groups, he says.The antibody data did not reflect the uneven spread of the virus, agrees Gagandeep Kang, a virologist at the Christian Medical College in Vellore, India. “The virus may be getting into populations that were previously able to protect themselves,” she says. That could include wealthier urban communities, in which people isolated during the first wave but had started mingling by the second.Source: Our World in DataBut some researchers say that the speed and scale of the current outbreak suggest a new ingredient: emerging variants of the virus.Udwadia has anecdotally observed that entire households are now getting infected — unlike in the first wave of COVID-19, when single individuals would test positive. He attributes this to the presence of more-infectious variants. “If one person in the family has it, I can guarantee that everyone in the family has it,” he says.Genomic surveillance data show that the variant B.1.1.7, which was first identified in the United Kingdom, has become the dominant form of the virus in the Indian state of Punjab.\\n\\nHas COVID peaked? Maybe, but it’s too soon to be sure\\nHas COVID peaked? Maybe, but it’s too soon to be sureAnd a new and potentially concerning variant first identified in India late last year, known as B.1.617, has become dominant in the state of Maharashtra. B.1.617 has drawn attention because it contains two mutations that have been linked to increased transmissibility and an ability to evade immune protection. It has now been detected in 20 other countries. Laboratories in India are trying to culture it to test how fast it replicates, and whether blood from vaccinated individuals can block infection, says Jameel.The situation in India looks similar to that late last year in Brazil, he adds, where a resurgence of COVID-19 in the city of Manaus coincided with the spread of a highly transmissible variant known as P.1, which might have been able to evade immunity conferred by infections with earlier strains.But others say that the existing sequencing data are not sufficient to make such claims. “As the numbers of sequences available are low, relative to the number of cases in India, we do need to be cautious,” says David Robertson, a virologist at the University of Glasgow, UK.Some say that emerging variants account for only a small part of India’s surge in infections. In many regions that are experiencing outbreaks, they don’t make up the majority of genomes sequenced, says Anurag Agrawal, director of the CSIR Institute of Genomics and Integrative Biology in New Delhi.Srinath Reddy, an epidemiologist and head of the Public Health Foundation of India in New Delhi, argues that people letting their guards down is a bigger driver. “The pandemic resurfaced in a fully open society where people were mixing and moving and travelling,” he says. \\n\\nIndia will supply coronavirus vaccines to the world — will its people benefit?\\nIndia will supply coronavirus vaccines to the world — will its people benefit?With cases declining after last September’s peak, “there was a public narrative that India had conquered COVID-19”, says Laxminarayan. In recent months, large crowds have gathered indoors and outdoors for political rallies, religious celebrations and weddings.The nationwide vaccination campaign, which kicked off in January, might even have contributed to an uptick in cases, if it caused people to ease public-health measures. “The arrival of the vaccine put everyone into a relaxed mood,” says Laxminarayan. More than 120 million doses have been administered, mostly of an Indian-produced version of the Oxford–AstraZeneca vaccine called Covishield. But that’s less than 10% of India’s population, so there is still a long way to go. In particular, India needs to ramp up vaccinations in the hardest-hit regions, says Kang.Some people might have become infected while getting vaccines, says Udwadia, because crowds often share clinic waiting areas with ill people who are waiting to be seen.Nature 592, 667-668 (2021)doi: https://doi.org/10.1038/d41586-021-01059-yMurhekar, M. V. et al. Preprint at SSRN https://dx.doi.org/10.2139/ssrn.3797589 (2021).Download referencesNews 15 SEP 21Correspondence 14 SEP 21News Feature 14 SEP 21News 15 SEP 21Correspondence 14 SEP 21News 10 SEP 21News 15 SEP 21Correspondence 14 SEP 21News Feature 14 SEP 21Wellcome Sanger InstituteCambridge, United KingdomShandong Institute of Advanced TechnologyJinan, Shandong, ChinaUniversity Hospital of Muenster (UKM), WWUMünster, GermanyMax Planck Institute for Plant Breeding Research (MPIPZ)Cologne, GermanyYou have full access to this article via your institution.An essential round-up of science news, opinion and analysis, delivered to your inbox every weekday.Sign up for the Nature Briefing newsletter — what matters in science, free to your inbox daily.\\n\\n                    Advanced search\\n                \\n\\n\\n                    Nature (Nature)\\n                \\n\\nISSN 1476-4687 (online)\\n    \\n\\nISSN 0028-0836 (print)\\n    \\n© 2021 Springer Nature Limited'"
      ]
     },
     "execution_count": 62,
     "metadata": {},
     "output_type": "execute_result"
    }
   ],
   "source": [
    "body=soup.body\n",
    "k=''\n",
    "for i in soup.find_all('p'):\n",
    "    k=k+i.text\n",
    "k"
   ]
  },
  {
   "cell_type": "markdown",
   "metadata": {},
   "source": [
    "# Calculate the length of scarped data and Extract frequently occurring 20 words from this paragraph."
   ]
  },
  {
   "cell_type": "code",
   "execution_count": 63,
   "metadata": {},
   "outputs": [
    {
     "data": {
      "text/plain": [
       "64"
      ]
     },
     "execution_count": 63,
     "metadata": {},
     "output_type": "execute_result"
    }
   ],
   "source": [
    "len(soup.find_all('p'))"
   ]
  },
  {
   "cell_type": "code",
   "execution_count": 64,
   "metadata": {},
   "outputs": [
    {
     "name": "stderr",
     "output_type": "stream",
     "text": [
      "[nltk_data] Error loading punkt: <urlopen error [Errno 11001]\n",
      "[nltk_data]     getaddrinfo failed>\n"
     ]
    },
    {
     "data": {
      "text/plain": [
       "False"
      ]
     },
     "execution_count": 64,
     "metadata": {},
     "output_type": "execute_result"
    }
   ],
   "source": [
    "import nltk\n",
    "nltk.download('punkt')"
   ]
  },
  {
   "cell_type": "code",
   "execution_count": 65,
   "metadata": {},
   "outputs": [
    {
     "name": "stderr",
     "output_type": "stream",
     "text": [
      "[nltk_data] Error loading stopwords: <urlopen error [Errno 11001]\n",
      "[nltk_data]     getaddrinfo failed>\n"
     ]
    },
    {
     "data": {
      "text/plain": [
       "False"
      ]
     },
     "execution_count": 65,
     "metadata": {},
     "output_type": "execute_result"
    }
   ],
   "source": [
    "nltk.download('stopwords')"
   ]
  },
  {
   "cell_type": "code",
   "execution_count": 66,
   "metadata": {},
   "outputs": [],
   "source": [
    "from nltk.corpus import stopwords\n",
    "stop_words=stopwords.words('english')\n",
    "stop_words.extend([',','.','(',')','``',\"''\",'’','[',']',':','%','?'])"
   ]
  },
  {
   "cell_type": "code",
   "execution_count": 67,
   "metadata": {},
   "outputs": [
    {
     "name": "stdout",
     "output_type": "stream",
     "text": [
      "words:\n",
      "['Thank', 'you', 'for', 'visiting', 'nature.com', '.', 'You', 'are', 'using', 'a', 'browser', 'version', 'with', 'limited', 'support', 'for', 'CSS', '.', 'To', 'obtain', 'the', 'best', 'experience', ',', 'we', 'recommend', 'you', 'use', 'a', 'more', 'up', 'to', 'date', 'browser', '(', 'or', 'turn', 'off', 'compatibility', 'mode', 'in', 'Internet', 'Explorer', ')', '.', 'In', 'the', 'meantime', ',', 'to', 'ensure', 'continued', 'support', ',', 'we', 'are', 'displaying', 'the', 'site', 'without', 'styles', 'and', 'JavaScript.AdvertisementYou', 'can', 'also', 'search', 'for', 'this', 'author', 'in', 'PubMed', 'Google', 'Scholar', 'You', 'have', 'full', 'access', 'to', 'this', 'article', 'via', 'your', 'institution.Ahead', 'of', 'a', 'lockdown', 'imposed', 'on', '14', 'April', ',', 'migrant', 'workers', 'queue', 'at', 'a', 'railway', 'station', 'to', 'depart', 'the', 'city', 'of', 'Mumbai', ',', 'India.Credit', ':', 'GettyThe', 'pandemic', 'is', 'sweeping', 'through', 'India', 'at', 'a', 'pace', 'that', 'has', 'staggered', 'scientists', '.', 'Daily', 'case', 'numbers', 'have', 'exploded', 'since', 'early', 'March', ':', 'the', 'government', 'reported', '273,810', 'new', 'infections', 'nationally', 'on', '18', 'April', '.', 'High', 'numbers', 'in', 'India', 'have', 'also', 'helped', 'drive', 'global', 'cases', 'to', 'a', 'daily', 'high', 'of', '854,855', 'in', 'the', 'past', 'week', ',', 'almost', 'breaking', 'a', 'record', 'set', 'in', 'January.Just', 'months', 'earlier', ',', 'antibody', 'data', 'had', 'suggested', 'that', 'many', 'people', 'in', 'cities', 'such', 'as', 'Delhi', 'and', 'Chennai', 'had', 'already', 'been', 'infected', ',', 'leading', 'some', 'researchers', 'to', 'conclude', 'that', 'the', 'worst', 'of', 'the', 'pandemic', 'was', 'over', 'in', 'the', 'country.Researchers', 'in', 'India', 'are', 'now', 'trying', 'to', 'pinpoint', 'what', 'is', 'behind', 'the', 'unprecedented', 'surge', ',', 'which', 'could', 'be', 'due', 'to', 'an', 'unfortunate', 'confluence', 'of', 'factors', ',', 'including', 'the', 'emergence', 'of', 'particularly', 'infectious', 'variants', ',', 'a', 'rise', 'in', 'unrestricted', 'social', 'interactions', ',', 'and', 'low', 'vaccine', 'coverage', '.', 'Untangling', 'the', 'causes', 'could', 'be', 'helpful', 'to', 'governments', 'trying', 'to', 'suppress', 'or', 'prevent', 'similar', 'surges', 'around', 'the', 'world.European', 'countries', 'such', 'as', 'France', 'and', 'Germany', 'are', 'also', 'currently', 'experiencing', 'large', 'outbreaks', 'relative', 'to', 'their', 'size', ',', 'and', 'nations', 'including', 'Brazil', 'and', 'the', 'United', 'States', 'are', 'reporting', 'high', 'infection', 'rates', 'at', 'around', '70,000', 'a', 'day', '.', 'But', 'India', '’', 's', 'daily', 'totals', 'are', 'now', 'some', 'of', 'the', 'highest', 'ever', 'recorded', 'for', 'any', 'country', ',', 'and', 'are', 'not', 'far', 'off', 'a', 'peak', 'of', '300,000', 'cases', 'seen', 'in', 'the', 'United', 'States', 'on', '2', 'January.COVID-19', 'case', 'numbers', 'started', 'to', 'drop', 'in', 'India', 'last', 'September', ',', 'after', 'a', 'high', 'of', 'around', '100,000', 'daily', 'infections', '.', 'But', 'they', 'began', 'to', 'rise', 'again', 'in', 'March', 'and', 'the', 'current', 'peak', 'is', 'more', 'than', 'double', 'the', 'previous', 'one', '(', 'see', '‘', 'Surging', 'cases', 'of', 'COVID-19', '’', ')', '.', '“', 'The', 'second', 'wave', 'has', 'made', 'the', 'last', 'one', 'look', 'like', 'a', 'ripple', 'in', 'a', 'bathtub', ',', '”', 'says', 'Zarir', 'Udwadia', ',', 'a', 'clinician-researcher', 'in', 'pulmonary', 'medicine', 'at', 'P', 'D', 'Hinduja', 'Hospital', '&', 'Medical', 'Research', 'Centre', 'in', 'Mumbai', ',', 'who', 'spoke', 'to', 'Nature', 'during', 'a', 'break', 'from', 'working', 'in', 'the', 'intensive-care', 'unit', '.', 'He', 'describes', 'a', '“', 'nightmarish', '”', 'situation', 'at', 'hospitals', ',', 'where', 'beds', 'and', 'treatments', 'are', 'in', 'extremely', 'short', 'supply.Shahid', 'Jameel', ',', 'a', 'virologist', 'at', 'Ashoka', 'University', 'in', 'Sonipat', ',', 'agrees', 'that', 'the', 'intensity', 'of', 'the', 'current', 'wave', 'is', 'startling', '.', '“', 'I', 'was', 'expecting', 'fresh', 'waves', 'of', 'infection', ',', 'but', 'I', 'would', 'not', 'have', 'dreamt', 'that', 'it', 'would', 'be', 'this', 'strong', ',', '”', 'he', 'says', '.', 'India', '’', 's', 'COVID-vaccine', 'woes', '—', 'by', 'the', 'numbers', 'India', '’', 's', 'COVID-vaccine', 'woes', '—', 'by', 'the', 'numbersStudies', 'that', 'tested', 'for', 'SARS-CoV-2', 'antibodies', '—', 'an', 'indicator', 'of', 'past', 'infection', '—', 'in', 'December', 'and', 'January', 'estimated', 'that', 'more', 'than', '50', '%', 'of', 'the', 'population', 'in', 'some', 'areas', 'of', 'India', '’', 's', 'large', 'cities', 'had', 'already', 'been', 'exposed', 'to', 'the', 'virus', ',', 'which', 'should', 'have', 'conferred', 'some', 'immunity', ',', 'says', 'Manoj', 'Murhekar', ',', 'an', 'epidemiologist', 'at', 'the', 'National', 'Institute', 'of', 'Epidemiology', 'in', 'Chennai', ',', 'who', 'led', 'the', 'work', '.', 'The', 'studies', 'also', 'suggested', 'that', ',', 'nationally', ',', 'some', '271', 'million', 'people', 'had', 'been', 'infected1', '—', 'about', 'one-fifth', 'of', 'India', '’', 's', 'population', 'of', '1.4', 'billion.These', 'figures', 'made', 'some', 'researchers', 'optimistic', 'that', 'the', 'next', 'stage', 'of', 'the', 'pandemic', 'would', 'be', 'less', 'severe', ',', 'says', 'Ramanan', 'Laxminarayan', ',', 'an', 'epidemiologist', 'in', 'Princeton', 'University', ',', 'New', 'Jersey', ',', 'who', 'is', 'based', 'in', 'New', 'Delhi', '.', 'But', 'the', 'latest', 'eruption', 'of', 'COVID-19', 'is', 'forcing', 'them', 'to', 'rethink.One', 'explanation', 'might', 'be', 'that', 'the', 'first', 'wave', 'primarily', 'hit', 'the', 'urban', 'poor', '.', 'Antibody', 'studies', 'might', 'not', 'have', 'been', 'representative', 'of', 'the', 'entire', 'population', 'and', 'potentially', 'overestimated', 'exposure', 'in', 'other', 'groups', ',', 'he', 'says.The', 'antibody', 'data', 'did', 'not', 'reflect', 'the', 'uneven', 'spread', 'of', 'the', 'virus', ',', 'agrees', 'Gagandeep', 'Kang', ',', 'a', 'virologist', 'at', 'the', 'Christian', 'Medical', 'College', 'in', 'Vellore', ',', 'India', '.', '“', 'The', 'virus', 'may', 'be', 'getting', 'into', 'populations', 'that', 'were', 'previously', 'able', 'to', 'protect', 'themselves', ',', '”', 'she', 'says', '.', 'That', 'could', 'include', 'wealthier', 'urban', 'communities', ',', 'in', 'which', 'people', 'isolated', 'during', 'the', 'first', 'wave', 'but', 'had', 'started', 'mingling', 'by', 'the', 'second.Source', ':', 'Our', 'World', 'in', 'DataBut', 'some', 'researchers', 'say', 'that', 'the', 'speed', 'and', 'scale', 'of', 'the', 'current', 'outbreak', 'suggest', 'a', 'new', 'ingredient', ':', 'emerging', 'variants', 'of', 'the', 'virus.Udwadia', 'has', 'anecdotally', 'observed', 'that', 'entire', 'households', 'are', 'now', 'getting', 'infected', '—', 'unlike', 'in', 'the', 'first', 'wave', 'of', 'COVID-19', ',', 'when', 'single', 'individuals', 'would', 'test', 'positive', '.', 'He', 'attributes', 'this', 'to', 'the', 'presence', 'of', 'more-infectious', 'variants', '.', '“', 'If', 'one', 'person', 'in', 'the', 'family', 'has', 'it', ',', 'I', 'can', 'guarantee', 'that', 'everyone', 'in', 'the', 'family', 'has', 'it', ',', '”', 'he', 'says.Genomic', 'surveillance', 'data', 'show', 'that', 'the', 'variant', 'B.1.1.7', ',', 'which', 'was', 'first', 'identified', 'in', 'the', 'United', 'Kingdom', ',', 'has', 'become', 'the', 'dominant', 'form', 'of', 'the', 'virus', 'in', 'the', 'Indian', 'state', 'of', 'Punjab', '.', 'Has', 'COVID', 'peaked', '?', 'Maybe', ',', 'but', 'it', '’', 's', 'too', 'soon', 'to', 'be', 'sure', 'Has', 'COVID', 'peaked', '?', 'Maybe', ',', 'but', 'it', '’', 's', 'too', 'soon', 'to', 'be', 'sureAnd', 'a', 'new', 'and', 'potentially', 'concerning', 'variant', 'first', 'identified', 'in', 'India', 'late', 'last', 'year', ',', 'known', 'as', 'B.1.617', ',', 'has', 'become', 'dominant', 'in', 'the', 'state', 'of', 'Maharashtra', '.', 'B.1.617', 'has', 'drawn', 'attention', 'because', 'it', 'contains', 'two', 'mutations', 'that', 'have', 'been', 'linked', 'to', 'increased', 'transmissibility', 'and', 'an', 'ability', 'to', 'evade', 'immune', 'protection', '.', 'It', 'has', 'now', 'been', 'detected', 'in', '20', 'other', 'countries', '.', 'Laboratories', 'in', 'India', 'are', 'trying', 'to', 'culture', 'it', 'to', 'test', 'how', 'fast', 'it', 'replicates', ',', 'and', 'whether', 'blood', 'from', 'vaccinated', 'individuals', 'can', 'block', 'infection', ',', 'says', 'Jameel.The', 'situation', 'in', 'India', 'looks', 'similar', 'to', 'that', 'late', 'last', 'year', 'in', 'Brazil', ',', 'he', 'adds', ',', 'where', 'a', 'resurgence', 'of', 'COVID-19', 'in', 'the', 'city', 'of', 'Manaus', 'coincided', 'with', 'the', 'spread', 'of', 'a', 'highly', 'transmissible', 'variant', 'known', 'as', 'P.1', ',', 'which', 'might', 'have', 'been', 'able', 'to', 'evade', 'immunity', 'conferred', 'by', 'infections', 'with', 'earlier', 'strains.But', 'others', 'say', 'that', 'the', 'existing', 'sequencing', 'data', 'are', 'not', 'sufficient', 'to', 'make', 'such', 'claims', '.', '“', 'As', 'the', 'numbers', 'of', 'sequences', 'available', 'are', 'low', ',', 'relative', 'to', 'the', 'number', 'of', 'cases', 'in', 'India', ',', 'we', 'do', 'need', 'to', 'be', 'cautious', ',', '”', 'says', 'David', 'Robertson', ',', 'a', 'virologist', 'at', 'the', 'University', 'of', 'Glasgow', ',', 'UK.Some', 'say', 'that', 'emerging', 'variants', 'account', 'for', 'only', 'a', 'small', 'part', 'of', 'India', '’', 's', 'surge', 'in', 'infections', '.', 'In', 'many', 'regions', 'that', 'are', 'experiencing', 'outbreaks', ',', 'they', 'don', '’', 't', 'make', 'up', 'the', 'majority', 'of', 'genomes', 'sequenced', ',', 'says', 'Anurag', 'Agrawal', ',', 'director', 'of', 'the', 'CSIR', 'Institute', 'of', 'Genomics', 'and', 'Integrative', 'Biology', 'in', 'New', 'Delhi.Srinath', 'Reddy', ',', 'an', 'epidemiologist', 'and', 'head', 'of', 'the', 'Public', 'Health', 'Foundation', 'of', 'India', 'in', 'New', 'Delhi', ',', 'argues', 'that', 'people', 'letting', 'their', 'guards', 'down', 'is', 'a', 'bigger', 'driver', '.', '“', 'The', 'pandemic', 'resurfaced', 'in', 'a', 'fully', 'open', 'society', 'where', 'people', 'were', 'mixing', 'and', 'moving', 'and', 'travelling', ',', '”', 'he', 'says', '.', 'India', 'will', 'supply', 'coronavirus', 'vaccines', 'to', 'the', 'world', '—', 'will', 'its', 'people', 'benefit', '?', 'India', 'will', 'supply', 'coronavirus', 'vaccines', 'to', 'the', 'world', '—', 'will', 'its', 'people', 'benefit', '?', 'With', 'cases', 'declining', 'after', 'last', 'September', '’', 's', 'peak', ',', '“', 'there', 'was', 'a', 'public', 'narrative', 'that', 'India', 'had', 'conquered', 'COVID-19', '”', ',', 'says', 'Laxminarayan', '.', 'In', 'recent', 'months', ',', 'large', 'crowds', 'have', 'gathered', 'indoors', 'and', 'outdoors', 'for', 'political', 'rallies', ',', 'religious', 'celebrations', 'and', 'weddings.The', 'nationwide', 'vaccination', 'campaign', ',', 'which', 'kicked', 'off', 'in', 'January', ',', 'might', 'even', 'have', 'contributed', 'to', 'an', 'uptick', 'in', 'cases', ',', 'if', 'it', 'caused', 'people', 'to', 'ease', 'public-health', 'measures', '.', '“', 'The', 'arrival', 'of', 'the', 'vaccine', 'put', 'everyone', 'into', 'a', 'relaxed', 'mood', ',', '”', 'says', 'Laxminarayan', '.', 'More', 'than', '120', 'million', 'doses', 'have', 'been', 'administered', ',', 'mostly', 'of', 'an', 'Indian-produced', 'version', 'of', 'the', 'Oxford–AstraZeneca', 'vaccine', 'called', 'Covishield', '.', 'But', 'that', '’', 's', 'less', 'than', '10', '%', 'of', 'India', '’', 's', 'population', ',', 'so', 'there', 'is', 'still', 'a', 'long', 'way', 'to', 'go', '.', 'In', 'particular', ',', 'India', 'needs', 'to', 'ramp', 'up', 'vaccinations', 'in', 'the', 'hardest-hit', 'regions', ',', 'says', 'Kang.Some', 'people', 'might', 'have', 'become', 'infected', 'while', 'getting', 'vaccines', ',', 'says', 'Udwadia', ',', 'because', 'crowds', 'often', 'share', 'clinic', 'waiting', 'areas', 'with', 'ill', 'people', 'who', 'are', 'waiting', 'to', 'be', 'seen.Nature', '592', ',', '667-668', '(', '2021', ')', 'doi', ':', 'https', ':', '//doi.org/10.1038/d41586-021-01059-yMurhekar', ',', 'M.', 'V.', 'et', 'al', '.', 'Preprint', 'at', 'SSRN', 'https', ':', '//dx.doi.org/10.2139/ssrn.3797589', '(', '2021', ')', '.Download', 'referencesNews', '15', 'SEP', '21Correspondence', '14', 'SEP', '21News', 'Feature', '14', 'SEP', '21News', '15', 'SEP', '21Correspondence', '14', 'SEP', '21News', '10', 'SEP', '21News', '15', 'SEP', '21Correspondence', '14', 'SEP', '21News', 'Feature', '14', 'SEP', '21Wellcome', 'Sanger', 'InstituteCambridge', ',', 'United', 'KingdomShandong', 'Institute', 'of', 'Advanced', 'TechnologyJinan', ',', 'Shandong', ',', 'ChinaUniversity', 'Hospital', 'of', 'Muenster', '(', 'UKM', ')', ',', 'WWUMünster', ',', 'GermanyMax', 'Planck', 'Institute', 'for', 'Plant', 'Breeding', 'Research', '(', 'MPIPZ', ')', 'Cologne', ',', 'GermanyYou', 'have', 'full', 'access', 'to', 'this', 'article', 'via', 'your', 'institution.An', 'essential', 'round-up', 'of', 'science', 'news', ',', 'opinion', 'and', 'analysis', ',', 'delivered', 'to', 'your', 'inbox', 'every', 'weekday.Sign', 'up', 'for', 'the', 'Nature', 'Briefing', 'newsletter', '—', 'what', 'matters', 'in', 'science', ',', 'free', 'to', 'your', 'inbox', 'daily', '.', 'Advanced', 'search', 'Nature', '(', 'Nature', ')', 'ISSN', '1476-4687', '(', 'online', ')', 'ISSN', '0028-0836', '(', 'print', ')', '©', '2021', 'Springer', 'Nature', 'Limited']\n"
     ]
    }
   ],
   "source": [
    "new_tokn = nltk.word_tokenize(k)\n",
    "print ('words:')\n",
    "print   (new_tokn)"
   ]
  },
  {
   "cell_type": "code",
   "execution_count": 68,
   "metadata": {},
   "outputs": [
    {
     "name": "stdout",
     "output_type": "stream",
     "text": [
      "['Thank', 'visiting', 'nature.com', 'You', 'using', 'browser', 'version', 'limited', 'support', 'CSS', 'To', 'obtain', 'best', 'experience', 'recommend', 'use', 'date', 'browser', 'turn', 'compatibility', 'mode', 'Internet', 'Explorer', 'In', 'meantime', 'ensure', 'continued', 'support', 'displaying', 'site', 'without', 'styles', 'JavaScript.AdvertisementYou', 'also', 'search', 'author', 'PubMed', 'Google', 'Scholar', 'You', 'full', 'access', 'article', 'via', 'institution.Ahead', 'lockdown', 'imposed', '14', 'April', 'migrant', 'workers', 'queue', 'railway', 'station', 'depart', 'city', 'Mumbai', 'India.Credit', 'GettyThe', 'pandemic', 'sweeping', 'India', 'pace', 'staggered', 'scientists', 'Daily', 'case', 'numbers', 'exploded', 'since', 'early', 'March', 'government', 'reported', '273,810', 'new', 'infections', 'nationally', '18', 'April', 'High', 'numbers', 'India', 'also', 'helped', 'drive', 'global', 'cases', 'daily', 'high', '854,855', 'past', 'week', 'almost', 'breaking', 'record', 'set', 'January.Just', 'months', 'earlier', 'antibody', 'data', 'suggested', 'many', 'people', 'cities', 'Delhi', 'Chennai', 'already', 'infected', 'leading', 'researchers', 'conclude', 'worst', 'pandemic', 'country.Researchers', 'India', 'trying', 'pinpoint', 'behind', 'unprecedented', 'surge', 'could', 'due', 'unfortunate', 'confluence', 'factors', 'including', 'emergence', 'particularly', 'infectious', 'variants', 'rise', 'unrestricted', 'social', 'interactions', 'low', 'vaccine', 'coverage', 'Untangling', 'causes', 'could', 'helpful', 'governments', 'trying', 'suppress', 'prevent', 'similar', 'surges', 'around', 'world.European', 'countries', 'France', 'Germany', 'also', 'currently', 'experiencing', 'large', 'outbreaks', 'relative', 'size', 'nations', 'including', 'Brazil', 'United', 'States', 'reporting', 'high', 'infection', 'rates', 'around', '70,000', 'day', 'But', 'India', 'daily', 'totals', 'highest', 'ever', 'recorded', 'country', 'far', 'peak', '300,000', 'cases', 'seen', 'United', 'States', '2', 'January.COVID-19', 'case', 'numbers', 'started', 'drop', 'India', 'last', 'September', 'high', 'around', '100,000', 'daily', 'infections', 'But', 'began', 'rise', 'March', 'current', 'peak', 'double', 'previous', 'one', 'see', '‘', 'Surging', 'cases', 'COVID-19', '“', 'The', 'second', 'wave', 'made', 'last', 'one', 'look', 'like', 'ripple', 'bathtub', '”', 'says', 'Zarir', 'Udwadia', 'clinician-researcher', 'pulmonary', 'medicine', 'P', 'D', 'Hinduja', 'Hospital', '&', 'Medical', 'Research', 'Centre', 'Mumbai', 'spoke', 'Nature', 'break', 'working', 'intensive-care', 'unit', 'He', 'describes', '“', 'nightmarish', '”', 'situation', 'hospitals', 'beds', 'treatments', 'extremely', 'short', 'supply.Shahid', 'Jameel', 'virologist', 'Ashoka', 'University', 'Sonipat', 'agrees', 'intensity', 'current', 'wave', 'startling', '“', 'I', 'expecting', 'fresh', 'waves', 'infection', 'I', 'would', 'dreamt', 'would', 'strong', '”', 'says', 'India', 'COVID-vaccine', 'woes', '—', 'numbers', 'India', 'COVID-vaccine', 'woes', '—', 'numbersStudies', 'tested', 'SARS-CoV-2', 'antibodies', '—', 'indicator', 'past', 'infection', '—', 'December', 'January', 'estimated', '50', 'population', 'areas', 'India', 'large', 'cities', 'already', 'exposed', 'virus', 'conferred', 'immunity', 'says', 'Manoj', 'Murhekar', 'epidemiologist', 'National', 'Institute', 'Epidemiology', 'Chennai', 'led', 'work', 'The', 'studies', 'also', 'suggested', 'nationally', '271', 'million', 'people', 'infected1', '—', 'one-fifth', 'India', 'population', '1.4', 'billion.These', 'figures', 'made', 'researchers', 'optimistic', 'next', 'stage', 'pandemic', 'would', 'less', 'severe', 'says', 'Ramanan', 'Laxminarayan', 'epidemiologist', 'Princeton', 'University', 'New', 'Jersey', 'based', 'New', 'Delhi', 'But', 'latest', 'eruption', 'COVID-19', 'forcing', 'rethink.One', 'explanation', 'might', 'first', 'wave', 'primarily', 'hit', 'urban', 'poor', 'Antibody', 'studies', 'might', 'representative', 'entire', 'population', 'potentially', 'overestimated', 'exposure', 'groups', 'says.The', 'antibody', 'data', 'reflect', 'uneven', 'spread', 'virus', 'agrees', 'Gagandeep', 'Kang', 'virologist', 'Christian', 'Medical', 'College', 'Vellore', 'India', '“', 'The', 'virus', 'may', 'getting', 'populations', 'previously', 'able', 'protect', '”', 'says', 'That', 'could', 'include', 'wealthier', 'urban', 'communities', 'people', 'isolated', 'first', 'wave', 'started', 'mingling', 'second.Source', 'Our', 'World', 'DataBut', 'researchers', 'say', 'speed', 'scale', 'current', 'outbreak', 'suggest', 'new', 'ingredient', 'emerging', 'variants', 'virus.Udwadia', 'anecdotally', 'observed', 'entire', 'households', 'getting', 'infected', '—', 'unlike', 'first', 'wave', 'COVID-19', 'single', 'individuals', 'would', 'test', 'positive', 'He', 'attributes', 'presence', 'more-infectious', 'variants', '“', 'If', 'one', 'person', 'family', 'I', 'guarantee', 'everyone', 'family', '”', 'says.Genomic', 'surveillance', 'data', 'show', 'variant', 'B.1.1.7', 'first', 'identified', 'United', 'Kingdom', 'become', 'dominant', 'form', 'virus', 'Indian', 'state', 'Punjab', 'Has', 'COVID', 'peaked', 'Maybe', 'soon', 'sure', 'Has', 'COVID', 'peaked', 'Maybe', 'soon', 'sureAnd', 'new', 'potentially', 'concerning', 'variant', 'first', 'identified', 'India', 'late', 'last', 'year', 'known', 'B.1.617', 'become', 'dominant', 'state', 'Maharashtra', 'B.1.617', 'drawn', 'attention', 'contains', 'two', 'mutations', 'linked', 'increased', 'transmissibility', 'ability', 'evade', 'immune', 'protection', 'It', 'detected', '20', 'countries', 'Laboratories', 'India', 'trying', 'culture', 'test', 'fast', 'replicates', 'whether', 'blood', 'vaccinated', 'individuals', 'block', 'infection', 'says', 'Jameel.The', 'situation', 'India', 'looks', 'similar', 'late', 'last', 'year', 'Brazil', 'adds', 'resurgence', 'COVID-19', 'city', 'Manaus', 'coincided', 'spread', 'highly', 'transmissible', 'variant', 'known', 'P.1', 'might', 'able', 'evade', 'immunity', 'conferred', 'infections', 'earlier', 'strains.But', 'others', 'say', 'existing', 'sequencing', 'data', 'sufficient', 'make', 'claims', '“', 'As', 'numbers', 'sequences', 'available', 'low', 'relative', 'number', 'cases', 'India', 'need', 'cautious', '”', 'says', 'David', 'Robertson', 'virologist', 'University', 'Glasgow', 'UK.Some', 'say', 'emerging', 'variants', 'account', 'small', 'part', 'India', 'surge', 'infections', 'In', 'many', 'regions', 'experiencing', 'outbreaks', 'make', 'majority', 'genomes', 'sequenced', 'says', 'Anurag', 'Agrawal', 'director', 'CSIR', 'Institute', 'Genomics', 'Integrative', 'Biology', 'New', 'Delhi.Srinath', 'Reddy', 'epidemiologist', 'head', 'Public', 'Health', 'Foundation', 'India', 'New', 'Delhi', 'argues', 'people', 'letting', 'guards', 'bigger', 'driver', '“', 'The', 'pandemic', 'resurfaced', 'fully', 'open', 'society', 'people', 'mixing', 'moving', 'travelling', '”', 'says', 'India', 'supply', 'coronavirus', 'vaccines', 'world', '—', 'people', 'benefit', 'India', 'supply', 'coronavirus', 'vaccines', 'world', '—', 'people', 'benefit', 'With', 'cases', 'declining', 'last', 'September', 'peak', '“', 'public', 'narrative', 'India', 'conquered', 'COVID-19', '”', 'says', 'Laxminarayan', 'In', 'recent', 'months', 'large', 'crowds', 'gathered', 'indoors', 'outdoors', 'political', 'rallies', 'religious', 'celebrations', 'weddings.The', 'nationwide', 'vaccination', 'campaign', 'kicked', 'January', 'might', 'even', 'contributed', 'uptick', 'cases', 'caused', 'people', 'ease', 'public-health', 'measures', '“', 'The', 'arrival', 'vaccine', 'put', 'everyone', 'relaxed', 'mood', '”', 'says', 'Laxminarayan', 'More', '120', 'million', 'doses', 'administered', 'mostly', 'Indian-produced', 'version', 'Oxford–AstraZeneca', 'vaccine', 'called', 'Covishield', 'But', 'less', '10', 'India', 'population', 'still', 'long', 'way', 'go', 'In', 'particular', 'India', 'needs', 'ramp', 'vaccinations', 'hardest-hit', 'regions', 'says', 'Kang.Some', 'people', 'might', 'become', 'infected', 'getting', 'vaccines', 'says', 'Udwadia', 'crowds', 'often', 'share', 'clinic', 'waiting', 'areas', 'ill', 'people', 'waiting', 'seen.Nature', '592', '667-668', '2021', 'doi', 'https', '//doi.org/10.1038/d41586-021-01059-yMurhekar', 'M.', 'V.', 'et', 'al', 'Preprint', 'SSRN', 'https', '//dx.doi.org/10.2139/ssrn.3797589', '2021', '.Download', 'referencesNews', '15', 'SEP', '21Correspondence', '14', 'SEP', '21News', 'Feature', '14', 'SEP', '21News', '15', 'SEP', '21Correspondence', '14', 'SEP', '21News', '10', 'SEP', '21News', '15', 'SEP', '21Correspondence', '14', 'SEP', '21News', 'Feature', '14', 'SEP', '21Wellcome', 'Sanger', 'InstituteCambridge', 'United', 'KingdomShandong', 'Institute', 'Advanced', 'TechnologyJinan', 'Shandong', 'ChinaUniversity', 'Hospital', 'Muenster', 'UKM', 'WWUMünster', 'GermanyMax', 'Planck', 'Institute', 'Plant', 'Breeding', 'Research', 'MPIPZ', 'Cologne', 'GermanyYou', 'full', 'access', 'article', 'via', 'institution.An', 'essential', 'round-up', 'science', 'news', 'opinion', 'analysis', 'delivered', 'inbox', 'every', 'weekday.Sign', 'Nature', 'Briefing', 'newsletter', '—', 'matters', 'science', 'free', 'inbox', 'daily', 'Advanced', 'search', 'Nature', 'Nature', 'ISSN', '1476-4687', 'online', 'ISSN', '0028-0836', 'print', '©', '2021', 'Springer', 'Nature', 'Limited']\n"
     ]
    }
   ],
   "source": [
    "new_set= []\n",
    " \n",
    "for w in new_tokn:\n",
    "    if w not in stop_words:\n",
    "        new_set.append(w)\n",
    "print(new_set)"
   ]
  },
  {
   "cell_type": "code",
   "execution_count": 69,
   "metadata": {},
   "outputs": [
    {
     "data": {
      "text/plain": [
       "[('India', 21),\n",
       " ('says', 13),\n",
       " ('people', 10),\n",
       " ('“', 9),\n",
       " ('”', 9),\n",
       " ('—', 9),\n",
       " ('SEP', 9),\n",
       " ('14', 6),\n",
       " ('cases', 6),\n",
       " ('numbers', 5),\n",
       " ('last', 5),\n",
       " ('COVID-19', 5),\n",
       " ('The', 5),\n",
       " ('wave', 5),\n",
       " ('Nature', 5),\n",
       " ('might', 5),\n",
       " ('first', 5),\n",
       " ('21News', 5),\n",
       " ('In', 4),\n",
       " ('also', 4)]"
      ]
     },
     "execution_count": 69,
     "metadata": {},
     "output_type": "execute_result"
    }
   ],
   "source": [
    "from nltk.probability import FreqDist\n",
    "fdist=FreqDist(new_set)\n",
    "F=fdist.most_common(20)\n",
    "F\n"
   ]
  },
  {
   "cell_type": "markdown",
   "metadata": {},
   "source": [
    "# Visualize the distribution of words"
   ]
  },
  {
   "cell_type": "code",
   "execution_count": null,
   "metadata": {},
   "outputs": [],
   "source": []
  },
  {
   "cell_type": "code",
   "execution_count": 70,
   "metadata": {},
   "outputs": [
    {
     "data": {
      "text/html": [
       "<div>\n",
       "<style scoped>\n",
       "    .dataframe tbody tr th:only-of-type {\n",
       "        vertical-align: middle;\n",
       "    }\n",
       "\n",
       "    .dataframe tbody tr th {\n",
       "        vertical-align: top;\n",
       "    }\n",
       "\n",
       "    .dataframe thead th {\n",
       "        text-align: right;\n",
       "    }\n",
       "</style>\n",
       "<table border=\"1\" class=\"dataframe\">\n",
       "  <thead>\n",
       "    <tr style=\"text-align: right;\">\n",
       "      <th></th>\n",
       "      <th>Words</th>\n",
       "      <th>Frequency</th>\n",
       "    </tr>\n",
       "  </thead>\n",
       "  <tbody>\n",
       "    <tr>\n",
       "      <th>0</th>\n",
       "      <td>India</td>\n",
       "      <td>21</td>\n",
       "    </tr>\n",
       "    <tr>\n",
       "      <th>1</th>\n",
       "      <td>says</td>\n",
       "      <td>13</td>\n",
       "    </tr>\n",
       "    <tr>\n",
       "      <th>2</th>\n",
       "      <td>people</td>\n",
       "      <td>10</td>\n",
       "    </tr>\n",
       "    <tr>\n",
       "      <th>3</th>\n",
       "      <td>“</td>\n",
       "      <td>9</td>\n",
       "    </tr>\n",
       "    <tr>\n",
       "      <th>4</th>\n",
       "      <td>”</td>\n",
       "      <td>9</td>\n",
       "    </tr>\n",
       "    <tr>\n",
       "      <th>5</th>\n",
       "      <td>—</td>\n",
       "      <td>9</td>\n",
       "    </tr>\n",
       "    <tr>\n",
       "      <th>6</th>\n",
       "      <td>SEP</td>\n",
       "      <td>9</td>\n",
       "    </tr>\n",
       "    <tr>\n",
       "      <th>7</th>\n",
       "      <td>14</td>\n",
       "      <td>6</td>\n",
       "    </tr>\n",
       "    <tr>\n",
       "      <th>8</th>\n",
       "      <td>cases</td>\n",
       "      <td>6</td>\n",
       "    </tr>\n",
       "    <tr>\n",
       "      <th>9</th>\n",
       "      <td>numbers</td>\n",
       "      <td>5</td>\n",
       "    </tr>\n",
       "    <tr>\n",
       "      <th>10</th>\n",
       "      <td>last</td>\n",
       "      <td>5</td>\n",
       "    </tr>\n",
       "    <tr>\n",
       "      <th>11</th>\n",
       "      <td>COVID-19</td>\n",
       "      <td>5</td>\n",
       "    </tr>\n",
       "    <tr>\n",
       "      <th>12</th>\n",
       "      <td>The</td>\n",
       "      <td>5</td>\n",
       "    </tr>\n",
       "    <tr>\n",
       "      <th>13</th>\n",
       "      <td>wave</td>\n",
       "      <td>5</td>\n",
       "    </tr>\n",
       "    <tr>\n",
       "      <th>14</th>\n",
       "      <td>Nature</td>\n",
       "      <td>5</td>\n",
       "    </tr>\n",
       "    <tr>\n",
       "      <th>15</th>\n",
       "      <td>might</td>\n",
       "      <td>5</td>\n",
       "    </tr>\n",
       "    <tr>\n",
       "      <th>16</th>\n",
       "      <td>first</td>\n",
       "      <td>5</td>\n",
       "    </tr>\n",
       "    <tr>\n",
       "      <th>17</th>\n",
       "      <td>21News</td>\n",
       "      <td>5</td>\n",
       "    </tr>\n",
       "    <tr>\n",
       "      <th>18</th>\n",
       "      <td>In</td>\n",
       "      <td>4</td>\n",
       "    </tr>\n",
       "    <tr>\n",
       "      <th>19</th>\n",
       "      <td>also</td>\n",
       "      <td>4</td>\n",
       "    </tr>\n",
       "  </tbody>\n",
       "</table>\n",
       "</div>"
      ],
      "text/plain": [
       "       Words  Frequency\n",
       "0      India         21\n",
       "1       says         13\n",
       "2     people         10\n",
       "3          “          9\n",
       "4          ”          9\n",
       "5          —          9\n",
       "6        SEP          9\n",
       "7         14          6\n",
       "8      cases          6\n",
       "9    numbers          5\n",
       "10      last          5\n",
       "11  COVID-19          5\n",
       "12       The          5\n",
       "13      wave          5\n",
       "14    Nature          5\n",
       "15     might          5\n",
       "16     first          5\n",
       "17    21News          5\n",
       "18        In          4\n",
       "19      also          4"
      ]
     },
     "execution_count": 70,
     "metadata": {},
     "output_type": "execute_result"
    }
   ],
   "source": [
    "import pandas as pd\n",
    "dataframe = pd.DataFrame(F, columns=['Words', 'Frequency'])\n",
    "\n",
    "dataframe"
   ]
  },
  {
   "cell_type": "code",
   "execution_count": 71,
   "metadata": {},
   "outputs": [
    {
     "data": {
      "image/png": "[encoded data removed]",
      "text/plain": [
       "<Figure size 432x288 with 1 Axes>"
      ]
     },
     "metadata": {},
     "output_type": "display_data"
    },
    {
     "data": {
      "text/plain": [
       "<Figure size 5760x3600 with 0 Axes>"
      ]
     },
     "metadata": {},
     "output_type": "display_data"
    }
   ],
   "source": [
    "import matplotlib.pyplot as plt\n",
    "plt.pie(dataframe[\"Frequency\"], labels=dataframe[\"Words\"])\n",
    "plt.figure(figsize=(80,50))\n",
    "plt.show()"
   ]
  },
  {
   "cell_type": "code",
   "execution_count": 37,
   "metadata": {},
   "outputs": [
    {
     "data": {
      "image/png": "[encoded data removed]",
      "text/plain": [
       "<Figure size 432x288 with 1 Axes>"
      ]
     },
     "metadata": {
      "needs_background": "light"
     },
     "output_type": "display_data"
    },
    {
     "data": {
      "text/plain": [
       "<matplotlib.axes._subplots.AxesSubplot at 0x25824020ac0>"
      ]
     },
     "execution_count": 37,
     "metadata": {},
     "output_type": "execute_result"
    }
   ],
   "source": [
    "fdist.plot(30,title='Frequency distribution of the 20 most common tokens')"
   ]
  },
  {
   "cell_type": "code",
   "execution_count": 72,
   "metadata": {},
   "outputs": [
    {
     "data": {
      "text/plain": [
       "<BarContainer object of 20 artists>"
      ]
     },
     "execution_count": 72,
     "metadata": {},
     "output_type": "execute_result"
    },
    {
     "data": {
      "image/png": "[encoded data removed]",
      "text/plain": [
       "<Figure size 1440x288 with 1 Axes>"
      ]
     },
     "metadata": {
      "needs_background": "light"
     },
     "output_type": "display_data"
    }
   ],
   "source": [
    "\n",
    "import matplotlib.pyplot as plt\n",
    "f = plt.figure()\n",
    "f.set_figwidth(20)\n",
    "\n",
    "w_keys, w_vals = zip(*F)\n",
    "plt.bar(w_keys, w_vals)"
   ]
  },
  {
   "cell_type": "markdown",
   "metadata": {},
   "source": [
    "# 4. Identify the noun phrase present"
   ]
  },
  {
   "cell_type": "code",
   "execution_count": 78,
   "metadata": {},
   "outputs": [],
   "source": [
    "new_k = nltk.sent_tokenize(k)"
   ]
  },
  {
   "cell_type": "code",
   "execution_count": 79,
   "metadata": {},
   "outputs": [
    {
     "name": "stderr",
     "output_type": "stream",
     "text": [
      "[nltk_data] Downloading package brown to C:\\Users\\Prabal\n",
      "[nltk_data]     Ghosh\\AppData\\Roaming\\nltk_data...\n",
      "[nltk_data]   Package brown is already up-to-date!\n"
     ]
    },
    {
     "data": {
      "text/plain": [
       "True"
      ]
     },
     "execution_count": 79,
     "metadata": {},
     "output_type": "execute_result"
    }
   ],
   "source": [
    "nltk.download('brown')\n",
    "\n"
   ]
  },
  {
   "cell_type": "code",
   "execution_count": 80,
   "metadata": {},
   "outputs": [
    {
     "name": "stdout",
     "output_type": "stream",
     "text": [
      "Requirement already satisfied: textblob in c:\\users\\prabal ghosh\\anaconda3\\lib\\site-packages (0.15.3)\n",
      "Requirement already satisfied: nltk>=3.1 in c:\\users\\prabal ghosh\\anaconda3\\lib\\site-packages (from textblob) (3.5)\n",
      "Requirement already satisfied: joblib in c:\\users\\prabal ghosh\\anaconda3\\lib\\site-packages (from nltk>=3.1->textblob) (0.16.0)\n",
      "Requirement already satisfied: regex in c:\\users\\prabal ghosh\\anaconda3\\lib\\site-packages (from nltk>=3.1->textblob) (2020.6.8)\n",
      "Requirement already satisfied: click in c:\\users\\prabal ghosh\\anaconda3\\lib\\site-packages (from nltk>=3.1->textblob) (7.1.2)\n",
      "Requirement already satisfied: tqdm in c:\\users\\prabal ghosh\\anaconda3\\lib\\site-packages (from nltk>=3.1->textblob) (4.47.0)\n"
     ]
    }
   ],
   "source": [
    "!pip install textblob"
   ]
  },
  {
   "cell_type": "code",
   "execution_count": 81,
   "metadata": {},
   "outputs": [],
   "source": [
    "from textblob import TextBlob\n"
   ]
  },
  {
   "cell_type": "code",
   "execution_count": 85,
   "metadata": {},
   "outputs": [
    {
     "name": "stdout",
     "output_type": "stream",
     "text": [
      "thank\n",
      "browser version\n",
      "css\n",
      "date browser\n",
      "compatibility mode\n",
      "internet explorer\n",
      "javascript.advertisementyou\n",
      "pubmed google scholar\n",
      "full access\n",
      "april\n",
      "migrant workers queue\n",
      "railway station\n",
      "mumbai\n",
      "india.credit\n",
      "gettythe\n",
      "india\n",
      "daily case numbers\n",
      "march\n",
      "new infections\n",
      "april\n",
      "high numbers\n",
      "india\n",
      "global cases\n",
      "past week\n",
      "january.just\n",
      "antibody data\n",
      "delhi\n",
      "chennai\n",
      "india\n",
      "unprecedented surge\n",
      "unfortunate confluence\n",
      "infectious variants\n",
      "social interactions\n",
      "low vaccine coverage\n",
      "untangling\n",
      "similar surges\n",
      "world.european countries\n",
      "france\n",
      "germany\n",
      "large outbreaks\n",
      "brazil\n",
      "high infection rates\n",
      "india\n",
      "’ s\n",
      "january.covid-19\n",
      "case numbers\n",
      "india\n",
      "september\n",
      "march\n",
      "current peak\n",
      "surging\n",
      "covid-19\n",
      "zarir udwadia\n",
      "pulmonary medicine\n",
      "p d hinduja\n",
      "medical research\n",
      "centre\n",
      "mumbai\n",
      "nature\n",
      "intensive-care unit\n",
      "“ nightmarish ” situation\n",
      "short supply.shahid\n",
      "jameel\n",
      "ashoka\n",
      "sonipat\n",
      "current wave\n",
      "fresh waves\n",
      "india\n",
      "’ s\n",
      "covid-vaccine\n",
      "woes —\n",
      "india\n",
      "’ s\n",
      "covid-vaccine\n",
      "woes —\n",
      "sars-cov-2\n",
      "antibodies —\n",
      "past infection —\n",
      "december\n",
      "january\n",
      "india\n",
      "’ s\n",
      "large cities\n",
      "manoj murhekar\n",
      "national institute\n",
      "epidemiology\n",
      "chennai\n",
      "infected1 —\n",
      "india\n",
      "’ s population\n",
      "billion.these figures\n",
      "ramanan laxminarayan\n",
      "princeton\n",
      "jersey\n",
      "delhi\n",
      "covid-19\n",
      "rethink.one explanation\n",
      "antibody\n",
      "entire population\n",
      "says.the antibody data\n",
      "gagandeep kang\n",
      "christian medical college\n",
      "vellore\n",
      "india\n",
      "urban communities\n",
      "databut\n",
      "current outbreak\n",
      "new ingredient\n",
      "entire households\n",
      "covid-19\n",
      "more-infectious variants\n",
      "says.genomic surveillance data show\n",
      "b.1.1.7\n",
      "kingdom\n",
      "dominant form\n",
      "indian state\n",
      "punjab\n",
      "covid\n",
      "’ s\n",
      "covid\n",
      "’ s\n",
      "india\n",
      "b.1.617\n",
      "maharashtra\n",
      "b.1.617\n",
      "evade immune protection\n",
      "laboratories\n",
      "india\n",
      "block infection\n",
      "jameel.the\n",
      "india\n",
      "brazil\n",
      "covid-19\n",
      "manaus\n",
      "transmissible variant\n",
      "p.1\n",
      "evade immunity\n",
      "strains.but others\n",
      "such claims\n",
      "india\n",
      "david robertson\n",
      "glasgow\n",
      "uk.some\n",
      "small part\n",
      "india\n",
      "’ s surge\n",
      "don ’ t\n",
      "anurag agrawal\n",
      "csir\n",
      "genomics\n",
      "integrative biology\n",
      "delhi.srinath reddy\n",
      "public health foundation\n",
      "india\n",
      "delhi\n",
      "open society\n",
      "india\n",
      "coronavirus vaccines\n",
      "world —\n",
      "people benefit\n",
      "india\n",
      "coronavirus vaccines\n",
      "world —\n",
      "people benefit\n",
      "september\n",
      "’ s peak\n",
      "public narrative\n",
      "india\n",
      "covid-19\n",
      "laxminarayan\n",
      "recent months\n",
      "large crowds\n",
      "political rallies\n",
      "religious celebrations\n",
      "nationwide vaccination campaign\n",
      "january\n",
      "public-health measures\n",
      "laxminarayan\n",
      "indian-produced\n",
      "oxford–astrazeneca\n",
      "covishield\n",
      "’ s\n",
      "india\n",
      "’ s population\n",
      "long way\n",
      "india\n",
      "hardest-hit regions\n",
      "kang.some\n",
      "udwadia\n",
      "m. v.\n",
      "preprint\n",
      "ssrn\n",
      ".download referencesnews\n",
      "sep\n",
      "sep\n",
      "feature\n",
      "sep\n",
      "sep\n",
      "sep\n",
      "sep\n",
      "sep\n",
      "sep\n",
      "feature\n",
      "sep\n",
      "sanger institutecambridge\n",
      "kingdomshandong\n",
      "advanced technologyjinan\n",
      "shandong\n",
      "chinauniversity\n",
      "muenster\n",
      "ukm\n",
      "wwumünster\n",
      "germanymax planck\n",
      "breeding\n",
      "mpipz\n",
      "cologne\n",
      "germanyyou\n",
      "full access\n",
      "essential round-up\n",
      "science news\n",
      "nature briefing\n",
      "newsletter —\n",
      "advanced\n",
      "nature\n",
      "nature\n",
      "issn\n",
      "issn\n",
      "springer nature limited\n"
     ]
    }
   ],
   "source": [
    "# 4. Identify the noun phrase present\n",
    "blob=TextBlob(k)\n",
    "np=blob.noun_phrases\n",
    "for i in np:\n",
    "  print(i)"
   ]
  },
  {
   "cell_type": "code",
   "execution_count": 84,
   "metadata": {},
   "outputs": [
    {
     "name": "stdout",
     "output_type": "stream",
     "text": [
      "India\n",
      "people\n",
      "“\n",
      "”\n",
      "—\n",
      "SEP\n",
      "cases\n",
      "numbers\n",
      "wave\n",
      "Nature\n"
     ]
    }
   ],
   "source": [
    "# 4. Identify the noun phrase present\n",
    "tagged = nltk.pos_tag(w_keys)\n",
    "for (word, tag) in tagged:\n",
    "    if tag == 'NN' or tag == 'NNS'or tag == 'NNP'or tag == 'NNPS': \n",
    "        print(word)"
   ]
  },
  {
   "cell_type": "code",
   "execution_count": null,
   "metadata": {},
   "outputs": [],
   "source": []
  },
  {
   "cell_type": "markdown",
   "metadata": {},
   "source": [
    "# 5. Extract data using wikipedia"
   ]
  },
  {
   "cell_type": "code",
   "execution_count": 86,
   "metadata": {},
   "outputs": [
    {
     "name": "stdout",
     "output_type": "stream",
     "text": [
      "Requirement already satisfied: wikipedia in c:\\users\\prabal ghosh\\anaconda3\\lib\\site-packages (1.4.0)\n",
      "Requirement already satisfied: requests<3.0.0,>=2.0.0 in c:\\users\\prabal ghosh\\anaconda3\\lib\\site-packages (from wikipedia) (2.24.0)\n",
      "Requirement already satisfied: beautifulsoup4 in c:\\users\\prabal ghosh\\anaconda3\\lib\\site-packages (from wikipedia) (4.9.1)\n",
      "Requirement already satisfied: idna<3,>=2.5 in c:\\users\\prabal ghosh\\anaconda3\\lib\\site-packages (from requests<3.0.0,>=2.0.0->wikipedia) (2.10)\n",
      "Requirement already satisfied: urllib3!=1.25.0,!=1.25.1,<1.26,>=1.21.1 in c:\\users\\prabal ghosh\\anaconda3\\lib\\site-packages (from requests<3.0.0,>=2.0.0->wikipedia) (1.25.9)\n",
      "Requirement already satisfied: certifi>=2017.4.17 in c:\\users\\prabal ghosh\\anaconda3\\lib\\site-packages (from requests<3.0.0,>=2.0.0->wikipedia) (2020.6.20)\n",
      "Requirement already satisfied: chardet<4,>=3.0.2 in c:\\users\\prabal ghosh\\anaconda3\\lib\\site-packages (from requests<3.0.0,>=2.0.0->wikipedia) (3.0.4)\n",
      "Requirement already satisfied: soupsieve>1.2 in c:\\users\\prabal ghosh\\anaconda3\\lib\\site-packages (from beautifulsoup4->wikipedia) (2.0.1)\n"
     ]
    }
   ],
   "source": [
    "!pip install wikipedia"
   ]
  },
  {
   "cell_type": "code",
   "execution_count": 87,
   "metadata": {},
   "outputs": [
    {
     "data": {
      "text/plain": [
       "\"Coronavirus disease 2019 (COVID-19) is a contagious disease caused by severe acute respiratory syndrome coronavirus 2 (SARS-CoV-2). The first known case was identified in Wuhan, China, in December 2019. The disease has since spread worldwide, leading to an ongoing pandemic.Symptoms of COVID-19 are variable, but often include fever, cough, headache, fatigue, breathing difficulties, and loss of smell and taste. Symptoms may begin one to fourteen days after exposure to the virus. At least a third of people who are infected do not develop noticeable symptoms. Of those people who develop symptoms noticeable  enough to be classed as patients, most (81%) develop mild to moderate symptoms (up to mild pneumonia), while 14% develop severe symptoms (dyspnea, hypoxia, or more than 50% lung involvement on imaging), and 5% suffer critical symptoms (respiratory failure, shock, or multiorgan dysfunction). Older people are at a higher risk of developing severe symptoms. Some people continue to experience a range of effects (long COVID) for months after recovery, and damage to organs has been observed. Multi-year studies are underway to further investigate the long-term effects of the disease.COVID-19 transmits when people breathe in air contaminated by droplets and small airborne particles containing the virus. The risk of breathing these in is highest when people are in close proximity, but they can be inhaled over longer distances, particularly indoors. Transmission can also occur if splashed or sprayed with contaminated fluids in the eyes, nose or mouth, and, rarely, via contaminated surfaces. People remain contagious for up to 20 days, and can spread the virus even if they do not develop symptoms.Several testing methods have been developed to diagnose the disease. The standard diagnostic method is by detection of the virus' nucleic acid by real-time reverse transcription polymerase chain reaction (rRT-PCR), transcription-mediated amplification (TMA), or by reverse transcription loop-mediated isothermal amplification (RT-LAMP) from a nasopharyngeal swab.\\nPreventive measures include physical or social distancing, quarantining, ventilation of indoor spaces, covering coughs and sneezes, hand washing, and keeping unwashed hands away from the face. The use of face masks or coverings has been recommended in public settings to minimize the risk of transmissions.\\nWhile work is underway to develop drugs that inhibit the virus (and several vaccines for it have been approved and distributed in various countries, which have since initiated mass vaccination campaigns), the primary treatment is symptomatic. Management involves the treatment of symptoms, supportive care, isolation, and experimental measures.\""
      ]
     },
     "execution_count": 87,
     "metadata": {},
     "output_type": "execute_result"
    }
   ],
   "source": [
    "import wikipedia \n",
    "result = wikipedia.summary(\"Covid-19\")\n",
    "result"
   ]
  },
  {
   "cell_type": "code",
   "execution_count": 89,
   "metadata": {},
   "outputs": [],
   "source": [
    "f=open('Corona_Info.txt',\"w\",encoding='utf8')\n",
    "f.write(result)\n",
    "f.close()"
   ]
  },
  {
   "cell_type": "code",
   "execution_count": null,
   "metadata": {},
   "outputs": [],
   "source": []
  }
 ],
 "metadata": {
  "kernelspec": {
   "display_name": "Python 3 (ipykernel)",
   "language": "python",
   "name": "python3"
  },
  "language_info": {
   "codemirror_mode": {
    "name": "ipython",
    "version": 3
   },
   "file_extension": ".py",
   "mimetype": "text/x-python",
   "name": "python",
   "nbconvert_exporter": "python",
   "pygments_lexer": "ipython3",
   "version": "3.9.7"
  }
 },
 "nbformat": 4,
 "nbformat_minor": 4
}
