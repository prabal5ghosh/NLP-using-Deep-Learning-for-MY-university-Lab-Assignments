{
 "cells": [
  {
   "cell_type": "code",
   "execution_count": 1,
   "metadata": {
    "id": "QVxrUWFy3Ru_"
   },
   "outputs": [],
   "source": []
  },
  {
   "cell_type": "markdown",
   "metadata": {
    "id": "g2QbqLme3lt2"
   },
   "source": [
    "**Prabal Ghosh roll- AM.SC.P2CSC20040 assignment-4(bert base)-NLP**"
   ]
  },
  {
   "cell_type": "markdown",
   "metadata": {
    "id": "fKE503Cl3i9_"
   },
   "source": []
  },
  {
   "cell_type": "code",
   "execution_count": 3,
   "metadata": {
    "colab": {
     "base_uri": "https://localhost:8080/"
    },
    "id": "1Z7Q4WKW3gq8",
    "outputId": "2fe2eb7e-2519-4617-98f6-46bfbbfb333b"
   },
   "outputs": [
    {
     "name": "stdout",
     "output_type": "stream",
     "text": [
      "Collecting transformers\n",
      "  Downloading transformers-4.10.2-py3-none-any.whl (2.8 MB)\n",
      "\u001b[K     |████████████████████████████████| 2.8 MB 9.5 MB/s \n",
      "\u001b[?25hCollecting tokenizers<0.11,>=0.10.1\n",
      "  Downloading tokenizers-0.10.3-cp37-cp37m-manylinux_2_5_x86_64.manylinux1_x86_64.manylinux_2_12_x86_64.manylinux2010_x86_64.whl (3.3 MB)\n",
      "\u001b[K     |████████████████████████████████| 3.3 MB 37.5 MB/s \n",
      "\u001b[?25hCollecting sacremoses\n",
      "  Downloading sacremoses-0.0.45-py3-none-any.whl (895 kB)\n",
      "\u001b[K     |████████████████████████████████| 895 kB 40.5 MB/s \n",
      "\u001b[?25hCollecting pyyaml>=5.1\n",
      "  Downloading PyYAML-5.4.1-cp37-cp37m-manylinux1_x86_64.whl (636 kB)\n",
      "\u001b[K     |████████████████████████████████| 636 kB 41.7 MB/s \n",
      "\u001b[?25hRequirement already satisfied: tqdm>=4.27 in /usr/local/lib/python3.7/dist-packages (from transformers) (4.62.0)\n",
      "Requirement already satisfied: packaging in /usr/local/lib/python3.7/dist-packages (from transformers) (21.0)\n",
      "Requirement already satisfied: filelock in /usr/local/lib/python3.7/dist-packages (from transformers) (3.0.12)\n",
      "Requirement already satisfied: numpy>=1.17 in /usr/local/lib/python3.7/dist-packages (from transformers) (1.19.5)\n",
      "Requirement already satisfied: regex!=2019.12.17 in /usr/local/lib/python3.7/dist-packages (from transformers) (2019.12.20)\n",
      "Collecting huggingface-hub>=0.0.12\n",
      "  Downloading huggingface_hub-0.0.17-py3-none-any.whl (52 kB)\n",
      "\u001b[K     |████████████████████████████████| 52 kB 1.3 MB/s \n",
      "\u001b[?25hRequirement already satisfied: requests in /usr/local/lib/python3.7/dist-packages (from transformers) (2.23.0)\n",
      "Requirement already satisfied: importlib-metadata in /usr/local/lib/python3.7/dist-packages (from transformers) (4.6.4)\n",
      "Requirement already satisfied: typing-extensions in /usr/local/lib/python3.7/dist-packages (from huggingface-hub>=0.0.12->transformers) (3.7.4.3)\n",
      "Requirement already satisfied: pyparsing>=2.0.2 in /usr/local/lib/python3.7/dist-packages (from packaging->transformers) (2.4.7)\n",
      "Requirement already satisfied: zipp>=0.5 in /usr/local/lib/python3.7/dist-packages (from importlib-metadata->transformers) (3.5.0)\n",
      "Requirement already satisfied: urllib3!=1.25.0,!=1.25.1,<1.26,>=1.21.1 in /usr/local/lib/python3.7/dist-packages (from requests->transformers) (1.24.3)\n",
      "Requirement already satisfied: idna<3,>=2.5 in /usr/local/lib/python3.7/dist-packages (from requests->transformers) (2.10)\n",
      "Requirement already satisfied: certifi>=2017.4.17 in /usr/local/lib/python3.7/dist-packages (from requests->transformers) (2021.5.30)\n",
      "Requirement already satisfied: chardet<4,>=3.0.2 in /usr/local/lib/python3.7/dist-packages (from requests->transformers) (3.0.4)\n",
      "Requirement already satisfied: click in /usr/local/lib/python3.7/dist-packages (from sacremoses->transformers) (7.1.2)\n",
      "Requirement already satisfied: joblib in /usr/local/lib/python3.7/dist-packages (from sacremoses->transformers) (1.0.1)\n",
      "Requirement already satisfied: six in /usr/local/lib/python3.7/dist-packages (from sacremoses->transformers) (1.15.0)\n",
      "Installing collected packages: tokenizers, sacremoses, pyyaml, huggingface-hub, transformers\n",
      "  Attempting uninstall: pyyaml\n",
      "    Found existing installation: PyYAML 3.13\n",
      "    Uninstalling PyYAML-3.13:\n",
      "      Successfully uninstalled PyYAML-3.13\n",
      "Successfully installed huggingface-hub-0.0.17 pyyaml-5.4.1 sacremoses-0.0.45 tokenizers-0.10.3 transformers-4.10.2\n"
     ]
    }
   ],
   "source": [
    "!pip install transformers"
   ]
  },
  {
   "cell_type": "code",
   "execution_count": 4,
   "metadata": {
    "id": "9blC6gY03vlE"
   },
   "outputs": [],
   "source": [
    "import torch\n"
   ]
  },
  {
   "cell_type": "code",
   "execution_count": 5,
   "metadata": {
    "colab": {
     "base_uri": "https://localhost:8080/",
     "height": 145,
     "referenced_widgets": [
      "b92ec637029e468f840aeb3663641b43",
      "4dfaac4fe50f4de0b7d51a07323346e6",
      "852aeb63d15b4dd6a15487e5c927e82f",
      "5c802c49172344db9370adab80d8ee09",
      "adf4c21232e74867ad85729ce16961a6",
      "96cf8b6ba41346d6917558c08c639838",
      "3a22e8111c814f9e8f8be9ac43905454",
      "e6ab2aee71ab492793e3d4e264e98a2f",
      "615fc219f9864f03af82e08619b147b8",
      "31bfb87cc239414db16d706e7870df5e",
      "7d7b8bd5b9024d76af4410e31216e2a8",
      "4d8bc98b2cb64d3da99d3c54ecdb492e",
      "ae9cf636c79b4944be42aa344f2626ec",
      "408bf48b5c384f2cad5b0ee62910832c",
      "460a0c64e14849e4975cefad5711cc17",
      "a47e714475ee4cb4a3d2d3bbdf995047",
      "0b28f514da2d44239fb317083db85a0a",
      "775d24a9f0d0441cbe519d3fa366ee0f",
      "6ad40ba1c1c44022846ef27071d899a5",
      "fb817eb0f1f345f6bfe71ed1a98479da",
      "1ba2aae1abe14ec59a37b4ca6c5dabf8",
      "ec618f12d77741d68106c7e5f6072598",
      "adc4b8ed0f6f4c78b345baa1326b3860",
      "7996d42de68d47c99e04380afb8404a4",
      "b72f1540ad674849833dfa9430086e03",
      "9ba8a135de764ea09eee2ced52358e01",
      "d3c03b4503f54d58b89bd214a938edfe",
      "9670067b0f1f421a9908144279ea28b9",
      "a87b5f80aacd45a587b5912cf2d08326",
      "adcde1b6f69042d29af14cf475597170",
      "275e873c9f2240338556219814d927a2",
      "8438b3cf9ba947bca5f48611a9fad177",
      "7790666fcd6e4d7793b8d9e86a150bc3",
      "57507bd69ed440548bfe62597ba830ec",
      "a404aa2025544746a666b44c186fdd95",
      "6086bccf93dc422a83d2fc1356e927d4",
      "f451aca8eef74269ad49e10b15390165",
      "d67c2cf03079415eacb535679bd62e86",
      "3f39c58c96a74583bbbe1e9f37d51041",
      "9fc9ee2640bc4b2eb3a1474b1fe9fb6e",
      "ddbab6d9cc89462aa3b0f2728925e19a",
      "0982dc52412f41d599898ec41926de5b",
      "6dd06281b202492f96846535f5b23bea",
      "1fc59f95ecc04bfbaa7d894d477558ab"
     ]
    },
    "id": "DPlB3fEt31fN",
    "outputId": "9fccd982-c0e8-4394-faa3-8afb3cd06f78"
   },
   "outputs": [
    {
     "data": {
      "application/vnd.jupyter.widget-view+json": {
       "model_id": "b92ec637029e468f840aeb3663641b43",
       "version_major": 2,
       "version_minor": 0
      },
      "text/plain": [
       "Downloading:   0%|          | 0.00/232k [00:00<?, ?B/s]"
      ]
     },
     "metadata": {},
     "output_type": "display_data"
    },
    {
     "data": {
      "application/vnd.jupyter.widget-view+json": {
       "model_id": "4d8bc98b2cb64d3da99d3c54ecdb492e",
       "version_major": 2,
       "version_minor": 0
      },
      "text/plain": [
       "Downloading:   0%|          | 0.00/28.0 [00:00<?, ?B/s]"
      ]
     },
     "metadata": {},
     "output_type": "display_data"
    },
    {
     "data": {
      "application/vnd.jupyter.widget-view+json": {
       "model_id": "adc4b8ed0f6f4c78b345baa1326b3860",
       "version_major": 2,
       "version_minor": 0
      },
      "text/plain": [
       "Downloading:   0%|          | 0.00/466k [00:00<?, ?B/s]"
      ]
     },
     "metadata": {},
     "output_type": "display_data"
    },
    {
     "data": {
      "application/vnd.jupyter.widget-view+json": {
       "model_id": "57507bd69ed440548bfe62597ba830ec",
       "version_major": 2,
       "version_minor": 0
      },
      "text/plain": [
       "Downloading:   0%|          | 0.00/570 [00:00<?, ?B/s]"
      ]
     },
     "metadata": {},
     "output_type": "display_data"
    }
   ],
   "source": [
    "from transformers import BertTokenizer, BertModel\n",
    "import matplotlib.pyplot as plt\n",
    "%matplotlib inline\n",
    "tokenizer = BertTokenizer.from_pretrained('bert-base-uncased')"
   ]
  },
  {
   "cell_type": "code",
   "execution_count": 13,
   "metadata": {
    "id": "2nS-iJQ632KM"
   },
   "outputs": [],
   "source": [
    "text = \"How are you\"\n",
    "marked_text = \"[CLS] \" + text + \" [SEP]\"\n",
    "word_token = tokenizer.tokenize(marked_text)\n",
    "word_token = tokenizer.tokenize(marked_text)\n"
   ]
  },
  {
   "cell_type": "code",
   "execution_count": 14,
   "metadata": {
    "colab": {
     "base_uri": "https://localhost:8080/"
    },
    "id": "xhCv9emE32bo",
    "outputId": "bc80a2be-188a-453e-e5d0-e52b38073137"
   },
   "outputs": [
    {
     "data": {
      "text/plain": [
       "['[CLS]', 'how', 'are', 'you', '[SEP]']"
      ]
     },
     "execution_count": 14,
     "metadata": {},
     "output_type": "execute_result"
    }
   ],
   "source": [
    "word_token"
   ]
  },
  {
   "cell_type": "code",
   "execution_count": 15,
   "metadata": {
    "colab": {
     "base_uri": "https://localhost:8080/"
    },
    "id": "vKd1A6fw32uv",
    "outputId": "cd47af70-c2cd-43f4-bc79-c0b2ee6b7397"
   },
   "outputs": [
    {
     "data": {
      "text/plain": [
       "[101, 7592, 102]"
      ]
     },
     "execution_count": 15,
     "metadata": {},
     "output_type": "execute_result"
    }
   ],
   "source": [
    "indexes = indexed_tokens = tokenizer.convert_tokens_to_ids(words)\n",
    "indexes"
   ]
  },
  {
   "cell_type": "code",
   "execution_count": 16,
   "metadata": {
    "id": "5mGdaxV133AW"
   },
   "outputs": [],
   "source": [
    "tokens_tensor = torch.tensor([indexes])"
   ]
  },
  {
   "cell_type": "code",
   "execution_count": 17,
   "metadata": {
    "colab": {
     "base_uri": "https://localhost:8080/",
     "height": 1000,
     "referenced_widgets": [
      "1cb3883989854f53ab8d91da85a37a2d",
      "ba18b259da17482ba0b813c9746a342c",
      "c8d686775d4642d18ae533af6180f52a",
      "b97bec62ad6f43bd9707fcca7009f760",
      "5a92b6e9f25a4d81b9c8e7da9ac08057",
      "69dba60d45c2400a819180962fa907f4",
      "65f22e524f564aa1976b61efb68b0203",
      "ee5693cc6d864419b2b98cafe266dcf1",
      "2c0366add9d84fd99040476a13659ef6",
      "4bf181aa63d043ae96c28799441738ba",
      "5ceaf453d0e94859a636e83f6203e8a8"
     ]
    },
    "id": "pZKsv_pL4zAD",
    "outputId": "dd249fce-1cfe-428e-e647-eb8e8b45b216"
   },
   "outputs": [
    {
     "data": {
      "application/vnd.jupyter.widget-view+json": {
       "model_id": "1cb3883989854f53ab8d91da85a37a2d",
       "version_major": 2,
       "version_minor": 0
      },
      "text/plain": [
       "Downloading:   0%|          | 0.00/440M [00:00<?, ?B/s]"
      ]
     },
     "metadata": {},
     "output_type": "display_data"
    },
    {
     "name": "stderr",
     "output_type": "stream",
     "text": [
      "Some weights of the model checkpoint at bert-base-uncased were not used when initializing BertModel: ['cls.predictions.transform.LayerNorm.bias', 'cls.seq_relationship.weight', 'cls.predictions.transform.dense.weight', 'cls.predictions.transform.LayerNorm.weight', 'cls.predictions.transform.dense.bias', 'cls.seq_relationship.bias', 'cls.predictions.bias', 'cls.predictions.decoder.weight']\n",
      "- This IS expected if you are initializing BertModel from the checkpoint of a model trained on another task or with another architecture (e.g. initializing a BertForSequenceClassification model from a BertForPreTraining model).\n",
      "- This IS NOT expected if you are initializing BertModel from the checkpoint of a model that you expect to be exactly identical (initializing a BertForSequenceClassification model from a BertForSequenceClassification model).\n"
     ]
    },
    {
     "data": {
      "text/plain": [
       "BertModel(\n",
       "  (embeddings): BertEmbeddings(\n",
       "    (word_embeddings): Embedding(30522, 768, padding_idx=0)\n",
       "    (position_embeddings): Embedding(512, 768)\n",
       "    (token_type_embeddings): Embedding(2, 768)\n",
       "    (LayerNorm): LayerNorm((768,), eps=1e-12, elementwise_affine=True)\n",
       "    (dropout): Dropout(p=0.1, inplace=False)\n",
       "  )\n",
       "  (encoder): BertEncoder(\n",
       "    (layer): ModuleList(\n",
       "      (0): BertLayer(\n",
       "        (attention): BertAttention(\n",
       "          (self): BertSelfAttention(\n",
       "            (query): Linear(in_features=768, out_features=768, bias=True)\n",
       "            (key): Linear(in_features=768, out_features=768, bias=True)\n",
       "            (value): Linear(in_features=768, out_features=768, bias=True)\n",
       "            (dropout): Dropout(p=0.1, inplace=False)\n",
       "          )\n",
       "          (output): BertSelfOutput(\n",
       "            (dense): Linear(in_features=768, out_features=768, bias=True)\n",
       "            (LayerNorm): LayerNorm((768,), eps=1e-12, elementwise_affine=True)\n",
       "            (dropout): Dropout(p=0.1, inplace=False)\n",
       "          )\n",
       "        )\n",
       "        (intermediate): BertIntermediate(\n",
       "          (dense): Linear(in_features=768, out_features=3072, bias=True)\n",
       "        )\n",
       "        (output): BertOutput(\n",
       "          (dense): Linear(in_features=3072, out_features=768, bias=True)\n",
       "          (LayerNorm): LayerNorm((768,), eps=1e-12, elementwise_affine=True)\n",
       "          (dropout): Dropout(p=0.1, inplace=False)\n",
       "        )\n",
       "      )\n",
       "      (1): BertLayer(\n",
       "        (attention): BertAttention(\n",
       "          (self): BertSelfAttention(\n",
       "            (query): Linear(in_features=768, out_features=768, bias=True)\n",
       "            (key): Linear(in_features=768, out_features=768, bias=True)\n",
       "            (value): Linear(in_features=768, out_features=768, bias=True)\n",
       "            (dropout): Dropout(p=0.1, inplace=False)\n",
       "          )\n",
       "          (output): BertSelfOutput(\n",
       "            (dense): Linear(in_features=768, out_features=768, bias=True)\n",
       "            (LayerNorm): LayerNorm((768,), eps=1e-12, elementwise_affine=True)\n",
       "            (dropout): Dropout(p=0.1, inplace=False)\n",
       "          )\n",
       "        )\n",
       "        (intermediate): BertIntermediate(\n",
       "          (dense): Linear(in_features=768, out_features=3072, bias=True)\n",
       "        )\n",
       "        (output): BertOutput(\n",
       "          (dense): Linear(in_features=3072, out_features=768, bias=True)\n",
       "          (LayerNorm): LayerNorm((768,), eps=1e-12, elementwise_affine=True)\n",
       "          (dropout): Dropout(p=0.1, inplace=False)\n",
       "        )\n",
       "      )\n",
       "      (2): BertLayer(\n",
       "        (attention): BertAttention(\n",
       "          (self): BertSelfAttention(\n",
       "            (query): Linear(in_features=768, out_features=768, bias=True)\n",
       "            (key): Linear(in_features=768, out_features=768, bias=True)\n",
       "            (value): Linear(in_features=768, out_features=768, bias=True)\n",
       "            (dropout): Dropout(p=0.1, inplace=False)\n",
       "          )\n",
       "          (output): BertSelfOutput(\n",
       "            (dense): Linear(in_features=768, out_features=768, bias=True)\n",
       "            (LayerNorm): LayerNorm((768,), eps=1e-12, elementwise_affine=True)\n",
       "            (dropout): Dropout(p=0.1, inplace=False)\n",
       "          )\n",
       "        )\n",
       "        (intermediate): BertIntermediate(\n",
       "          (dense): Linear(in_features=768, out_features=3072, bias=True)\n",
       "        )\n",
       "        (output): BertOutput(\n",
       "          (dense): Linear(in_features=3072, out_features=768, bias=True)\n",
       "          (LayerNorm): LayerNorm((768,), eps=1e-12, elementwise_affine=True)\n",
       "          (dropout): Dropout(p=0.1, inplace=False)\n",
       "        )\n",
       "      )\n",
       "      (3): BertLayer(\n",
       "        (attention): BertAttention(\n",
       "          (self): BertSelfAttention(\n",
       "            (query): Linear(in_features=768, out_features=768, bias=True)\n",
       "            (key): Linear(in_features=768, out_features=768, bias=True)\n",
       "            (value): Linear(in_features=768, out_features=768, bias=True)\n",
       "            (dropout): Dropout(p=0.1, inplace=False)\n",
       "          )\n",
       "          (output): BertSelfOutput(\n",
       "            (dense): Linear(in_features=768, out_features=768, bias=True)\n",
       "            (LayerNorm): LayerNorm((768,), eps=1e-12, elementwise_affine=True)\n",
       "            (dropout): Dropout(p=0.1, inplace=False)\n",
       "          )\n",
       "        )\n",
       "        (intermediate): BertIntermediate(\n",
       "          (dense): Linear(in_features=768, out_features=3072, bias=True)\n",
       "        )\n",
       "        (output): BertOutput(\n",
       "          (dense): Linear(in_features=3072, out_features=768, bias=True)\n",
       "          (LayerNorm): LayerNorm((768,), eps=1e-12, elementwise_affine=True)\n",
       "          (dropout): Dropout(p=0.1, inplace=False)\n",
       "        )\n",
       "      )\n",
       "      (4): BertLayer(\n",
       "        (attention): BertAttention(\n",
       "          (self): BertSelfAttention(\n",
       "            (query): Linear(in_features=768, out_features=768, bias=True)\n",
       "            (key): Linear(in_features=768, out_features=768, bias=True)\n",
       "            (value): Linear(in_features=768, out_features=768, bias=True)\n",
       "            (dropout): Dropout(p=0.1, inplace=False)\n",
       "          )\n",
       "          (output): BertSelfOutput(\n",
       "            (dense): Linear(in_features=768, out_features=768, bias=True)\n",
       "            (LayerNorm): LayerNorm((768,), eps=1e-12, elementwise_affine=True)\n",
       "            (dropout): Dropout(p=0.1, inplace=False)\n",
       "          )\n",
       "        )\n",
       "        (intermediate): BertIntermediate(\n",
       "          (dense): Linear(in_features=768, out_features=3072, bias=True)\n",
       "        )\n",
       "        (output): BertOutput(\n",
       "          (dense): Linear(in_features=3072, out_features=768, bias=True)\n",
       "          (LayerNorm): LayerNorm((768,), eps=1e-12, elementwise_affine=True)\n",
       "          (dropout): Dropout(p=0.1, inplace=False)\n",
       "        )\n",
       "      )\n",
       "      (5): BertLayer(\n",
       "        (attention): BertAttention(\n",
       "          (self): BertSelfAttention(\n",
       "            (query): Linear(in_features=768, out_features=768, bias=True)\n",
       "            (key): Linear(in_features=768, out_features=768, bias=True)\n",
       "            (value): Linear(in_features=768, out_features=768, bias=True)\n",
       "            (dropout): Dropout(p=0.1, inplace=False)\n",
       "          )\n",
       "          (output): BertSelfOutput(\n",
       "            (dense): Linear(in_features=768, out_features=768, bias=True)\n",
       "            (LayerNorm): LayerNorm((768,), eps=1e-12, elementwise_affine=True)\n",
       "            (dropout): Dropout(p=0.1, inplace=False)\n",
       "          )\n",
       "        )\n",
       "        (intermediate): BertIntermediate(\n",
       "          (dense): Linear(in_features=768, out_features=3072, bias=True)\n",
       "        )\n",
       "        (output): BertOutput(\n",
       "          (dense): Linear(in_features=3072, out_features=768, bias=True)\n",
       "          (LayerNorm): LayerNorm((768,), eps=1e-12, elementwise_affine=True)\n",
       "          (dropout): Dropout(p=0.1, inplace=False)\n",
       "        )\n",
       "      )\n",
       "      (6): BertLayer(\n",
       "        (attention): BertAttention(\n",
       "          (self): BertSelfAttention(\n",
       "            (query): Linear(in_features=768, out_features=768, bias=True)\n",
       "            (key): Linear(in_features=768, out_features=768, bias=True)\n",
       "            (value): Linear(in_features=768, out_features=768, bias=True)\n",
       "            (dropout): Dropout(p=0.1, inplace=False)\n",
       "          )\n",
       "          (output): BertSelfOutput(\n",
       "            (dense): Linear(in_features=768, out_features=768, bias=True)\n",
       "            (LayerNorm): LayerNorm((768,), eps=1e-12, elementwise_affine=True)\n",
       "            (dropout): Dropout(p=0.1, inplace=False)\n",
       "          )\n",
       "        )\n",
       "        (intermediate): BertIntermediate(\n",
       "          (dense): Linear(in_features=768, out_features=3072, bias=True)\n",
       "        )\n",
       "        (output): BertOutput(\n",
       "          (dense): Linear(in_features=3072, out_features=768, bias=True)\n",
       "          (LayerNorm): LayerNorm((768,), eps=1e-12, elementwise_affine=True)\n",
       "          (dropout): Dropout(p=0.1, inplace=False)\n",
       "        )\n",
       "      )\n",
       "      (7): BertLayer(\n",
       "        (attention): BertAttention(\n",
       "          (self): BertSelfAttention(\n",
       "            (query): Linear(in_features=768, out_features=768, bias=True)\n",
       "            (key): Linear(in_features=768, out_features=768, bias=True)\n",
       "            (value): Linear(in_features=768, out_features=768, bias=True)\n",
       "            (dropout): Dropout(p=0.1, inplace=False)\n",
       "          )\n",
       "          (output): BertSelfOutput(\n",
       "            (dense): Linear(in_features=768, out_features=768, bias=True)\n",
       "            (LayerNorm): LayerNorm((768,), eps=1e-12, elementwise_affine=True)\n",
       "            (dropout): Dropout(p=0.1, inplace=False)\n",
       "          )\n",
       "        )\n",
       "        (intermediate): BertIntermediate(\n",
       "          (dense): Linear(in_features=768, out_features=3072, bias=True)\n",
       "        )\n",
       "        (output): BertOutput(\n",
       "          (dense): Linear(in_features=3072, out_features=768, bias=True)\n",
       "          (LayerNorm): LayerNorm((768,), eps=1e-12, elementwise_affine=True)\n",
       "          (dropout): Dropout(p=0.1, inplace=False)\n",
       "        )\n",
       "      )\n",
       "      (8): BertLayer(\n",
       "        (attention): BertAttention(\n",
       "          (self): BertSelfAttention(\n",
       "            (query): Linear(in_features=768, out_features=768, bias=True)\n",
       "            (key): Linear(in_features=768, out_features=768, bias=True)\n",
       "            (value): Linear(in_features=768, out_features=768, bias=True)\n",
       "            (dropout): Dropout(p=0.1, inplace=False)\n",
       "          )\n",
       "          (output): BertSelfOutput(\n",
       "            (dense): Linear(in_features=768, out_features=768, bias=True)\n",
       "            (LayerNorm): LayerNorm((768,), eps=1e-12, elementwise_affine=True)\n",
       "            (dropout): Dropout(p=0.1, inplace=False)\n",
       "          )\n",
       "        )\n",
       "        (intermediate): BertIntermediate(\n",
       "          (dense): Linear(in_features=768, out_features=3072, bias=True)\n",
       "        )\n",
       "        (output): BertOutput(\n",
       "          (dense): Linear(in_features=3072, out_features=768, bias=True)\n",
       "          (LayerNorm): LayerNorm((768,), eps=1e-12, elementwise_affine=True)\n",
       "          (dropout): Dropout(p=0.1, inplace=False)\n",
       "        )\n",
       "      )\n",
       "      (9): BertLayer(\n",
       "        (attention): BertAttention(\n",
       "          (self): BertSelfAttention(\n",
       "            (query): Linear(in_features=768, out_features=768, bias=True)\n",
       "            (key): Linear(in_features=768, out_features=768, bias=True)\n",
       "            (value): Linear(in_features=768, out_features=768, bias=True)\n",
       "            (dropout): Dropout(p=0.1, inplace=False)\n",
       "          )\n",
       "          (output): BertSelfOutput(\n",
       "            (dense): Linear(in_features=768, out_features=768, bias=True)\n",
       "            (LayerNorm): LayerNorm((768,), eps=1e-12, elementwise_affine=True)\n",
       "            (dropout): Dropout(p=0.1, inplace=False)\n",
       "          )\n",
       "        )\n",
       "        (intermediate): BertIntermediate(\n",
       "          (dense): Linear(in_features=768, out_features=3072, bias=True)\n",
       "        )\n",
       "        (output): BertOutput(\n",
       "          (dense): Linear(in_features=3072, out_features=768, bias=True)\n",
       "          (LayerNorm): LayerNorm((768,), eps=1e-12, elementwise_affine=True)\n",
       "          (dropout): Dropout(p=0.1, inplace=False)\n",
       "        )\n",
       "      )\n",
       "      (10): BertLayer(\n",
       "        (attention): BertAttention(\n",
       "          (self): BertSelfAttention(\n",
       "            (query): Linear(in_features=768, out_features=768, bias=True)\n",
       "            (key): Linear(in_features=768, out_features=768, bias=True)\n",
       "            (value): Linear(in_features=768, out_features=768, bias=True)\n",
       "            (dropout): Dropout(p=0.1, inplace=False)\n",
       "          )\n",
       "          (output): BertSelfOutput(\n",
       "            (dense): Linear(in_features=768, out_features=768, bias=True)\n",
       "            (LayerNorm): LayerNorm((768,), eps=1e-12, elementwise_affine=True)\n",
       "            (dropout): Dropout(p=0.1, inplace=False)\n",
       "          )\n",
       "        )\n",
       "        (intermediate): BertIntermediate(\n",
       "          (dense): Linear(in_features=768, out_features=3072, bias=True)\n",
       "        )\n",
       "        (output): BertOutput(\n",
       "          (dense): Linear(in_features=3072, out_features=768, bias=True)\n",
       "          (LayerNorm): LayerNorm((768,), eps=1e-12, elementwise_affine=True)\n",
       "          (dropout): Dropout(p=0.1, inplace=False)\n",
       "        )\n",
       "      )\n",
       "      (11): BertLayer(\n",
       "        (attention): BertAttention(\n",
       "          (self): BertSelfAttention(\n",
       "            (query): Linear(in_features=768, out_features=768, bias=True)\n",
       "            (key): Linear(in_features=768, out_features=768, bias=True)\n",
       "            (value): Linear(in_features=768, out_features=768, bias=True)\n",
       "            (dropout): Dropout(p=0.1, inplace=False)\n",
       "          )\n",
       "          (output): BertSelfOutput(\n",
       "            (dense): Linear(in_features=768, out_features=768, bias=True)\n",
       "            (LayerNorm): LayerNorm((768,), eps=1e-12, elementwise_affine=True)\n",
       "            (dropout): Dropout(p=0.1, inplace=False)\n",
       "          )\n",
       "        )\n",
       "        (intermediate): BertIntermediate(\n",
       "          (dense): Linear(in_features=768, out_features=3072, bias=True)\n",
       "        )\n",
       "        (output): BertOutput(\n",
       "          (dense): Linear(in_features=3072, out_features=768, bias=True)\n",
       "          (LayerNorm): LayerNorm((768,), eps=1e-12, elementwise_affine=True)\n",
       "          (dropout): Dropout(p=0.1, inplace=False)\n",
       "        )\n",
       "      )\n",
       "    )\n",
       "  )\n",
       "  (pooler): BertPooler(\n",
       "    (dense): Linear(in_features=768, out_features=768, bias=True)\n",
       "    (activation): Tanh()\n",
       "  )\n",
       ")"
      ]
     },
     "execution_count": 17,
     "metadata": {},
     "output_type": "execute_result"
    }
   ],
   "source": [
    "model = BertModel.from_pretrained('bert-base-uncased', output_hidden_states = True)\n",
    "model.eval()"
   ]
  },
  {
   "cell_type": "code",
   "execution_count": 18,
   "metadata": {
    "id": "TLXbQI-a41-8"
   },
   "outputs": [],
   "source": [
    "with torch.no_grad():\n",
    "    outputs = model(tokens_tensor)\n",
    "    hidden_states = outputs[2]"
   ]
  },
  {
   "cell_type": "code",
   "execution_count": 19,
   "metadata": {
    "colab": {
     "base_uri": "https://localhost:8080/"
    },
    "id": "-J17H_fz46o6",
    "outputId": "2b10e672-77bf-4e1c-ca19-074f486535ee"
   },
   "outputs": [
    {
     "data": {
      "text/plain": [
       "torch.Size([3, 13, 768])"
      ]
     },
     "execution_count": 19,
     "metadata": {},
     "output_type": "execute_result"
    }
   ],
   "source": [
    "token_embeddings = torch.stack(hidden_states, dim=0)\n",
    "token_embeddings = torch.squeeze(token_embeddings, dim=1)\n",
    "token_embeddings = token_embeddings.permute(1,0,2)\n",
    "token_embeddings.size()"
   ]
  },
  {
   "cell_type": "code",
   "execution_count": 20,
   "metadata": {
    "id": "IVAvbpDf5BtC"
   },
   "outputs": [],
   "source": [
    "vec = torch.cat((token_embeddings[2][-1], token_embeddings[2][-2], token_embeddings[2][-3], token_embeddings[2][-4]), dim=0)"
   ]
  },
  {
   "cell_type": "code",
   "execution_count": 21,
   "metadata": {
    "colab": {
     "base_uri": "https://localhost:8080/"
    },
    "id": "xfFM1m775Deb",
    "outputId": "ccfca8c8-f68c-4f55-f725-ce79c761372c"
   },
   "outputs": [
    {
     "name": "stdout",
     "output_type": "stream",
     "text": [
      "['[CLS]', 'hello', '[SEP]']\n",
      "[101, 7592, 102]\n",
      "tensor([ 0.5801,  0.0627, -0.2637,  ..., -0.0818, -0.0794,  0.0012])\n"
     ]
    }
   ],
   "source": [
    "# Printing the tokens, the indexes, and the vector of the 3rd word\n",
    "print(words)\n",
    "print(indexes)\n",
    "print(vec)"
   ]
  },
  {
   "cell_type": "code",
   "execution_count": null,
   "metadata": {
    "id": "awlU422C5EIk"
   },
   "outputs": [],
   "source": []
  },
  {
   "cell_type": "code",
   "execution_count": null,
   "metadata": {
    "id": "zhlkotcU5E1p"
   },
   "outputs": [],
   "source": []
  },
  {
   "cell_type": "code",
   "execution_count": 22,
   "metadata": {
    "id": "f1loJH2I5FF9"
   },
   "outputs": [],
   "source": [
    "text = \"How are you\"\n",
    "marked_text = \"[CLS] \" + text + \" [SEP]\"\n"
   ]
  },
  {
   "cell_type": "code",
   "execution_count": 23,
   "metadata": {
    "colab": {
     "base_uri": "https://localhost:8080/"
    },
    "id": "yunPw6e15FUn",
    "outputId": "a490d76f-84c7-4f81-bac7-e106a6e1d230"
   },
   "outputs": [
    {
     "data": {
      "text/plain": [
       "['knight',\n",
       " 'lap',\n",
       " 'survey',\n",
       " 'ma',\n",
       " '##ow',\n",
       " 'noise',\n",
       " 'billy',\n",
       " '##ium',\n",
       " 'shooting',\n",
       " 'guide',\n",
       " 'bedroom',\n",
       " 'priest',\n",
       " 'resistance',\n",
       " 'motor',\n",
       " 'homes',\n",
       " 'sounded',\n",
       " 'giant',\n",
       " '##mer',\n",
       " '150',\n",
       " 'scenes']"
      ]
     },
     "execution_count": 23,
     "metadata": {},
     "output_type": "execute_result"
    }
   ],
   "source": [
    "list(tokenizer.vocab.keys())[5000:5020]"
   ]
  },
  {
   "cell_type": "markdown",
   "metadata": {
    "id": "PzqdulAw5FyD"
   },
   "source": []
  },
  {
   "cell_type": "code",
   "execution_count": 25,
   "metadata": {
    "colab": {
     "base_uri": "https://localhost:8080/"
    },
    "id": "ebTuf_9h5GoE",
    "outputId": "4ee806e5-c962-4b48-c0cd-f6fc91f74d5c"
   },
   "outputs": [
    {
     "name": "stdout",
     "output_type": "stream",
     "text": [
      "['[CLS]', 'how', 'are', 'you', '[SEP]']\n"
     ]
    }
   ],
   "source": [
    "tokenize_text=tokenizer.tokenize(marked_text)\n",
    "index=tokenizer.convert_tokens_to_ids(tokenize_text)\n",
    "print(tokenize_text)"
   ]
  },
  {
   "cell_type": "code",
   "execution_count": 26,
   "metadata": {
    "colab": {
     "base_uri": "https://localhost:8080/"
    },
    "id": "kzQFPszk5zGI",
    "outputId": "7a08d07c-dcb6-47fe-b59b-df09e2d4923b"
   },
   "outputs": [
    {
     "name": "stdout",
     "output_type": "stream",
     "text": [
      "[CLS]          101\n",
      "how           2129\n",
      "are           2024\n",
      "you           2017\n",
      "[SEP]          102\n"
     ]
    }
   ],
   "source": [
    "for tup in zip(tokenize_text,index):\n",
    "  print('{:<12}{:>6}'.format(tup[0],tup[1]))"
   ]
  },
  {
   "cell_type": "code",
   "execution_count": 27,
   "metadata": {
    "colab": {
     "base_uri": "https://localhost:8080/"
    },
    "id": "6k1S0cai5_ia",
    "outputId": "f2db4412-a3d5-41a9-ace1-b9aeda3aac3d"
   },
   "outputs": [
    {
     "name": "stderr",
     "output_type": "stream",
     "text": [
      "Some weights of the model checkpoint at bert-base-uncased were not used when initializing BertModel: ['cls.predictions.transform.LayerNorm.bias', 'cls.seq_relationship.weight', 'cls.predictions.transform.dense.weight', 'cls.predictions.transform.LayerNorm.weight', 'cls.predictions.transform.dense.bias', 'cls.seq_relationship.bias', 'cls.predictions.bias', 'cls.predictions.decoder.weight']\n",
      "- This IS expected if you are initializing BertModel from the checkpoint of a model trained on another task or with another architecture (e.g. initializing a BertForSequenceClassification model from a BertForPreTraining model).\n",
      "- This IS NOT expected if you are initializing BertModel from the checkpoint of a model that you expect to be exactly identical (initializing a BertForSequenceClassification model from a BertForSequenceClassification model).\n"
     ]
    }
   ],
   "source": [
    "x=index\n",
    "segment_id=[1] * len(x)\n",
    "tokens_tensor=torch.tensor([x])\n",
    "segments_tensor=torch.tensor([segment_id])\n",
    "model=BertModel.from_pretrained('bert-base-uncased',output_hidden_states=True)\n",
    "model.eval()\n",
    "with torch.no_grad():\n",
    "  output=model(tokens_tensor,segments_tensor)\n",
    "  hidden_states=output[2]"
   ]
  },
  {
   "cell_type": "code",
   "execution_count": 28,
   "metadata": {
    "colab": {
     "base_uri": "https://localhost:8080/"
    },
    "id": "QbaYuMrX6LTU",
    "outputId": "723c6e86-251d-444f-f5db-f6280fd33529"
   },
   "outputs": [
    {
     "name": "stdout",
     "output_type": "stream",
     "text": [
      "number of layers: 13  (intial embeddings + 12 BERT layers)\n",
      "number of batches: 1\n",
      "number of tokens: 5\n",
      "number of hidden: 768\n"
     ]
    }
   ],
   "source": [
    "print(\"number of layers:\",len(hidden_states),\" (intial embeddings + 12 BERT layers)\")\n",
    "layer_i=0\n",
    "\n",
    "print(\"number of batches:\",len(hidden_states[layer_i]))\n",
    "batch_i=0\n",
    "\n",
    "print(\"number of tokens:\",len(hidden_states[layer_i][batch_i]))\n",
    "token_i=0\n",
    "\n",
    "print(\"number of hidden:\",len(hidden_states[layer_i][batch_i][token_i]))"
   ]
  },
  {
   "cell_type": "code",
   "execution_count": 29,
   "metadata": {
    "colab": {
     "base_uri": "https://localhost:8080/"
    },
    "id": "kvvQPjbt6OVI",
    "outputId": "b489a01c-fd43-4836-f982-30e7d75b9505"
   },
   "outputs": [
    {
     "name": "stdout",
     "output_type": "stream",
     "text": [
      "tensor([-3.4848e-02, -5.5445e-02,  1.8084e-02,  5.1881e-02, -7.6937e-02,\n",
      "         3.8856e-02, -7.7454e-02, -4.2585e-02,  2.6679e-02, -3.2300e-02,\n",
      "        -4.7979e-03, -3.6562e-02,  2.1911e-02, -7.1065e-02,  1.9376e-02,\n",
      "         1.0454e-02,  2.6525e-02,  2.7375e-02,  1.7607e-02, -1.3907e-01,\n",
      "        -1.1677e-01,  9.2281e-02, -4.6091e-02, -2.3518e-02,  2.4678e-02,\n",
      "        -1.0990e-01, -3.5292e-02,  3.1506e-02,  8.5341e-02, -5.1755e-02,\n",
      "        -1.4338e-03, -5.6999e-02, -4.8608e-02,  1.7851e-02, -6.0254e-02,\n",
      "         1.8508e-02,  6.9309e-02, -2.4640e-02, -1.1276e-01,  1.5059e-01,\n",
      "         1.9971e-02,  7.5701e-02, -4.7530e-02, -2.7077e-02,  1.7308e-02,\n",
      "         1.8524e-02, -7.7898e-03,  8.6443e-02, -7.0682e-03, -2.3084e-02,\n",
      "         1.2031e-01, -3.8707e-02, -9.0196e-02,  2.5942e-02, -1.7789e-02,\n",
      "         3.2865e-02, -1.4709e-02,  1.2485e-01, -3.1997e-02,  5.7039e-02,\n",
      "         3.4943e-02,  5.3410e-02,  6.4547e-02,  6.3537e-02, -2.4695e-02,\n",
      "         7.5898e-03, -5.3114e-02,  2.7910e-02, -2.8154e-02, -3.0715e-02,\n",
      "         3.4881e-02,  4.5557e-03,  5.8353e-02, -7.5038e-03, -9.9409e-02,\n",
      "        -3.3657e-02,  3.7667e-02,  2.5755e-02, -1.5523e-02, -5.3722e-02,\n",
      "         6.8771e-02, -2.8840e-02, -1.5492e-03, -7.9376e-02, -6.4545e-02,\n",
      "        -5.0069e-03,  4.4755e-02, -1.0582e-02, -3.1661e-02, -1.9345e-02,\n",
      "        -2.2780e-02, -7.0040e-03, -1.9285e-01,  7.4319e-02, -1.4522e-02,\n",
      "         4.3013e-02, -1.2832e-01,  3.4300e-02, -5.5800e-03, -2.0286e-02,\n",
      "        -2.4431e-02, -4.1198e-02, -1.6323e-02,  3.5476e-02, -5.3523e-02,\n",
      "         3.2541e-02,  8.7775e-02, -5.2017e-02,  1.4164e-02, -5.4576e-02,\n",
      "        -1.2355e-02,  6.9994e-02,  6.5528e-02,  1.1158e-01,  7.0840e-03,\n",
      "         3.8421e-02, -8.3492e-02,  5.0697e-02,  5.2557e-03, -1.1736e-01,\n",
      "         3.2969e-02,  2.1883e-01,  3.5310e-02, -2.3751e-02,  3.3415e-02,\n",
      "         1.7055e-02,  7.6471e-02, -2.9601e-02, -7.9912e-02,  6.3288e-02,\n",
      "        -2.9747e-02, -7.9319e-02,  3.4677e-02,  2.9204e-02,  2.1163e-02,\n",
      "         1.2066e-01,  5.0267e-03,  1.9178e-02,  4.2177e-02,  1.1323e-01,\n",
      "        -2.2007e-02, -2.0166e-02, -4.4913e-03,  5.8811e-02,  3.0309e-02,\n",
      "         1.2471e-01, -3.9505e-05,  4.0636e-02, -4.0949e-02, -6.1278e-02,\n",
      "        -4.2298e-02, -2.0305e-02,  5.1520e-02, -5.2662e-02, -2.3835e-02,\n",
      "         1.1117e-02, -5.2239e-02, -9.1954e-02, -1.7984e-02,  2.3523e-02,\n",
      "        -1.0500e-02, -3.0611e-03,  1.2111e-02, -3.2210e-02, -7.3732e-03,\n",
      "        -5.8283e-02, -2.1236e-02,  5.7053e-02,  2.4835e-01,  3.4605e-02,\n",
      "        -1.8306e-03, -5.9929e-02, -1.1561e-02, -1.2561e-01, -4.8000e-02,\n",
      "        -8.8133e-02,  1.5233e-02,  3.3520e-03,  3.8247e-02, -1.9097e-02,\n",
      "         3.2223e-02, -3.5211e-02,  3.2133e-02, -1.2789e-01, -3.6998e-02,\n",
      "         3.7999e-02, -1.4780e-01, -3.3576e-02, -3.5439e-02,  6.1235e-02,\n",
      "         2.2450e-03,  9.3533e-02, -6.5611e-02,  2.1006e-02, -3.5581e-04,\n",
      "        -5.5173e-02,  8.6554e-04, -7.1967e-02, -1.7329e-02,  1.4366e-02,\n",
      "         5.3251e-02, -6.4914e-02, -4.3976e-02, -7.5112e-02,  2.6168e-02,\n",
      "         3.6421e-03, -4.4640e-02,  4.6737e-03, -4.0884e-02,  2.3827e-02,\n",
      "         8.2055e-04,  2.7544e-02, -6.4909e-02, -7.7911e-02,  3.1959e-02,\n",
      "        -2.3606e-02,  5.4769e-02, -8.6241e-03, -9.8407e-02,  3.6541e-02,\n",
      "         4.2696e-03, -6.0965e-02, -3.3052e-02, -3.4535e-02, -1.7478e-03,\n",
      "        -8.1973e-02, -6.5645e-02,  1.5815e-02, -5.2447e-02, -5.9149e-03,\n",
      "        -5.7037e-02,  1.2143e-02, -5.9232e-02, -9.2066e-03,  3.1099e-02,\n",
      "        -4.2701e-02,  2.2534e-02, -5.7828e-02, -1.7437e-02,  8.7192e-02,\n",
      "         2.9902e-02,  4.3130e-03,  5.1947e-03, -1.8447e-02,  1.7414e-02,\n",
      "         2.7692e-02,  4.6444e-02,  8.6036e-03,  2.8744e-02,  7.1624e-02,\n",
      "         1.7848e-03, -1.1356e-01,  2.4258e-02, -1.6507e-02,  6.2437e-02,\n",
      "         4.3442e-02,  7.3287e-02,  1.1886e-01, -2.1765e-02,  3.6034e-03,\n",
      "        -6.3712e-02,  5.8321e-02,  3.1163e-02, -4.2719e-02, -7.8141e-02,\n",
      "        -4.4900e-02,  2.2812e-02, -8.7637e-04, -4.4991e-02, -7.7690e-03,\n",
      "        -1.2035e-02, -1.6832e-02, -5.1352e-02,  6.3389e-02,  6.0944e-03,\n",
      "         9.4041e-04,  4.7612e-02,  1.5131e-02, -1.5857e-02,  2.9882e-02,\n",
      "        -7.1334e-02, -4.4090e-02, -5.1200e-02,  6.7193e-02,  7.5200e-02,\n",
      "        -1.1617e-03, -1.8875e-02, -1.4792e-01, -7.4120e-02, -1.7369e-02,\n",
      "        -5.1109e-02, -5.8654e-02,  1.6937e-02,  7.7589e-03, -5.2125e-02,\n",
      "        -5.1911e-02,  9.5909e-03, -1.3858e-01,  3.0073e-02,  5.3048e-03,\n",
      "        -1.3473e-02,  4.2759e-02,  2.8580e-02, -6.5470e-02, -1.6503e-01,\n",
      "        -1.0271e-01,  2.6868e-02,  1.4752e-02, -4.6865e-01,  3.9583e-02,\n",
      "        -3.8948e-03, -2.8585e-02, -4.5927e-02,  2.4931e-02, -1.3784e-02,\n",
      "        -9.4902e-03, -2.2282e-02, -2.4139e-02,  1.2121e-02, -2.7249e-02,\n",
      "         4.1301e-02, -1.5186e-02, -4.2386e-02,  2.6235e-02, -3.6624e-02,\n",
      "        -8.9056e-02,  2.0475e-02,  3.1958e-02, -1.7365e-02,  1.8195e-02,\n",
      "         1.2207e-02, -2.0096e-02,  2.3849e-02, -1.4831e-01,  4.3648e-02,\n",
      "        -3.2875e-02, -5.1249e-03, -5.2069e-03, -3.7593e-02, -3.8139e-02,\n",
      "         3.3161e-02, -8.4020e-02, -1.7309e-02,  6.2223e-02,  6.3251e-02,\n",
      "        -1.0100e-01,  1.2886e-02,  1.0245e-01,  1.8674e-02,  6.5051e-02,\n",
      "         7.1895e-02, -4.5902e-02, -2.0249e-02, -3.3634e-02, -8.8461e-03,\n",
      "         6.4516e-02, -2.0425e-02, -1.9596e-03,  6.6595e-02,  8.7638e-03,\n",
      "         1.7474e-02,  2.1965e-02, -1.2088e-02, -3.6198e-02, -2.9914e-02,\n",
      "         9.5621e-03,  8.5361e-03, -2.9392e-02,  6.0920e-02,  2.6446e-02,\n",
      "         1.3422e-02,  2.1714e-02, -2.3383e-02, -5.2336e-02,  7.6556e-02,\n",
      "        -1.7754e-02, -3.1122e-02, -1.1570e-02,  5.4382e-02, -4.2551e-02,\n",
      "         1.5112e-02, -1.0619e+01, -4.1058e-02,  5.3678e-02, -8.5119e-03,\n",
      "        -4.5105e-02,  4.2468e-02, -4.8457e-02, -6.8165e-02,  1.3775e-03,\n",
      "         4.0720e-02, -7.9653e-03, -6.0596e-02, -2.0503e-02, -1.1598e-01,\n",
      "         1.0705e-02,  3.1540e-02,  5.6208e-02,  3.1374e-02,  3.2734e-04,\n",
      "         6.6993e-03,  3.9040e-02,  1.6940e-02,  1.1255e-02, -1.7150e-02,\n",
      "         1.4629e-01, -4.2858e-02,  1.6870e-02,  1.7588e-02, -2.7095e-03,\n",
      "         4.5276e-02,  5.0685e-02, -5.1041e-02, -7.3775e-03,  2.7942e-02,\n",
      "         1.2346e-02,  2.4616e-03,  4.9659e-02, -2.4352e-02,  1.6129e-02,\n",
      "        -2.8120e-03,  5.3611e-02, -1.8752e-02,  2.9400e-02,  6.8986e-02,\n",
      "        -9.6084e-03,  6.7033e-03, -2.4906e-02,  8.0501e-03, -7.1009e-02,\n",
      "        -2.3218e-02, -1.6295e-02,  3.1361e-02,  3.7442e-03,  1.9550e-02,\n",
      "        -3.1607e-02,  4.2537e-02,  3.2661e-02,  5.7697e-02,  8.1550e-02,\n",
      "        -1.7312e-02, -4.5575e-02,  1.3878e-02, -1.5963e-03, -1.9890e-02,\n",
      "         9.4598e-03,  8.2470e-02, -1.5803e-02,  2.2671e-02,  6.3640e-02,\n",
      "         8.1522e-03,  7.7732e-03, -8.8784e-02,  6.7708e-02, -8.2505e-02,\n",
      "         4.3189e-02, -2.1003e-02,  3.2576e-02,  3.9864e-02,  2.5543e-02,\n",
      "         6.7089e-03,  3.0894e-02, -5.6527e-03, -4.0635e-02,  2.2903e-02,\n",
      "         4.6155e-02,  6.7517e-02,  1.9586e-02, -3.7769e-02, -4.1609e-02,\n",
      "        -7.2721e-02,  4.3177e-02,  5.0998e-02,  3.2511e-02,  4.7994e-03,\n",
      "         4.6729e-03,  1.2871e-02, -2.4565e-02,  4.2008e-02,  6.6950e-02,\n",
      "         4.0032e-03, -6.9891e-02,  3.4371e-02, -3.4506e-02,  1.0415e-02,\n",
      "        -6.7700e-03, -4.2461e-02, -4.6887e-02,  7.5510e-02, -4.8451e-03,\n",
      "        -2.2782e-02,  4.3843e-03, -1.0913e-01, -9.3280e-03,  4.7955e-02,\n",
      "        -1.5163e-02,  3.2300e-02, -3.9390e-02, -4.2054e-03, -2.8572e-02,\n",
      "         4.8017e-03, -9.3427e-03, -1.5749e-02, -2.1354e-03, -5.0193e-03,\n",
      "        -1.2785e-02,  7.7460e-03,  2.1900e-03,  2.6702e-02, -1.7917e-02,\n",
      "         2.5353e-03, -2.4833e-02,  1.4152e-02, -2.7191e-02,  1.0899e-01,\n",
      "        -2.6015e-02,  5.0899e-02,  2.8964e-02,  6.5091e-02, -5.7718e-02,\n",
      "         6.7938e-02, -5.0526e-02, -3.8897e-02,  8.5942e-02,  6.8462e-02,\n",
      "         4.5945e-02, -6.8097e-02, -1.2945e-02,  2.5658e-03, -5.3572e-02,\n",
      "         1.0662e-01, -1.5071e-02, -2.1195e-02, -1.8989e-02,  4.3477e-02,\n",
      "         3.7534e-02, -5.0044e-03,  9.0666e-03,  6.8333e-03,  1.2439e-01,\n",
      "         1.2914e-02,  8.5550e-02,  4.9914e-02, -1.4119e-02,  1.2835e-02,\n",
      "         2.2114e-01,  2.8785e-02,  4.7126e-02, -4.0242e-02, -9.5952e-02,\n",
      "         9.8225e-03,  6.7732e-02, -3.5076e-02, -5.2756e-02, -7.9383e-02,\n",
      "         2.8101e-02, -2.4553e-02,  3.8051e-03, -5.6542e-02,  3.8287e-02,\n",
      "         5.5159e-03, -1.5106e-02,  3.6958e-02,  4.3407e-03,  7.0314e-03,\n",
      "        -2.5735e-02,  2.2880e-02,  2.3333e-02,  9.7594e-03,  7.3997e-02,\n",
      "        -1.9317e-02, -9.1548e-04, -7.6283e-02, -1.3057e-02, -1.3918e-02,\n",
      "        -3.4467e-02,  1.8637e-02,  8.6306e-02, -1.5749e-02, -4.5228e-02,\n",
      "         7.3462e-02, -2.2366e-02, -8.1175e-02,  2.5121e-03,  1.2229e-02,\n",
      "        -3.9127e-02, -1.5480e-01, -2.9124e-02, -2.1719e-02,  1.7530e-02,\n",
      "        -2.6716e-02, -1.0485e-02, -4.5476e-03,  1.9533e-02, -8.5178e-02,\n",
      "         1.2190e-03, -7.9846e-02, -9.6151e-03, -6.9062e-02, -2.5745e-02,\n",
      "        -5.3887e-02,  3.2542e-02, -3.5988e-04, -3.1122e-02, -5.0120e-02,\n",
      "         5.4916e-03, -4.0182e-02, -1.8991e-05, -6.0159e-02,  5.3550e-02,\n",
      "         2.7954e-02, -2.9180e-03,  1.2199e-02, -4.3640e-02,  6.3361e-02,\n",
      "        -2.8342e-02,  6.1362e-02,  3.0313e-02, -6.6371e-02, -4.7924e-02,\n",
      "        -6.0768e-02,  2.5115e-02, -4.1604e-02, -9.1423e-03, -1.2398e-02,\n",
      "        -6.7910e-03, -8.9466e-02,  1.3843e-02,  1.3597e-02,  3.2042e-02,\n",
      "        -9.7779e-02, -9.1563e-02,  6.7930e-02, -9.5384e-02, -6.3985e-02,\n",
      "        -6.5697e-03, -2.0784e-02, -1.1923e-03, -5.8534e-03, -5.2174e-02,\n",
      "         2.5508e-02, -6.4579e-02, -2.0309e-02, -3.6152e-02,  5.5949e-02,\n",
      "         4.1839e-02, -6.7893e-02,  4.0827e-02,  2.4715e-02, -3.3727e-02,\n",
      "        -2.1566e-02, -2.9150e-02,  4.7736e-03, -2.4159e-03,  5.9438e-02,\n",
      "        -8.0403e-03,  3.8771e-02,  5.2959e-03, -1.1858e-02, -2.0499e-02,\n",
      "        -1.6551e-02,  4.7395e-02, -6.3258e-02, -1.5072e-02,  1.8032e-02,\n",
      "        -3.0211e-03,  1.0653e-02,  2.1539e-04, -7.2606e-02, -3.9778e-02,\n",
      "         1.2014e-03, -4.8342e-02,  1.6403e-02,  1.4862e-02,  3.3297e-03,\n",
      "         4.3934e-02, -3.0080e-02, -2.5913e-02, -7.5566e-02,  1.7758e-03,\n",
      "        -2.4659e-02, -1.7460e-02, -8.7427e-02,  1.4784e-02,  3.1085e-02,\n",
      "         3.0525e-02, -5.7491e-02,  1.1002e-02,  3.8509e-02,  2.3065e-02,\n",
      "        -6.3638e-03, -6.1076e-02,  9.3619e-03,  3.8468e-03,  1.4179e-02,\n",
      "        -7.1399e-02,  3.3901e-02, -2.2749e-02,  3.2519e-02,  7.0884e-02,\n",
      "        -2.3391e-02,  5.4481e-02,  4.9294e-02, -2.5914e-02,  1.4063e-02,\n",
      "        -1.4249e-02, -8.7921e-02, -3.1721e-02, -4.6899e-02,  1.4511e-02,\n",
      "         7.4948e-02, -3.7184e-02, -2.6537e-04, -5.9586e-02,  4.9681e-02,\n",
      "         1.0905e-02, -5.9602e-02, -6.7875e-02,  2.6538e-03, -8.1107e-02,\n",
      "         1.9842e-02,  5.8939e-02, -3.0697e-02,  5.2745e-02, -7.8621e-02,\n",
      "         2.4606e-03, -6.4444e-03, -5.3890e-02,  5.7092e-02, -5.4695e-02,\n",
      "         6.8116e-02, -4.8604e-03, -7.1490e-02, -1.8445e-01, -8.2250e-02,\n",
      "        -2.2325e-03, -6.0549e-04, -1.3159e-02,  2.7829e-02,  2.5428e-02,\n",
      "        -1.7227e-02, -3.6144e-02, -5.0973e-02,  3.6148e-02, -1.3129e-02,\n",
      "        -7.4972e-02,  1.9446e-02, -3.8928e-02, -1.4658e-02, -3.6169e-02,\n",
      "        -1.8788e-02,  8.1290e-02, -1.6407e-02, -5.0931e-03,  4.5423e-02,\n",
      "        -5.1243e-02,  1.2395e-01, -1.4642e-02,  9.0170e-03, -3.3186e-02,\n",
      "         1.7455e-02, -6.9529e-02, -2.9307e-02,  8.7094e-02,  5.4206e-03,\n",
      "         1.7722e-02,  5.1705e-02, -2.9420e-02])\n"
     ]
    }
   ],
   "source": [
    "token_i=4\n",
    "layer_i=4\n",
    "vec=hidden_states[layer_i][batch_i][token_i]\n",
    "print(vec)\n"
   ]
  },
  {
   "cell_type": "code",
   "execution_count": 30,
   "metadata": {
    "colab": {
     "base_uri": "https://localhost:8080/"
    },
    "id": "LSwx_rjX6Qyo",
    "outputId": "a001a5af-b19d-4f70-9ae3-917b79b3a387"
   },
   "outputs": [
    {
     "data": {
      "text/plain": [
       "torch.Size([13, 1, 5, 768])"
      ]
     },
     "execution_count": 30,
     "metadata": {},
     "output_type": "execute_result"
    }
   ],
   "source": [
    "token_embeddings = torch.stack(hidden_states, dim=0)\n",
    "token_embeddings.size()"
   ]
  },
  {
   "cell_type": "code",
   "execution_count": 31,
   "metadata": {
    "colab": {
     "base_uri": "https://localhost:8080/"
    },
    "id": "nx81TWH96VrL",
    "outputId": "4a430ab3-c29b-4b31-9c92-5f428d0cacc8"
   },
   "outputs": [
    {
     "data": {
      "text/plain": [
       "torch.Size([13, 5, 768])"
      ]
     },
     "execution_count": 31,
     "metadata": {},
     "output_type": "execute_result"
    }
   ],
   "source": [
    "token_embeddings = torch.squeeze(token_embeddings, dim=1)\n",
    "token_embeddings.size()"
   ]
  },
  {
   "cell_type": "code",
   "execution_count": 32,
   "metadata": {
    "colab": {
     "base_uri": "https://localhost:8080/"
    },
    "id": "RWuTjyY06XBh",
    "outputId": "d037d04f-3f54-42b2-a99d-d5c539f175b2"
   },
   "outputs": [
    {
     "data": {
      "text/plain": [
       "torch.Size([5, 13, 768])"
      ]
     },
     "execution_count": 32,
     "metadata": {},
     "output_type": "execute_result"
    }
   ],
   "source": [
    "token_embeddings = token_embeddings.permute(1,0,2)\n",
    "token_embeddings.size()"
   ]
  },
  {
   "cell_type": "code",
   "execution_count": 40,
   "metadata": {
    "colab": {
     "base_uri": "https://localhost:8080/"
    },
    "id": "PYMPAQol6W93",
    "outputId": "42dbdac3-1c84-4878-edf4-f79ab7bf2fcb"
   },
   "outputs": [
    {
     "name": "stdout",
     "output_type": "stream",
     "text": [
      "tensor([-1.8227e-02, -4.2910e-02,  1.6701e-02,  3.4612e-02, -8.5313e-02,\n",
      "         2.8706e-02, -8.3460e-02, -1.1525e-02, -1.4510e-03,  1.7898e-02,\n",
      "         2.8223e-04, -3.4385e-02,  3.6087e-02, -5.4001e-02, -7.9072e-03,\n",
      "         3.3181e-03,  2.6991e-02,  8.7893e-03,  1.6394e-02, -1.1996e-01,\n",
      "        -1.4472e-01,  6.8441e-02, -4.6465e-02, -4.6643e-02,  1.2164e-02,\n",
      "        -1.1538e-01, -3.0537e-02,  4.4716e-02,  6.6519e-02, -2.9548e-02,\n",
      "        -2.5928e-03, -2.2766e-02, -6.2024e-02,  6.8006e-02, -4.3359e-02,\n",
      "         1.8105e-02,  2.5950e-02, -5.3201e-02, -6.4123e-02,  1.4743e-01,\n",
      "        -1.6395e-02,  7.9559e-02,  2.5700e-03, -1.9824e-02,  1.8365e-02,\n",
      "         2.1278e-02, -3.8834e-03,  4.4578e-02, -2.5384e-02, -1.6087e-02,\n",
      "         1.0199e-01, -1.7372e-02, -7.0836e-02,  7.3690e-02, -1.3692e-02,\n",
      "         2.2107e-02, -3.1969e-02,  7.9626e-02, -2.0758e-02,  1.5290e-02,\n",
      "         2.3002e-02,  1.2706e-02,  5.7112e-02,  2.6985e-02, -5.2756e-02,\n",
      "        -4.1025e-02, -1.2373e-02,  1.7655e-02, -3.6559e-02,  1.3511e-02,\n",
      "         7.2336e-02, -2.7996e-02,  6.7348e-02,  1.0289e-02, -7.3714e-02,\n",
      "         1.9208e-02,  3.5673e-02, -3.7897e-03, -1.7560e-02, -2.8789e-02,\n",
      "         3.6554e-02, -1.4664e-02, -3.2394e-03, -4.5289e-02, -3.0281e-02,\n",
      "        -6.8496e-03,  4.0741e-02, -3.5032e-02, -1.4778e-02, -1.8336e-02,\n",
      "        -2.8227e-02,  7.3648e-03, -1.4614e-01,  4.6294e-02, -3.3435e-02,\n",
      "         6.9365e-03, -1.7771e-02,  4.4485e-02,  1.6559e-02, -1.6731e-02,\n",
      "        -2.4947e-02, -3.3240e-02, -1.2715e-02,  4.7229e-02, -5.0288e-02,\n",
      "         4.2290e-02,  4.8370e-02, -1.4743e-02,  1.5744e-02, -1.5588e-02,\n",
      "         7.0040e-03,  2.0280e-02,  7.2772e-02,  8.3300e-02,  2.1740e-02,\n",
      "         4.2284e-02, -4.8068e-02,  3.0117e-02, -7.8924e-03, -8.0392e-02,\n",
      "         2.5841e-02,  1.3654e-01,  2.9417e-02, -2.2553e-02, -3.0095e-04,\n",
      "         2.0879e-02,  5.7922e-02, -2.1562e-02, -2.5409e-02,  3.2392e-02,\n",
      "        -3.5653e-03, -4.2386e-02,  2.0847e-02,  3.0106e-02, -4.0707e-03,\n",
      "         1.0613e-01,  2.9327e-02, -6.2242e-04,  5.8259e-02,  7.7773e-02,\n",
      "        -8.8360e-04, -3.3248e-02,  8.8667e-04,  5.8636e-02, -2.7904e-02,\n",
      "         1.3326e-01,  1.2799e-03,  5.6457e-03, -3.7338e-02, -8.8844e-02,\n",
      "        -6.3847e-03, -1.5899e-02,  6.7306e-02, -1.1109e-02, -1.2356e-02,\n",
      "         1.6982e-02, -4.0870e-02, -9.5603e-02, -2.5814e-02,  1.9742e-02,\n",
      "        -2.0456e-02,  1.7815e-02,  1.9488e-02, -4.3545e-02,  8.8979e-03,\n",
      "        -5.3655e-02, -1.2575e-02,  4.6829e-02,  2.3554e-01,  2.3959e-02,\n",
      "         4.8211e-03, -5.4494e-02,  2.0225e-03, -1.0879e-01, -3.7828e-02,\n",
      "        -7.2569e-02, -1.2135e-04, -9.7520e-03,  3.2329e-02, -4.5012e-02,\n",
      "        -2.1456e-04, -1.9473e-02,  1.7773e-02, -8.0411e-02, -4.1027e-02,\n",
      "         2.8580e-02, -9.8820e-02, -4.6925e-02, -7.3891e-02,  3.3993e-02,\n",
      "         2.4897e-02,  5.8096e-02, -5.5002e-02, -6.9430e-03, -1.6554e-02,\n",
      "        -5.0506e-02,  1.5343e-02, -6.6849e-02,  7.3931e-03,  2.6824e-02,\n",
      "         4.6463e-02, -4.5968e-02, -2.1942e-02, -6.8797e-02,  1.4950e-02,\n",
      "        -2.5985e-02, -3.6963e-02,  2.7703e-03, -3.8410e-02,  3.4218e-02,\n",
      "         1.6008e-02,  2.9522e-02, -4.6349e-02, -6.1819e-02, -2.7794e-02,\n",
      "         2.8418e-02,  2.1757e-02,  1.3535e-02, -6.5525e-02,  6.4425e-03,\n",
      "         1.7244e-02, -6.6146e-02,  1.3852e-02,  1.3526e-02,  3.1218e-02,\n",
      "        -8.4744e-02, -2.3708e-02,  1.6751e-02, -3.4089e-02, -1.1718e-02,\n",
      "        -3.1093e-02,  2.6900e-02, -6.3178e-02,  2.0659e-03, -2.7983e-03,\n",
      "        -2.0653e-02,  4.8392e-02, -1.4764e-02,  1.2545e-02,  6.2298e-02,\n",
      "        -2.4969e-02, -2.2570e-02, -3.4618e-03, -9.4876e-03, -1.6797e-03,\n",
      "         1.8519e-02,  5.4187e-02, -5.8563e-03,  4.9335e-02,  1.1962e-01,\n",
      "        -1.4331e-02, -7.7167e-02,  4.5691e-02,  1.5708e-02,  3.2208e-02,\n",
      "         2.4779e-02,  5.7600e-02,  4.4585e-02, -2.9345e-02,  3.0558e-03,\n",
      "        -2.1174e-02,  3.4380e-02, -1.1059e-02, -2.7825e-02, -3.4486e-02,\n",
      "        -3.4939e-03, -3.4734e-03,  1.6024e-02, -2.9028e-02, -7.9556e-03,\n",
      "        -2.1338e-02,  8.5078e-03, -1.4068e-03,  3.6972e-02,  2.9857e-02,\n",
      "        -3.5535e-02,  4.6522e-02,  7.3251e-02,  3.5342e-02,  5.0951e-02,\n",
      "        -3.2930e-02, -1.8776e-02, -3.3199e-02,  1.4692e-02,  2.7727e-02,\n",
      "        -2.2000e-02, -4.1423e-02, -1.2518e-01, -7.2814e-02,  2.8748e-03,\n",
      "        -4.0351e-02,  8.7918e-03,  4.4754e-02,  8.7178e-03, -2.9344e-02,\n",
      "        -1.0525e-02, -2.2863e-02, -1.0501e-01,  1.0471e-02, -3.3485e-02,\n",
      "        -3.5053e-02,  3.9867e-02,  7.4427e-03, -2.4693e-02, -1.4269e-01,\n",
      "        -1.9833e-02,  5.8560e-02,  9.6312e-03,  2.2655e-01,  6.6273e-03,\n",
      "        -2.9223e-03, -2.4019e-03, -1.6794e-02,  1.5978e-02, -1.8954e-02,\n",
      "        -1.1859e-02, -1.9406e-02, -5.9290e-02,  1.4741e-03, -6.3682e-02,\n",
      "         3.0813e-02, -1.0248e-02, -3.4431e-02,  3.3384e-02, -1.3917e-02,\n",
      "        -7.9693e-02,  2.0701e-02,  2.9074e-02, -9.8771e-03, -2.2928e-02,\n",
      "         2.1185e-02, -4.2385e-03,  4.0546e-03, -1.3081e-01,  1.8241e-02,\n",
      "         8.6187e-03,  1.3040e-02,  1.5151e-02, -1.8920e-02, -1.7313e-02,\n",
      "        -2.0426e-04, -8.1487e-02, -5.4751e-03,  7.8501e-03,  5.3851e-02,\n",
      "        -9.7644e-02,  8.5277e-03,  7.1953e-02,  2.9536e-02,  1.0129e-01,\n",
      "         6.6044e-02, -6.4815e-02, -3.0217e-02, -5.8207e-02, -1.7415e-02,\n",
      "         4.9153e-02, -3.4915e-02,  1.4991e-02,  1.0244e-03,  1.0627e-02,\n",
      "        -5.1026e-03, -2.0336e-03,  1.0104e-02, -2.4128e-02,  5.1074e-03,\n",
      "         2.1933e-02,  1.1716e-02, -1.9101e-02,  5.3042e-02,  5.8394e-03,\n",
      "         2.2129e-02,  2.4160e-02, -1.1551e-02,  1.2998e-02,  2.0107e-02,\n",
      "        -1.1177e-02, -1.1690e-02,  1.6823e-02,  4.6136e-02, -3.9807e-02,\n",
      "         2.4562e-02, -1.0063e+01, -5.4362e-02,  6.7492e-02,  4.4598e-03,\n",
      "        -2.1737e-03,  5.4542e-02, -4.3754e-02, -1.3852e-02,  3.0393e-02,\n",
      "        -3.9296e-03, -4.2637e-03, -4.8360e-02, -1.4687e-02, -7.7640e-02,\n",
      "         2.1468e-02,  5.0180e-02,  7.9491e-02,  3.4221e-03,  1.1680e-02,\n",
      "         1.6833e-02,  2.6214e-02,  1.0465e-02,  3.2932e-02,  3.4015e-02,\n",
      "         7.6219e-02, -3.4884e-02,  2.4001e-02, -1.1348e-02,  2.6985e-02,\n",
      "         4.0914e-02,  3.1581e-02, -3.8674e-02, -6.4071e-03,  7.0027e-03,\n",
      "         1.1798e-03,  3.4850e-02,  2.1044e-03,  3.9685e-03,  1.5969e-02,\n",
      "         5.6661e-03,  8.1699e-02, -1.6966e-02,  4.7393e-02,  7.8867e-02,\n",
      "        -3.8169e-02, -2.5178e-02, -1.4150e-02,  2.8211e-02, -6.6688e-02,\n",
      "         5.1222e-04, -2.9664e-03,  5.2096e-02, -3.5175e-02, -7.8136e-03,\n",
      "        -5.3496e-02,  5.6062e-02,  4.3152e-02,  5.5398e-02,  4.8248e-02,\n",
      "         3.9591e-03, -1.9798e-02,  8.9442e-04,  7.0218e-03,  2.0386e-03,\n",
      "        -1.2801e-02,  8.5517e-02, -3.9246e-02,  4.5830e-02,  7.9049e-02,\n",
      "         1.5314e-02,  8.2345e-03, -6.8764e-02,  5.5208e-02, -3.9082e-02,\n",
      "         4.2930e-02, -1.8656e-02,  1.3317e-02,  2.4929e-02,  3.5190e-02,\n",
      "         3.3067e-03,  5.7182e-02,  9.0350e-03, -4.5536e-02, -2.7500e-02,\n",
      "         1.6294e-02,  3.2758e-02, -1.8801e-02, -3.9581e-02, -1.1305e-02,\n",
      "        -5.9050e-02,  4.3694e-02,  2.6593e-02,  4.2260e-02,  3.3506e-02,\n",
      "         1.0396e-02,  4.6709e-02, -4.3051e-03,  3.0960e-02,  5.6681e-02,\n",
      "        -2.8934e-02, -2.9346e-02,  3.0304e-02, -5.6786e-03, -1.7422e-02,\n",
      "        -1.6310e-03, -3.8774e-02, -4.6841e-02,  8.4425e-02,  2.7806e-02,\n",
      "        -9.1840e-03,  7.4236e-03, -7.0039e-02, -2.2907e-02,  3.0743e-02,\n",
      "         2.0662e-02,  4.7117e-02, -9.4344e-03, -1.3854e-03, -4.1749e-02,\n",
      "        -1.3856e-02,  1.0228e-02,  1.6243e-03, -2.9525e-02,  2.5118e-02,\n",
      "         7.7568e-03,  2.5349e-02,  2.6093e-02,  6.4307e-03, -7.9797e-04,\n",
      "         2.9723e-03, -2.8254e-05, -2.8138e-02,  1.5822e-03,  7.0802e-02,\n",
      "        -8.4412e-02,  2.6593e-02,  3.5892e-02,  1.1534e-01, -2.2288e-02,\n",
      "         4.2196e-02, -6.7242e-02, -5.1257e-03,  8.2052e-02,  5.1861e-02,\n",
      "         3.2372e-02, -4.7300e-02, -1.2120e-02, -1.3322e-03, -1.4309e-03,\n",
      "         6.4946e-02,  8.1706e-03, -2.6549e-02, -4.5452e-03, -2.7407e-03,\n",
      "         2.0829e-02, -8.4927e-03,  1.4288e-02, -5.2533e-04,  1.1407e-01,\n",
      "        -1.5032e-02,  4.5042e-02,  5.8895e-02, -2.3059e-02,  1.4094e-02,\n",
      "         1.8987e-01,  5.7224e-02,  1.6406e-02, -4.6012e-02, -6.0015e-02,\n",
      "         1.2348e-02,  6.1891e-02, -7.0391e-02, -3.7737e-02, -6.4988e-02,\n",
      "         3.9830e-02, -1.7974e-02,  1.7323e-02, -5.3118e-02,  2.4261e-02,\n",
      "         2.6491e-02,  6.0360e-02,  4.6814e-02, -7.4205e-03,  4.1215e-02,\n",
      "        -1.0360e-02, -2.4115e-02,  3.4287e-02, -4.3812e-03,  2.3738e-02,\n",
      "        -2.0599e-02,  1.8422e-03, -9.7818e-03, -7.1783e-03,  9.2471e-03,\n",
      "         1.0823e-02,  4.6503e-02,  6.3393e-02, -3.3712e-02, -1.3648e-02,\n",
      "         3.9053e-02,  5.0069e-03, -7.1392e-02,  6.1481e-03, -1.0840e-02,\n",
      "        -4.8096e-02, -1.2761e-01, -5.8285e-03, -2.2643e-02,  3.4815e-02,\n",
      "        -2.6809e-02, -1.9015e-02, -9.2954e-03,  6.8209e-03, -7.9699e-02,\n",
      "        -3.5427e-03, -8.2851e-03,  3.3330e-02, -6.3670e-02, -2.8119e-02,\n",
      "        -2.8864e-02, -6.0897e-03,  4.4508e-02, -3.0696e-02, -5.8159e-02,\n",
      "        -3.9627e-02, -3.3514e-02, -3.6645e-02, -4.3057e-02,  4.6465e-02,\n",
      "         2.7854e-02,  1.6989e-02,  2.2632e-02, -3.5795e-02,  1.6329e-02,\n",
      "         8.8494e-03,  4.1144e-02,  1.9853e-02, -1.6950e-02, -2.1809e-02,\n",
      "        -2.4577e-02,  3.5698e-02, -4.6165e-02, -1.4327e-02,  2.8488e-02,\n",
      "        -3.4751e-02, -5.6424e-02,  5.9838e-03, -1.7544e-02,  1.2047e-02,\n",
      "        -6.4800e-02, -9.9943e-02,  2.5086e-02, -6.8986e-02, -4.6832e-02,\n",
      "        -1.5625e-02, -2.1051e-02, -2.9185e-02, -2.8882e-02, -5.0113e-02,\n",
      "         6.6699e-02, -4.6141e-02, -2.1035e-02, -1.1277e-02,  2.7186e-02,\n",
      "         1.8797e-02, -5.9026e-02,  2.5572e-02,  3.4405e-02, -1.4859e-02,\n",
      "        -1.6366e-03, -4.9773e-02,  1.1045e-03, -4.4286e-02,  4.1144e-02,\n",
      "         1.2594e-02, -2.5241e-02, -2.1755e-02,  3.0467e-02, -2.3654e-02,\n",
      "        -2.8662e-02,  1.7597e-02, -6.1662e-02,  2.8182e-02, -1.3579e-02,\n",
      "         3.9848e-02, -1.8343e-02,  1.1339e-02, -2.5500e-02, -2.3949e-03,\n",
      "        -1.9483e-02, -1.6023e-02,  1.1133e-02,  5.0909e-02, -4.1193e-03,\n",
      "         2.9126e-02, -7.4441e-02, -5.4954e-02, -1.0841e-01,  1.8761e-02,\n",
      "         2.3431e-03,  9.4917e-03, -7.5223e-02,  8.5813e-03,  3.2226e-02,\n",
      "         4.3220e-02, -4.2336e-02,  8.1383e-03,  1.5345e-02,  1.1702e-02,\n",
      "        -1.1270e-02, -1.7999e-02, -2.2662e-02, -1.0237e-02,  2.4904e-02,\n",
      "        -4.5490e-02,  4.6850e-02, -7.9838e-03, -3.4699e-02,  1.6381e-02,\n",
      "        -3.4620e-02,  2.1963e-02,  3.7009e-02,  3.8702e-03, -1.9867e-03,\n",
      "        -1.3665e-02, -2.2458e-02, -2.7765e-02, -2.2798e-02, -1.4245e-02,\n",
      "         9.3492e-02, -4.6860e-02, -3.3008e-02, -3.9704e-02,  2.4536e-02,\n",
      "        -8.1992e-03, -2.0045e-02, -5.8578e-02,  9.0458e-03, -2.4972e-02,\n",
      "         2.1261e-02,  7.4998e-02, -3.2376e-02,  7.6386e-03, -2.0099e-02,\n",
      "        -3.7028e-02,  1.8793e-02, -1.3785e-02,  4.8375e-02, -2.6933e-02,\n",
      "         6.1847e-02, -1.7594e-02, -7.3618e-02, -7.3679e-02, -7.7489e-02,\n",
      "         2.1812e-02, -1.0620e-02, -1.3314e-02,  1.0756e-02,  5.2580e-03,\n",
      "        -3.5933e-02, -1.1781e-02, -3.4760e-02,  2.4134e-02, -2.1571e-03,\n",
      "        -9.8593e-02,  3.5996e-02,  1.9136e-03, -2.1564e-02, -8.3271e-03,\n",
      "        -1.0452e-02,  6.1113e-02,  1.5107e-02, -3.7103e-02,  3.9860e-02,\n",
      "        -1.3142e-02,  9.4543e-02, -2.9834e-02,  1.0212e-02, -4.2544e-02,\n",
      "         1.7158e-02, -3.4540e-02, -1.3944e-02,  7.9524e-02, -4.8643e-03,\n",
      "         2.2697e-02,  7.5833e-03, -4.1894e-02])\n"
     ]
    }
   ],
   "source": [
    "token_i=4\n",
    "layer_i=4\n",
    "vec=token_embeddings[4][5]\n",
    "print(vec)"
   ]
  },
  {
   "cell_type": "code",
   "execution_count": 34,
   "metadata": {
    "id": "8HCBCAPP6W5C"
   },
   "outputs": [],
   "source": [
    "token_vecs_cat = []\n",
    "for token in token_embeddings:\n",
    "    cat_vec = torch.cat((token[-1], token[-2], token[-3], token[-4]), dim=0)\n",
    "    token_vecs_cat.append(cat_vec)"
   ]
  },
  {
   "cell_type": "code",
   "execution_count": 38,
   "metadata": {
    "colab": {
     "base_uri": "https://localhost:8080/"
    },
    "id": "4rxLTSDW6W1D",
    "outputId": "92839203-8ff0-46f2-ac26-4968eaa77d85"
   },
   "outputs": [
    {
     "name": "stdout",
     "output_type": "stream",
     "text": [
      "How are you\n",
      "similarly 1.0\n",
      "similarly -0.24621014297008514\n",
      "similarly 0.6874715089797974\n"
     ]
    }
   ],
   "source": [
    "from scipy.spatial.distance import cosine\n",
    "print(text)\n",
    "similar= 1 - cosine(token_vecs_cat[0][:5], token_vecs_cat[0][:5])\n",
    "print(\"similarly\",similar)\n",
    "similar= 1 - cosine(token_vecs_cat[0][:5], token_vecs_cat[1][:5])\n",
    "print(\"similarly\",similar)\n",
    "similar= 1 - cosine(token_vecs_cat[0][:5], token_vecs_cat[4][:5])\n",
    "print(\"similarly\",similar)\n",
    "\n"
   ]
  },
  {
   "cell_type": "code",
   "execution_count": null,
   "metadata": {
    "id": "jziU_FSs6WxS"
   },
   "outputs": [],
   "source": []
  },
  {
   "cell_type": "code",
   "execution_count": null,
   "metadata": {
    "id": "ovrC1f-V6Wp5"
   },
   "outputs": [],
   "source": []
  },
  {
   "cell_type": "code",
   "execution_count": null,
   "metadata": {
    "id": "hM5AK5l86WeD"
   },
   "outputs": [],
   "source": []
  }
 ],
 "metadata": {
  "colab": {
   "collapsed_sections": [],
   "name": "Prabal_Ghosh_AM.SC.P2CSC20040_assignment-4-NLP(bert base).ipynb",
   "provenance": []
  },
  "kernelspec": {
   "display_name": "Python 3 (ipykernel)",
   "language": "python",
   "name": "python3"
  },
  "language_info": {
   "codemirror_mode": {
    "name": "ipython",
    "version": 3
   },
   "file_extension": ".py",
   "mimetype": "text/x-python",
   "name": "python",
   "nbconvert_exporter": "python",
   "pygments_lexer": "ipython3",
   "version": "3.9.7"
  },
  "widgets": {
   "application/vnd.jupyter.widget-state+json": {
    "0982dc52412f41d599898ec41926de5b": {
     "model_module": "@jupyter-widgets/base",
     "model_module_version": "1.2.0",
     "model_name": "LayoutModel",
     "state": {
      "_model_module": "@jupyter-widgets/base",
      "_model_module_version": "1.2.0",
      "_model_name": "LayoutModel",
      "_view_count": null,
      "_view_module": "@jupyter-widgets/base",
      "_view_module_version": "1.2.0",
      "_view_name": "LayoutView",
      "align_content": null,
      "align_items": null,
      "align_self": null,
      "border": null,
      "bottom": null,
      "display": null,
      "flex": null,
      "flex_flow": null,
      "grid_area": null,
      "grid_auto_columns": null,
      "grid_auto_flow": null,
      "grid_auto_rows": null,
      "grid_column": null,
      "grid_gap": null,
      "grid_row": null,
      "grid_template_areas": null,
      "grid_template_columns": null,
      "grid_template_rows": null,
      "height": null,
      "justify_content": null,
      "justify_items": null,
      "left": null,
      "margin": null,
      "max_height": null,
      "max_width": null,
      "min_height": null,
      "min_width": null,
      "object_fit": null,
      "object_position": null,
      "order": null,
      "overflow": null,
      "overflow_x": null,
      "overflow_y": null,
      "padding": null,
      "right": null,
      "top": null,
      "visibility": null,
      "width": null
     }
    },
    "0b28f514da2d44239fb317083db85a0a": {
     "model_module": "@jupyter-widgets/controls",
     "model_module_version": "1.5.0",
     "model_name": "DescriptionStyleModel",
     "state": {
      "_model_module": "@jupyter-widgets/controls",
      "_model_module_version": "1.5.0",
      "_model_name": "DescriptionStyleModel",
      "_view_count": null,
      "_view_module": "@jupyter-widgets/base",
      "_view_module_version": "1.2.0",
      "_view_name": "StyleView",
      "description_width": ""
     }
    },
    "1ba2aae1abe14ec59a37b4ca6c5dabf8": {
     "model_module": "@jupyter-widgets/controls",
     "model_module_version": "1.5.0",
     "model_name": "DescriptionStyleModel",
     "state": {
      "_model_module": "@jupyter-widgets/controls",
      "_model_module_version": "1.5.0",
      "_model_name": "DescriptionStyleModel",
      "_view_count": null,
      "_view_module": "@jupyter-widgets/base",
      "_view_module_version": "1.2.0",
      "_view_name": "StyleView",
      "description_width": ""
     }
    },
    "1cb3883989854f53ab8d91da85a37a2d": {
     "model_module": "@jupyter-widgets/controls",
     "model_module_version": "1.5.0",
     "model_name": "HBoxModel",
     "state": {
      "_dom_classes": [],
      "_model_module": "@jupyter-widgets/controls",
      "_model_module_version": "1.5.0",
      "_model_name": "HBoxModel",
      "_view_count": null,
      "_view_module": "@jupyter-widgets/controls",
      "_view_module_version": "1.5.0",
      "_view_name": "HBoxView",
      "box_style": "",
      "children": [
       "IPY_MODEL_c8d686775d4642d18ae533af6180f52a",
       "IPY_MODEL_b97bec62ad6f43bd9707fcca7009f760",
       "IPY_MODEL_5a92b6e9f25a4d81b9c8e7da9ac08057"
      ],
      "layout": "IPY_MODEL_ba18b259da17482ba0b813c9746a342c"
     }
    },
    "1fc59f95ecc04bfbaa7d894d477558ab": {
     "model_module": "@jupyter-widgets/base",
     "model_module_version": "1.2.0",
     "model_name": "LayoutModel",
     "state": {
      "_model_module": "@jupyter-widgets/base",
      "_model_module_version": "1.2.0",
      "_model_name": "LayoutModel",
      "_view_count": null,
      "_view_module": "@jupyter-widgets/base",
      "_view_module_version": "1.2.0",
      "_view_name": "LayoutView",
      "align_content": null,
      "align_items": null,
      "align_self": null,
      "border": null,
      "bottom": null,
      "display": null,
      "flex": null,
      "flex_flow": null,
      "grid_area": null,
      "grid_auto_columns": null,
      "grid_auto_flow": null,
      "grid_auto_rows": null,
      "grid_column": null,
      "grid_gap": null,
      "grid_row": null,
      "grid_template_areas": null,
      "grid_template_columns": null,
      "grid_template_rows": null,
      "height": null,
      "justify_content": null,
      "justify_items": null,
      "left": null,
      "margin": null,
      "max_height": null,
      "max_width": null,
      "min_height": null,
      "min_width": null,
      "object_fit": null,
      "object_position": null,
      "order": null,
      "overflow": null,
      "overflow_x": null,
      "overflow_y": null,
      "padding": null,
      "right": null,
      "top": null,
      "visibility": null,
      "width": null
     }
    },
    "275e873c9f2240338556219814d927a2": {
     "model_module": "@jupyter-widgets/base",
     "model_module_version": "1.2.0",
     "model_name": "LayoutModel",
     "state": {
      "_model_module": "@jupyter-widgets/base",
      "_model_module_version": "1.2.0",
      "_model_name": "LayoutModel",
      "_view_count": null,
      "_view_module": "@jupyter-widgets/base",
      "_view_module_version": "1.2.0",
      "_view_name": "LayoutView",
      "align_content": null,
      "align_items": null,
      "align_self": null,
      "border": null,
      "bottom": null,
      "display": null,
      "flex": null,
      "flex_flow": null,
      "grid_area": null,
      "grid_auto_columns": null,
      "grid_auto_flow": null,
      "grid_auto_rows": null,
      "grid_column": null,
      "grid_gap": null,
      "grid_row": null,
      "grid_template_areas": null,
      "grid_template_columns": null,
      "grid_template_rows": null,
      "height": null,
      "justify_content": null,
      "justify_items": null,
      "left": null,
      "margin": null,
      "max_height": null,
      "max_width": null,
      "min_height": null,
      "min_width": null,
      "object_fit": null,
      "object_position": null,
      "order": null,
      "overflow": null,
      "overflow_x": null,
      "overflow_y": null,
      "padding": null,
      "right": null,
      "top": null,
      "visibility": null,
      "width": null
     }
    },
    "2c0366add9d84fd99040476a13659ef6": {
     "model_module": "@jupyter-widgets/base",
     "model_module_version": "1.2.0",
     "model_name": "LayoutModel",
     "state": {
      "_model_module": "@jupyter-widgets/base",
      "_model_module_version": "1.2.0",
      "_model_name": "LayoutModel",
      "_view_count": null,
      "_view_module": "@jupyter-widgets/base",
      "_view_module_version": "1.2.0",
      "_view_name": "LayoutView",
      "align_content": null,
      "align_items": null,
      "align_self": null,
      "border": null,
      "bottom": null,
      "display": null,
      "flex": null,
      "flex_flow": null,
      "grid_area": null,
      "grid_auto_columns": null,
      "grid_auto_flow": null,
      "grid_auto_rows": null,
      "grid_column": null,
      "grid_gap": null,
      "grid_row": null,
      "grid_template_areas": null,
      "grid_template_columns": null,
      "grid_template_rows": null,
      "height": null,
      "justify_content": null,
      "justify_items": null,
      "left": null,
      "margin": null,
      "max_height": null,
      "max_width": null,
      "min_height": null,
      "min_width": null,
      "object_fit": null,
      "object_position": null,
      "order": null,
      "overflow": null,
      "overflow_x": null,
      "overflow_y": null,
      "padding": null,
      "right": null,
      "top": null,
      "visibility": null,
      "width": null
     }
    },
    "31bfb87cc239414db16d706e7870df5e": {
     "model_module": "@jupyter-widgets/controls",
     "model_module_version": "1.5.0",
     "model_name": "DescriptionStyleModel",
     "state": {
      "_model_module": "@jupyter-widgets/controls",
      "_model_module_version": "1.5.0",
      "_model_name": "DescriptionStyleModel",
      "_view_count": null,
      "_view_module": "@jupyter-widgets/base",
      "_view_module_version": "1.2.0",
      "_view_name": "StyleView",
      "description_width": ""
     }
    },
    "3a22e8111c814f9e8f8be9ac43905454": {
     "model_module": "@jupyter-widgets/base",
     "model_module_version": "1.2.0",
     "model_name": "LayoutModel",
     "state": {
      "_model_module": "@jupyter-widgets/base",
      "_model_module_version": "1.2.0",
      "_model_name": "LayoutModel",
      "_view_count": null,
      "_view_module": "@jupyter-widgets/base",
      "_view_module_version": "1.2.0",
      "_view_name": "LayoutView",
      "align_content": null,
      "align_items": null,
      "align_self": null,
      "border": null,
      "bottom": null,
      "display": null,
      "flex": null,
      "flex_flow": null,
      "grid_area": null,
      "grid_auto_columns": null,
      "grid_auto_flow": null,
      "grid_auto_rows": null,
      "grid_column": null,
      "grid_gap": null,
      "grid_row": null,
      "grid_template_areas": null,
      "grid_template_columns": null,
      "grid_template_rows": null,
      "height": null,
      "justify_content": null,
      "justify_items": null,
      "left": null,
      "margin": null,
      "max_height": null,
      "max_width": null,
      "min_height": null,
      "min_width": null,
      "object_fit": null,
      "object_position": null,
      "order": null,
      "overflow": null,
      "overflow_x": null,
      "overflow_y": null,
      "padding": null,
      "right": null,
      "top": null,
      "visibility": null,
      "width": null
     }
    },
    "3f39c58c96a74583bbbe1e9f37d51041": {
     "model_module": "@jupyter-widgets/controls",
     "model_module_version": "1.5.0",
     "model_name": "DescriptionStyleModel",
     "state": {
      "_model_module": "@jupyter-widgets/controls",
      "_model_module_version": "1.5.0",
      "_model_name": "DescriptionStyleModel",
      "_view_count": null,
      "_view_module": "@jupyter-widgets/base",
      "_view_module_version": "1.2.0",
      "_view_name": "StyleView",
      "description_width": ""
     }
    },
    "408bf48b5c384f2cad5b0ee62910832c": {
     "model_module": "@jupyter-widgets/controls",
     "model_module_version": "1.5.0",
     "model_name": "HTMLModel",
     "state": {
      "_dom_classes": [],
      "_model_module": "@jupyter-widgets/controls",
      "_model_module_version": "1.5.0",
      "_model_name": "HTMLModel",
      "_view_count": null,
      "_view_module": "@jupyter-widgets/controls",
      "_view_module_version": "1.5.0",
      "_view_name": "HTMLView",
      "description": "",
      "description_tooltip": null,
      "layout": "IPY_MODEL_775d24a9f0d0441cbe519d3fa366ee0f",
      "placeholder": "​",
      "style": "IPY_MODEL_0b28f514da2d44239fb317083db85a0a",
      "value": "Downloading: 100%"
     }
    },
    "460a0c64e14849e4975cefad5711cc17": {
     "model_module": "@jupyter-widgets/controls",
     "model_module_version": "1.5.0",
     "model_name": "FloatProgressModel",
     "state": {
      "_dom_classes": [],
      "_model_module": "@jupyter-widgets/controls",
      "_model_module_version": "1.5.0",
      "_model_name": "FloatProgressModel",
      "_view_count": null,
      "_view_module": "@jupyter-widgets/controls",
      "_view_module_version": "1.5.0",
      "_view_name": "ProgressView",
      "bar_style": "success",
      "description": "",
      "description_tooltip": null,
      "layout": "IPY_MODEL_fb817eb0f1f345f6bfe71ed1a98479da",
      "max": 28,
      "min": 0,
      "orientation": "horizontal",
      "style": "IPY_MODEL_6ad40ba1c1c44022846ef27071d899a5",
      "value": 28
     }
    },
    "4bf181aa63d043ae96c28799441738ba": {
     "model_module": "@jupyter-widgets/controls",
     "model_module_version": "1.5.0",
     "model_name": "DescriptionStyleModel",
     "state": {
      "_model_module": "@jupyter-widgets/controls",
      "_model_module_version": "1.5.0",
      "_model_name": "DescriptionStyleModel",
      "_view_count": null,
      "_view_module": "@jupyter-widgets/base",
      "_view_module_version": "1.2.0",
      "_view_name": "StyleView",
      "description_width": ""
     }
    },
    "4d8bc98b2cb64d3da99d3c54ecdb492e": {
     "model_module": "@jupyter-widgets/controls",
     "model_module_version": "1.5.0",
     "model_name": "HBoxModel",
     "state": {
      "_dom_classes": [],
      "_model_module": "@jupyter-widgets/controls",
      "_model_module_version": "1.5.0",
      "_model_name": "HBoxModel",
      "_view_count": null,
      "_view_module": "@jupyter-widgets/controls",
      "_view_module_version": "1.5.0",
      "_view_name": "HBoxView",
      "box_style": "",
      "children": [
       "IPY_MODEL_408bf48b5c384f2cad5b0ee62910832c",
       "IPY_MODEL_460a0c64e14849e4975cefad5711cc17",
       "IPY_MODEL_a47e714475ee4cb4a3d2d3bbdf995047"
      ],
      "layout": "IPY_MODEL_ae9cf636c79b4944be42aa344f2626ec"
     }
    },
    "4dfaac4fe50f4de0b7d51a07323346e6": {
     "model_module": "@jupyter-widgets/base",
     "model_module_version": "1.2.0",
     "model_name": "LayoutModel",
     "state": {
      "_model_module": "@jupyter-widgets/base",
      "_model_module_version": "1.2.0",
      "_model_name": "LayoutModel",
      "_view_count": null,
      "_view_module": "@jupyter-widgets/base",
      "_view_module_version": "1.2.0",
      "_view_name": "LayoutView",
      "align_content": null,
      "align_items": null,
      "align_self": null,
      "border": null,
      "bottom": null,
      "display": null,
      "flex": null,
      "flex_flow": null,
      "grid_area": null,
      "grid_auto_columns": null,
      "grid_auto_flow": null,
      "grid_auto_rows": null,
      "grid_column": null,
      "grid_gap": null,
      "grid_row": null,
      "grid_template_areas": null,
      "grid_template_columns": null,
      "grid_template_rows": null,
      "height": null,
      "justify_content": null,
      "justify_items": null,
      "left": null,
      "margin": null,
      "max_height": null,
      "max_width": null,
      "min_height": null,
      "min_width": null,
      "object_fit": null,
      "object_position": null,
      "order": null,
      "overflow": null,
      "overflow_x": null,
      "overflow_y": null,
      "padding": null,
      "right": null,
      "top": null,
      "visibility": null,
      "width": null
     }
    },
    "57507bd69ed440548bfe62597ba830ec": {
     "model_module": "@jupyter-widgets/controls",
     "model_module_version": "1.5.0",
     "model_name": "HBoxModel",
     "state": {
      "_dom_classes": [],
      "_model_module": "@jupyter-widgets/controls",
      "_model_module_version": "1.5.0",
      "_model_name": "HBoxModel",
      "_view_count": null,
      "_view_module": "@jupyter-widgets/controls",
      "_view_module_version": "1.5.0",
      "_view_name": "HBoxView",
      "box_style": "",
      "children": [
       "IPY_MODEL_6086bccf93dc422a83d2fc1356e927d4",
       "IPY_MODEL_f451aca8eef74269ad49e10b15390165",
       "IPY_MODEL_d67c2cf03079415eacb535679bd62e86"
      ],
      "layout": "IPY_MODEL_a404aa2025544746a666b44c186fdd95"
     }
    },
    "5a92b6e9f25a4d81b9c8e7da9ac08057": {
     "model_module": "@jupyter-widgets/controls",
     "model_module_version": "1.5.0",
     "model_name": "HTMLModel",
     "state": {
      "_dom_classes": [],
      "_model_module": "@jupyter-widgets/controls",
      "_model_module_version": "1.5.0",
      "_model_name": "HTMLModel",
      "_view_count": null,
      "_view_module": "@jupyter-widgets/controls",
      "_view_module_version": "1.5.0",
      "_view_name": "HTMLView",
      "description": "",
      "description_tooltip": null,
      "layout": "IPY_MODEL_5ceaf453d0e94859a636e83f6203e8a8",
      "placeholder": "​",
      "style": "IPY_MODEL_4bf181aa63d043ae96c28799441738ba",
      "value": " 440M/440M [00:11&lt;00:00, 37.1MB/s]"
     }
    },
    "5c802c49172344db9370adab80d8ee09": {
     "model_module": "@jupyter-widgets/controls",
     "model_module_version": "1.5.0",
     "model_name": "FloatProgressModel",
     "state": {
      "_dom_classes": [],
      "_model_module": "@jupyter-widgets/controls",
      "_model_module_version": "1.5.0",
      "_model_name": "FloatProgressModel",
      "_view_count": null,
      "_view_module": "@jupyter-widgets/controls",
      "_view_module_version": "1.5.0",
      "_view_name": "ProgressView",
      "bar_style": "success",
      "description": "",
      "description_tooltip": null,
      "layout": "IPY_MODEL_615fc219f9864f03af82e08619b147b8",
      "max": 231508,
      "min": 0,
      "orientation": "horizontal",
      "style": "IPY_MODEL_e6ab2aee71ab492793e3d4e264e98a2f",
      "value": 231508
     }
    },
    "5ceaf453d0e94859a636e83f6203e8a8": {
     "model_module": "@jupyter-widgets/base",
     "model_module_version": "1.2.0",
     "model_name": "LayoutModel",
     "state": {
      "_model_module": "@jupyter-widgets/base",
      "_model_module_version": "1.2.0",
      "_model_name": "LayoutModel",
      "_view_count": null,
      "_view_module": "@jupyter-widgets/base",
      "_view_module_version": "1.2.0",
      "_view_name": "LayoutView",
      "align_content": null,
      "align_items": null,
      "align_self": null,
      "border": null,
      "bottom": null,
      "display": null,
      "flex": null,
      "flex_flow": null,
      "grid_area": null,
      "grid_auto_columns": null,
      "grid_auto_flow": null,
      "grid_auto_rows": null,
      "grid_column": null,
      "grid_gap": null,
      "grid_row": null,
      "grid_template_areas": null,
      "grid_template_columns": null,
      "grid_template_rows": null,
      "height": null,
      "justify_content": null,
      "justify_items": null,
      "left": null,
      "margin": null,
      "max_height": null,
      "max_width": null,
      "min_height": null,
      "min_width": null,
      "object_fit": null,
      "object_position": null,
      "order": null,
      "overflow": null,
      "overflow_x": null,
      "overflow_y": null,
      "padding": null,
      "right": null,
      "top": null,
      "visibility": null,
      "width": null
     }
    },
    "6086bccf93dc422a83d2fc1356e927d4": {
     "model_module": "@jupyter-widgets/controls",
     "model_module_version": "1.5.0",
     "model_name": "HTMLModel",
     "state": {
      "_dom_classes": [],
      "_model_module": "@jupyter-widgets/controls",
      "_model_module_version": "1.5.0",
      "_model_name": "HTMLModel",
      "_view_count": null,
      "_view_module": "@jupyter-widgets/controls",
      "_view_module_version": "1.5.0",
      "_view_name": "HTMLView",
      "description": "",
      "description_tooltip": null,
      "layout": "IPY_MODEL_9fc9ee2640bc4b2eb3a1474b1fe9fb6e",
      "placeholder": "​",
      "style": "IPY_MODEL_3f39c58c96a74583bbbe1e9f37d51041",
      "value": "Downloading: 100%"
     }
    },
    "615fc219f9864f03af82e08619b147b8": {
     "model_module": "@jupyter-widgets/base",
     "model_module_version": "1.2.0",
     "model_name": "LayoutModel",
     "state": {
      "_model_module": "@jupyter-widgets/base",
      "_model_module_version": "1.2.0",
      "_model_name": "LayoutModel",
      "_view_count": null,
      "_view_module": "@jupyter-widgets/base",
      "_view_module_version": "1.2.0",
      "_view_name": "LayoutView",
      "align_content": null,
      "align_items": null,
      "align_self": null,
      "border": null,
      "bottom": null,
      "display": null,
      "flex": null,
      "flex_flow": null,
      "grid_area": null,
      "grid_auto_columns": null,
      "grid_auto_flow": null,
      "grid_auto_rows": null,
      "grid_column": null,
      "grid_gap": null,
      "grid_row": null,
      "grid_template_areas": null,
      "grid_template_columns": null,
      "grid_template_rows": null,
      "height": null,
      "justify_content": null,
      "justify_items": null,
      "left": null,
      "margin": null,
      "max_height": null,
      "max_width": null,
      "min_height": null,
      "min_width": null,
      "object_fit": null,
      "object_position": null,
      "order": null,
      "overflow": null,
      "overflow_x": null,
      "overflow_y": null,
      "padding": null,
      "right": null,
      "top": null,
      "visibility": null,
      "width": null
     }
    },
    "65f22e524f564aa1976b61efb68b0203": {
     "model_module": "@jupyter-widgets/base",
     "model_module_version": "1.2.0",
     "model_name": "LayoutModel",
     "state": {
      "_model_module": "@jupyter-widgets/base",
      "_model_module_version": "1.2.0",
      "_model_name": "LayoutModel",
      "_view_count": null,
      "_view_module": "@jupyter-widgets/base",
      "_view_module_version": "1.2.0",
      "_view_name": "LayoutView",
      "align_content": null,
      "align_items": null,
      "align_self": null,
      "border": null,
      "bottom": null,
      "display": null,
      "flex": null,
      "flex_flow": null,
      "grid_area": null,
      "grid_auto_columns": null,
      "grid_auto_flow": null,
      "grid_auto_rows": null,
      "grid_column": null,
      "grid_gap": null,
      "grid_row": null,
      "grid_template_areas": null,
      "grid_template_columns": null,
      "grid_template_rows": null,
      "height": null,
      "justify_content": null,
      "justify_items": null,
      "left": null,
      "margin": null,
      "max_height": null,
      "max_width": null,
      "min_height": null,
      "min_width": null,
      "object_fit": null,
      "object_position": null,
      "order": null,
      "overflow": null,
      "overflow_x": null,
      "overflow_y": null,
      "padding": null,
      "right": null,
      "top": null,
      "visibility": null,
      "width": null
     }
    },
    "69dba60d45c2400a819180962fa907f4": {
     "model_module": "@jupyter-widgets/controls",
     "model_module_version": "1.5.0",
     "model_name": "DescriptionStyleModel",
     "state": {
      "_model_module": "@jupyter-widgets/controls",
      "_model_module_version": "1.5.0",
      "_model_name": "DescriptionStyleModel",
      "_view_count": null,
      "_view_module": "@jupyter-widgets/base",
      "_view_module_version": "1.2.0",
      "_view_name": "StyleView",
      "description_width": ""
     }
    },
    "6ad40ba1c1c44022846ef27071d899a5": {
     "model_module": "@jupyter-widgets/controls",
     "model_module_version": "1.5.0",
     "model_name": "ProgressStyleModel",
     "state": {
      "_model_module": "@jupyter-widgets/controls",
      "_model_module_version": "1.5.0",
      "_model_name": "ProgressStyleModel",
      "_view_count": null,
      "_view_module": "@jupyter-widgets/base",
      "_view_module_version": "1.2.0",
      "_view_name": "StyleView",
      "bar_color": null,
      "description_width": ""
     }
    },
    "6dd06281b202492f96846535f5b23bea": {
     "model_module": "@jupyter-widgets/controls",
     "model_module_version": "1.5.0",
     "model_name": "DescriptionStyleModel",
     "state": {
      "_model_module": "@jupyter-widgets/controls",
      "_model_module_version": "1.5.0",
      "_model_name": "DescriptionStyleModel",
      "_view_count": null,
      "_view_module": "@jupyter-widgets/base",
      "_view_module_version": "1.2.0",
      "_view_name": "StyleView",
      "description_width": ""
     }
    },
    "775d24a9f0d0441cbe519d3fa366ee0f": {
     "model_module": "@jupyter-widgets/base",
     "model_module_version": "1.2.0",
     "model_name": "LayoutModel",
     "state": {
      "_model_module": "@jupyter-widgets/base",
      "_model_module_version": "1.2.0",
      "_model_name": "LayoutModel",
      "_view_count": null,
      "_view_module": "@jupyter-widgets/base",
      "_view_module_version": "1.2.0",
      "_view_name": "LayoutView",
      "align_content": null,
      "align_items": null,
      "align_self": null,
      "border": null,
      "bottom": null,
      "display": null,
      "flex": null,
      "flex_flow": null,
      "grid_area": null,
      "grid_auto_columns": null,
      "grid_auto_flow": null,
      "grid_auto_rows": null,
      "grid_column": null,
      "grid_gap": null,
      "grid_row": null,
      "grid_template_areas": null,
      "grid_template_columns": null,
      "grid_template_rows": null,
      "height": null,
      "justify_content": null,
      "justify_items": null,
      "left": null,
      "margin": null,
      "max_height": null,
      "max_width": null,
      "min_height": null,
      "min_width": null,
      "object_fit": null,
      "object_position": null,
      "order": null,
      "overflow": null,
      "overflow_x": null,
      "overflow_y": null,
      "padding": null,
      "right": null,
      "top": null,
      "visibility": null,
      "width": null
     }
    },
    "7790666fcd6e4d7793b8d9e86a150bc3": {
     "model_module": "@jupyter-widgets/base",
     "model_module_version": "1.2.0",
     "model_name": "LayoutModel",
     "state": {
      "_model_module": "@jupyter-widgets/base",
      "_model_module_version": "1.2.0",
      "_model_name": "LayoutModel",
      "_view_count": null,
      "_view_module": "@jupyter-widgets/base",
      "_view_module_version": "1.2.0",
      "_view_name": "LayoutView",
      "align_content": null,
      "align_items": null,
      "align_self": null,
      "border": null,
      "bottom": null,
      "display": null,
      "flex": null,
      "flex_flow": null,
      "grid_area": null,
      "grid_auto_columns": null,
      "grid_auto_flow": null,
      "grid_auto_rows": null,
      "grid_column": null,
      "grid_gap": null,
      "grid_row": null,
      "grid_template_areas": null,
      "grid_template_columns": null,
      "grid_template_rows": null,
      "height": null,
      "justify_content": null,
      "justify_items": null,
      "left": null,
      "margin": null,
      "max_height": null,
      "max_width": null,
      "min_height": null,
      "min_width": null,
      "object_fit": null,
      "object_position": null,
      "order": null,
      "overflow": null,
      "overflow_x": null,
      "overflow_y": null,
      "padding": null,
      "right": null,
      "top": null,
      "visibility": null,
      "width": null
     }
    },
    "7996d42de68d47c99e04380afb8404a4": {
     "model_module": "@jupyter-widgets/base",
     "model_module_version": "1.2.0",
     "model_name": "LayoutModel",
     "state": {
      "_model_module": "@jupyter-widgets/base",
      "_model_module_version": "1.2.0",
      "_model_name": "LayoutModel",
      "_view_count": null,
      "_view_module": "@jupyter-widgets/base",
      "_view_module_version": "1.2.0",
      "_view_name": "LayoutView",
      "align_content": null,
      "align_items": null,
      "align_self": null,
      "border": null,
      "bottom": null,
      "display": null,
      "flex": null,
      "flex_flow": null,
      "grid_area": null,
      "grid_auto_columns": null,
      "grid_auto_flow": null,
      "grid_auto_rows": null,
      "grid_column": null,
      "grid_gap": null,
      "grid_row": null,
      "grid_template_areas": null,
      "grid_template_columns": null,
      "grid_template_rows": null,
      "height": null,
      "justify_content": null,
      "justify_items": null,
      "left": null,
      "margin": null,
      "max_height": null,
      "max_width": null,
      "min_height": null,
      "min_width": null,
      "object_fit": null,
      "object_position": null,
      "order": null,
      "overflow": null,
      "overflow_x": null,
      "overflow_y": null,
      "padding": null,
      "right": null,
      "top": null,
      "visibility": null,
      "width": null
     }
    },
    "7d7b8bd5b9024d76af4410e31216e2a8": {
     "model_module": "@jupyter-widgets/base",
     "model_module_version": "1.2.0",
     "model_name": "LayoutModel",
     "state": {
      "_model_module": "@jupyter-widgets/base",
      "_model_module_version": "1.2.0",
      "_model_name": "LayoutModel",
      "_view_count": null,
      "_view_module": "@jupyter-widgets/base",
      "_view_module_version": "1.2.0",
      "_view_name": "LayoutView",
      "align_content": null,
      "align_items": null,
      "align_self": null,
      "border": null,
      "bottom": null,
      "display": null,
      "flex": null,
      "flex_flow": null,
      "grid_area": null,
      "grid_auto_columns": null,
      "grid_auto_flow": null,
      "grid_auto_rows": null,
      "grid_column": null,
      "grid_gap": null,
      "grid_row": null,
      "grid_template_areas": null,
      "grid_template_columns": null,
      "grid_template_rows": null,
      "height": null,
      "justify_content": null,
      "justify_items": null,
      "left": null,
      "margin": null,
      "max_height": null,
      "max_width": null,
      "min_height": null,
      "min_width": null,
      "object_fit": null,
      "object_position": null,
      "order": null,
      "overflow": null,
      "overflow_x": null,
      "overflow_y": null,
      "padding": null,
      "right": null,
      "top": null,
      "visibility": null,
      "width": null
     }
    },
    "8438b3cf9ba947bca5f48611a9fad177": {
     "model_module": "@jupyter-widgets/controls",
     "model_module_version": "1.5.0",
     "model_name": "DescriptionStyleModel",
     "state": {
      "_model_module": "@jupyter-widgets/controls",
      "_model_module_version": "1.5.0",
      "_model_name": "DescriptionStyleModel",
      "_view_count": null,
      "_view_module": "@jupyter-widgets/base",
      "_view_module_version": "1.2.0",
      "_view_name": "StyleView",
      "description_width": ""
     }
    },
    "852aeb63d15b4dd6a15487e5c927e82f": {
     "model_module": "@jupyter-widgets/controls",
     "model_module_version": "1.5.0",
     "model_name": "HTMLModel",
     "state": {
      "_dom_classes": [],
      "_model_module": "@jupyter-widgets/controls",
      "_model_module_version": "1.5.0",
      "_model_name": "HTMLModel",
      "_view_count": null,
      "_view_module": "@jupyter-widgets/controls",
      "_view_module_version": "1.5.0",
      "_view_name": "HTMLView",
      "description": "",
      "description_tooltip": null,
      "layout": "IPY_MODEL_3a22e8111c814f9e8f8be9ac43905454",
      "placeholder": "​",
      "style": "IPY_MODEL_96cf8b6ba41346d6917558c08c639838",
      "value": "Downloading: 100%"
     }
    },
    "9670067b0f1f421a9908144279ea28b9": {
     "model_module": "@jupyter-widgets/controls",
     "model_module_version": "1.5.0",
     "model_name": "DescriptionStyleModel",
     "state": {
      "_model_module": "@jupyter-widgets/controls",
      "_model_module_version": "1.5.0",
      "_model_name": "DescriptionStyleModel",
      "_view_count": null,
      "_view_module": "@jupyter-widgets/base",
      "_view_module_version": "1.2.0",
      "_view_name": "StyleView",
      "description_width": ""
     }
    },
    "96cf8b6ba41346d6917558c08c639838": {
     "model_module": "@jupyter-widgets/controls",
     "model_module_version": "1.5.0",
     "model_name": "DescriptionStyleModel",
     "state": {
      "_model_module": "@jupyter-widgets/controls",
      "_model_module_version": "1.5.0",
      "_model_name": "DescriptionStyleModel",
      "_view_count": null,
      "_view_module": "@jupyter-widgets/base",
      "_view_module_version": "1.2.0",
      "_view_name": "StyleView",
      "description_width": ""
     }
    },
    "9ba8a135de764ea09eee2ced52358e01": {
     "model_module": "@jupyter-widgets/controls",
     "model_module_version": "1.5.0",
     "model_name": "FloatProgressModel",
     "state": {
      "_dom_classes": [],
      "_model_module": "@jupyter-widgets/controls",
      "_model_module_version": "1.5.0",
      "_model_name": "FloatProgressModel",
      "_view_count": null,
      "_view_module": "@jupyter-widgets/controls",
      "_view_module_version": "1.5.0",
      "_view_name": "ProgressView",
      "bar_style": "success",
      "description": "",
      "description_tooltip": null,
      "layout": "IPY_MODEL_275e873c9f2240338556219814d927a2",
      "max": 466062,
      "min": 0,
      "orientation": "horizontal",
      "style": "IPY_MODEL_adcde1b6f69042d29af14cf475597170",
      "value": 466062
     }
    },
    "9fc9ee2640bc4b2eb3a1474b1fe9fb6e": {
     "model_module": "@jupyter-widgets/base",
     "model_module_version": "1.2.0",
     "model_name": "LayoutModel",
     "state": {
      "_model_module": "@jupyter-widgets/base",
      "_model_module_version": "1.2.0",
      "_model_name": "LayoutModel",
      "_view_count": null,
      "_view_module": "@jupyter-widgets/base",
      "_view_module_version": "1.2.0",
      "_view_name": "LayoutView",
      "align_content": null,
      "align_items": null,
      "align_self": null,
      "border": null,
      "bottom": null,
      "display": null,
      "flex": null,
      "flex_flow": null,
      "grid_area": null,
      "grid_auto_columns": null,
      "grid_auto_flow": null,
      "grid_auto_rows": null,
      "grid_column": null,
      "grid_gap": null,
      "grid_row": null,
      "grid_template_areas": null,
      "grid_template_columns": null,
      "grid_template_rows": null,
      "height": null,
      "justify_content": null,
      "justify_items": null,
      "left": null,
      "margin": null,
      "max_height": null,
      "max_width": null,
      "min_height": null,
      "min_width": null,
      "object_fit": null,
      "object_position": null,
      "order": null,
      "overflow": null,
      "overflow_x": null,
      "overflow_y": null,
      "padding": null,
      "right": null,
      "top": null,
      "visibility": null,
      "width": null
     }
    },
    "a404aa2025544746a666b44c186fdd95": {
     "model_module": "@jupyter-widgets/base",
     "model_module_version": "1.2.0",
     "model_name": "LayoutModel",
     "state": {
      "_model_module": "@jupyter-widgets/base",
      "_model_module_version": "1.2.0",
      "_model_name": "LayoutModel",
      "_view_count": null,
      "_view_module": "@jupyter-widgets/base",
      "_view_module_version": "1.2.0",
      "_view_name": "LayoutView",
      "align_content": null,
      "align_items": null,
      "align_self": null,
      "border": null,
      "bottom": null,
      "display": null,
      "flex": null,
      "flex_flow": null,
      "grid_area": null,
      "grid_auto_columns": null,
      "grid_auto_flow": null,
      "grid_auto_rows": null,
      "grid_column": null,
      "grid_gap": null,
      "grid_row": null,
      "grid_template_areas": null,
      "grid_template_columns": null,
      "grid_template_rows": null,
      "height": null,
      "justify_content": null,
      "justify_items": null,
      "left": null,
      "margin": null,
      "max_height": null,
      "max_width": null,
      "min_height": null,
      "min_width": null,
      "object_fit": null,
      "object_position": null,
      "order": null,
      "overflow": null,
      "overflow_x": null,
      "overflow_y": null,
      "padding": null,
      "right": null,
      "top": null,
      "visibility": null,
      "width": null
     }
    },
    "a47e714475ee4cb4a3d2d3bbdf995047": {
     "model_module": "@jupyter-widgets/controls",
     "model_module_version": "1.5.0",
     "model_name": "HTMLModel",
     "state": {
      "_dom_classes": [],
      "_model_module": "@jupyter-widgets/controls",
      "_model_module_version": "1.5.0",
      "_model_name": "HTMLModel",
      "_view_count": null,
      "_view_module": "@jupyter-widgets/controls",
      "_view_module_version": "1.5.0",
      "_view_name": "HTMLView",
      "description": "",
      "description_tooltip": null,
      "layout": "IPY_MODEL_ec618f12d77741d68106c7e5f6072598",
      "placeholder": "​",
      "style": "IPY_MODEL_1ba2aae1abe14ec59a37b4ca6c5dabf8",
      "value": " 28.0/28.0 [00:00&lt;00:00, 625B/s]"
     }
    },
    "a87b5f80aacd45a587b5912cf2d08326": {
     "model_module": "@jupyter-widgets/base",
     "model_module_version": "1.2.0",
     "model_name": "LayoutModel",
     "state": {
      "_model_module": "@jupyter-widgets/base",
      "_model_module_version": "1.2.0",
      "_model_name": "LayoutModel",
      "_view_count": null,
      "_view_module": "@jupyter-widgets/base",
      "_view_module_version": "1.2.0",
      "_view_name": "LayoutView",
      "align_content": null,
      "align_items": null,
      "align_self": null,
      "border": null,
      "bottom": null,
      "display": null,
      "flex": null,
      "flex_flow": null,
      "grid_area": null,
      "grid_auto_columns": null,
      "grid_auto_flow": null,
      "grid_auto_rows": null,
      "grid_column": null,
      "grid_gap": null,
      "grid_row": null,
      "grid_template_areas": null,
      "grid_template_columns": null,
      "grid_template_rows": null,
      "height": null,
      "justify_content": null,
      "justify_items": null,
      "left": null,
      "margin": null,
      "max_height": null,
      "max_width": null,
      "min_height": null,
      "min_width": null,
      "object_fit": null,
      "object_position": null,
      "order": null,
      "overflow": null,
      "overflow_x": null,
      "overflow_y": null,
      "padding": null,
      "right": null,
      "top": null,
      "visibility": null,
      "width": null
     }
    },
    "adc4b8ed0f6f4c78b345baa1326b3860": {
     "model_module": "@jupyter-widgets/controls",
     "model_module_version": "1.5.0",
     "model_name": "HBoxModel",
     "state": {
      "_dom_classes": [],
      "_model_module": "@jupyter-widgets/controls",
      "_model_module_version": "1.5.0",
      "_model_name": "HBoxModel",
      "_view_count": null,
      "_view_module": "@jupyter-widgets/controls",
      "_view_module_version": "1.5.0",
      "_view_name": "HBoxView",
      "box_style": "",
      "children": [
       "IPY_MODEL_b72f1540ad674849833dfa9430086e03",
       "IPY_MODEL_9ba8a135de764ea09eee2ced52358e01",
       "IPY_MODEL_d3c03b4503f54d58b89bd214a938edfe"
      ],
      "layout": "IPY_MODEL_7996d42de68d47c99e04380afb8404a4"
     }
    },
    "adcde1b6f69042d29af14cf475597170": {
     "model_module": "@jupyter-widgets/controls",
     "model_module_version": "1.5.0",
     "model_name": "ProgressStyleModel",
     "state": {
      "_model_module": "@jupyter-widgets/controls",
      "_model_module_version": "1.5.0",
      "_model_name": "ProgressStyleModel",
      "_view_count": null,
      "_view_module": "@jupyter-widgets/base",
      "_view_module_version": "1.2.0",
      "_view_name": "StyleView",
      "bar_color": null,
      "description_width": ""
     }
    },
    "adf4c21232e74867ad85729ce16961a6": {
     "model_module": "@jupyter-widgets/controls",
     "model_module_version": "1.5.0",
     "model_name": "HTMLModel",
     "state": {
      "_dom_classes": [],
      "_model_module": "@jupyter-widgets/controls",
      "_model_module_version": "1.5.0",
      "_model_name": "HTMLModel",
      "_view_count": null,
      "_view_module": "@jupyter-widgets/controls",
      "_view_module_version": "1.5.0",
      "_view_name": "HTMLView",
      "description": "",
      "description_tooltip": null,
      "layout": "IPY_MODEL_7d7b8bd5b9024d76af4410e31216e2a8",
      "placeholder": "​",
      "style": "IPY_MODEL_31bfb87cc239414db16d706e7870df5e",
      "value": " 232k/232k [00:00&lt;00:00, 828kB/s]"
     }
    },
    "ae9cf636c79b4944be42aa344f2626ec": {
     "model_module": "@jupyter-widgets/base",
     "model_module_version": "1.2.0",
     "model_name": "LayoutModel",
     "state": {
      "_model_module": "@jupyter-widgets/base",
      "_model_module_version": "1.2.0",
      "_model_name": "LayoutModel",
      "_view_count": null,
      "_view_module": "@jupyter-widgets/base",
      "_view_module_version": "1.2.0",
      "_view_name": "LayoutView",
      "align_content": null,
      "align_items": null,
      "align_self": null,
      "border": null,
      "bottom": null,
      "display": null,
      "flex": null,
      "flex_flow": null,
      "grid_area": null,
      "grid_auto_columns": null,
      "grid_auto_flow": null,
      "grid_auto_rows": null,
      "grid_column": null,
      "grid_gap": null,
      "grid_row": null,
      "grid_template_areas": null,
      "grid_template_columns": null,
      "grid_template_rows": null,
      "height": null,
      "justify_content": null,
      "justify_items": null,
      "left": null,
      "margin": null,
      "max_height": null,
      "max_width": null,
      "min_height": null,
      "min_width": null,
      "object_fit": null,
      "object_position": null,
      "order": null,
      "overflow": null,
      "overflow_x": null,
      "overflow_y": null,
      "padding": null,
      "right": null,
      "top": null,
      "visibility": null,
      "width": null
     }
    },
    "b72f1540ad674849833dfa9430086e03": {
     "model_module": "@jupyter-widgets/controls",
     "model_module_version": "1.5.0",
     "model_name": "HTMLModel",
     "state": {
      "_dom_classes": [],
      "_model_module": "@jupyter-widgets/controls",
      "_model_module_version": "1.5.0",
      "_model_name": "HTMLModel",
      "_view_count": null,
      "_view_module": "@jupyter-widgets/controls",
      "_view_module_version": "1.5.0",
      "_view_name": "HTMLView",
      "description": "",
      "description_tooltip": null,
      "layout": "IPY_MODEL_a87b5f80aacd45a587b5912cf2d08326",
      "placeholder": "​",
      "style": "IPY_MODEL_9670067b0f1f421a9908144279ea28b9",
      "value": "Downloading: 100%"
     }
    },
    "b92ec637029e468f840aeb3663641b43": {
     "model_module": "@jupyter-widgets/controls",
     "model_module_version": "1.5.0",
     "model_name": "HBoxModel",
     "state": {
      "_dom_classes": [],
      "_model_module": "@jupyter-widgets/controls",
      "_model_module_version": "1.5.0",
      "_model_name": "HBoxModel",
      "_view_count": null,
      "_view_module": "@jupyter-widgets/controls",
      "_view_module_version": "1.5.0",
      "_view_name": "HBoxView",
      "box_style": "",
      "children": [
       "IPY_MODEL_852aeb63d15b4dd6a15487e5c927e82f",
       "IPY_MODEL_5c802c49172344db9370adab80d8ee09",
       "IPY_MODEL_adf4c21232e74867ad85729ce16961a6"
      ],
      "layout": "IPY_MODEL_4dfaac4fe50f4de0b7d51a07323346e6"
     }
    },
    "b97bec62ad6f43bd9707fcca7009f760": {
     "model_module": "@jupyter-widgets/controls",
     "model_module_version": "1.5.0",
     "model_name": "FloatProgressModel",
     "state": {
      "_dom_classes": [],
      "_model_module": "@jupyter-widgets/controls",
      "_model_module_version": "1.5.0",
      "_model_name": "FloatProgressModel",
      "_view_count": null,
      "_view_module": "@jupyter-widgets/controls",
      "_view_module_version": "1.5.0",
      "_view_name": "ProgressView",
      "bar_style": "success",
      "description": "",
      "description_tooltip": null,
      "layout": "IPY_MODEL_2c0366add9d84fd99040476a13659ef6",
      "max": 440473133,
      "min": 0,
      "orientation": "horizontal",
      "style": "IPY_MODEL_ee5693cc6d864419b2b98cafe266dcf1",
      "value": 440473133
     }
    },
    "ba18b259da17482ba0b813c9746a342c": {
     "model_module": "@jupyter-widgets/base",
     "model_module_version": "1.2.0",
     "model_name": "LayoutModel",
     "state": {
      "_model_module": "@jupyter-widgets/base",
      "_model_module_version": "1.2.0",
      "_model_name": "LayoutModel",
      "_view_count": null,
      "_view_module": "@jupyter-widgets/base",
      "_view_module_version": "1.2.0",
      "_view_name": "LayoutView",
      "align_content": null,
      "align_items": null,
      "align_self": null,
      "border": null,
      "bottom": null,
      "display": null,
      "flex": null,
      "flex_flow": null,
      "grid_area": null,
      "grid_auto_columns": null,
      "grid_auto_flow": null,
      "grid_auto_rows": null,
      "grid_column": null,
      "grid_gap": null,
      "grid_row": null,
      "grid_template_areas": null,
      "grid_template_columns": null,
      "grid_template_rows": null,
      "height": null,
      "justify_content": null,
      "justify_items": null,
      "left": null,
      "margin": null,
      "max_height": null,
      "max_width": null,
      "min_height": null,
      "min_width": null,
      "object_fit": null,
      "object_position": null,
      "order": null,
      "overflow": null,
      "overflow_x": null,
      "overflow_y": null,
      "padding": null,
      "right": null,
      "top": null,
      "visibility": null,
      "width": null
     }
    },
    "c8d686775d4642d18ae533af6180f52a": {
     "model_module": "@jupyter-widgets/controls",
     "model_module_version": "1.5.0",
     "model_name": "HTMLModel",
     "state": {
      "_dom_classes": [],
      "_model_module": "@jupyter-widgets/controls",
      "_model_module_version": "1.5.0",
      "_model_name": "HTMLModel",
      "_view_count": null,
      "_view_module": "@jupyter-widgets/controls",
      "_view_module_version": "1.5.0",
      "_view_name": "HTMLView",
      "description": "",
      "description_tooltip": null,
      "layout": "IPY_MODEL_65f22e524f564aa1976b61efb68b0203",
      "placeholder": "​",
      "style": "IPY_MODEL_69dba60d45c2400a819180962fa907f4",
      "value": "Downloading: 100%"
     }
    },
    "d3c03b4503f54d58b89bd214a938edfe": {
     "model_module": "@jupyter-widgets/controls",
     "model_module_version": "1.5.0",
     "model_name": "HTMLModel",
     "state": {
      "_dom_classes": [],
      "_model_module": "@jupyter-widgets/controls",
      "_model_module_version": "1.5.0",
      "_model_name": "HTMLModel",
      "_view_count": null,
      "_view_module": "@jupyter-widgets/controls",
      "_view_module_version": "1.5.0",
      "_view_name": "HTMLView",
      "description": "",
      "description_tooltip": null,
      "layout": "IPY_MODEL_7790666fcd6e4d7793b8d9e86a150bc3",
      "placeholder": "​",
      "style": "IPY_MODEL_8438b3cf9ba947bca5f48611a9fad177",
      "value": " 466k/466k [00:00&lt;00:00, 1.05MB/s]"
     }
    },
    "d67c2cf03079415eacb535679bd62e86": {
     "model_module": "@jupyter-widgets/controls",
     "model_module_version": "1.5.0",
     "model_name": "HTMLModel",
     "state": {
      "_dom_classes": [],
      "_model_module": "@jupyter-widgets/controls",
      "_model_module_version": "1.5.0",
      "_model_name": "HTMLModel",
      "_view_count": null,
      "_view_module": "@jupyter-widgets/controls",
      "_view_module_version": "1.5.0",
      "_view_name": "HTMLView",
      "description": "",
      "description_tooltip": null,
      "layout": "IPY_MODEL_1fc59f95ecc04bfbaa7d894d477558ab",
      "placeholder": "​",
      "style": "IPY_MODEL_6dd06281b202492f96846535f5b23bea",
      "value": " 570/570 [00:00&lt;00:00, 9.83kB/s]"
     }
    },
    "ddbab6d9cc89462aa3b0f2728925e19a": {
     "model_module": "@jupyter-widgets/controls",
     "model_module_version": "1.5.0",
     "model_name": "ProgressStyleModel",
     "state": {
      "_model_module": "@jupyter-widgets/controls",
      "_model_module_version": "1.5.0",
      "_model_name": "ProgressStyleModel",
      "_view_count": null,
      "_view_module": "@jupyter-widgets/base",
      "_view_module_version": "1.2.0",
      "_view_name": "StyleView",
      "bar_color": null,
      "description_width": ""
     }
    },
    "e6ab2aee71ab492793e3d4e264e98a2f": {
     "model_module": "@jupyter-widgets/controls",
     "model_module_version": "1.5.0",
     "model_name": "ProgressStyleModel",
     "state": {
      "_model_module": "@jupyter-widgets/controls",
      "_model_module_version": "1.5.0",
      "_model_name": "ProgressStyleModel",
      "_view_count": null,
      "_view_module": "@jupyter-widgets/base",
      "_view_module_version": "1.2.0",
      "_view_name": "StyleView",
      "bar_color": null,
      "description_width": ""
     }
    },
    "ec618f12d77741d68106c7e5f6072598": {
     "model_module": "@jupyter-widgets/base",
     "model_module_version": "1.2.0",
     "model_name": "LayoutModel",
     "state": {
      "_model_module": "@jupyter-widgets/base",
      "_model_module_version": "1.2.0",
      "_model_name": "LayoutModel",
      "_view_count": null,
      "_view_module": "@jupyter-widgets/base",
      "_view_module_version": "1.2.0",
      "_view_name": "LayoutView",
      "align_content": null,
      "align_items": null,
      "align_self": null,
      "border": null,
      "bottom": null,
      "display": null,
      "flex": null,
      "flex_flow": null,
      "grid_area": null,
      "grid_auto_columns": null,
      "grid_auto_flow": null,
      "grid_auto_rows": null,
      "grid_column": null,
      "grid_gap": null,
      "grid_row": null,
      "grid_template_areas": null,
      "grid_template_columns": null,
      "grid_template_rows": null,
      "height": null,
      "justify_content": null,
      "justify_items": null,
      "left": null,
      "margin": null,
      "max_height": null,
      "max_width": null,
      "min_height": null,
      "min_width": null,
      "object_fit": null,
      "object_position": null,
      "order": null,
      "overflow": null,
      "overflow_x": null,
      "overflow_y": null,
      "padding": null,
      "right": null,
      "top": null,
      "visibility": null,
      "width": null
     }
    },
    "ee5693cc6d864419b2b98cafe266dcf1": {
     "model_module": "@jupyter-widgets/controls",
     "model_module_version": "1.5.0",
     "model_name": "ProgressStyleModel",
     "state": {
      "_model_module": "@jupyter-widgets/controls",
      "_model_module_version": "1.5.0",
      "_model_name": "ProgressStyleModel",
      "_view_count": null,
      "_view_module": "@jupyter-widgets/base",
      "_view_module_version": "1.2.0",
      "_view_name": "StyleView",
      "bar_color": null,
      "description_width": ""
     }
    },
    "f451aca8eef74269ad49e10b15390165": {
     "model_module": "@jupyter-widgets/controls",
     "model_module_version": "1.5.0",
     "model_name": "FloatProgressModel",
     "state": {
      "_dom_classes": [],
      "_model_module": "@jupyter-widgets/controls",
      "_model_module_version": "1.5.0",
      "_model_name": "FloatProgressModel",
      "_view_count": null,
      "_view_module": "@jupyter-widgets/controls",
      "_view_module_version": "1.5.0",
      "_view_name": "ProgressView",
      "bar_style": "success",
      "description": "",
      "description_tooltip": null,
      "layout": "IPY_MODEL_0982dc52412f41d599898ec41926de5b",
      "max": 570,
      "min": 0,
      "orientation": "horizontal",
      "style": "IPY_MODEL_ddbab6d9cc89462aa3b0f2728925e19a",
      "value": 570
     }
    },
    "fb817eb0f1f345f6bfe71ed1a98479da": {
     "model_module": "@jupyter-widgets/base",
     "model_module_version": "1.2.0",
     "model_name": "LayoutModel",
     "state": {
      "_model_module": "@jupyter-widgets/base",
      "_model_module_version": "1.2.0",
      "_model_name": "LayoutModel",
      "_view_count": null,
      "_view_module": "@jupyter-widgets/base",
      "_view_module_version": "1.2.0",
      "_view_name": "LayoutView",
      "align_content": null,
      "align_items": null,
      "align_self": null,
      "border": null,
      "bottom": null,
      "display": null,
      "flex": null,
      "flex_flow": null,
      "grid_area": null,
      "grid_auto_columns": null,
      "grid_auto_flow": null,
      "grid_auto_rows": null,
      "grid_column": null,
      "grid_gap": null,
      "grid_row": null,
      "grid_template_areas": null,
      "grid_template_columns": null,
      "grid_template_rows": null,
      "height": null,
      "justify_content": null,
      "justify_items": null,
      "left": null,
      "margin": null,
      "max_height": null,
      "max_width": null,
      "min_height": null,
      "min_width": null,
      "object_fit": null,
      "object_position": null,
      "order": null,
      "overflow": null,
      "overflow_x": null,
      "overflow_y": null,
      "padding": null,
      "right": null,
      "top": null,
      "visibility": null,
      "width": null
     }
    }
   }
  }
 },
 "nbformat": 4,
 "nbformat_minor": 1
}
